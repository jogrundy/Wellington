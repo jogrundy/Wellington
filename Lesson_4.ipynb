{
 "cells": [
  {
   "cell_type": "markdown",
   "id": "6696d98b-49f9-4ba9-8016-a683c06991b1",
   "metadata": {},
   "source": [
    "# Introduction to Python in Chemistry Lesson 4"
   ]
  },
  {
   "cell_type": "markdown",
   "id": "bc156dcf",
   "metadata": {},
   "source": [
    "# Operators"
   ]
  },
  {
   "cell_type": "markdown",
   "id": "c3fa48a1",
   "metadata": {},
   "source": [
    "Operators include:\n",
    "- `+` plus, or concatenate\n",
    "- `-` minus\n",
    "- `*` multiply, or multiply concatenate\n",
    "- `/` divide\n",
    "- `**` power, so x**3 is x cubed\n",
    "- `%` modulo, gets the remainder after division"
   ]
  },
  {
   "cell_type": "markdown",
   "id": "d7449bad",
   "metadata": {},
   "source": [
    "Try each of them out on the variable `x` below, using the integer 4. The first two have been done for you."
   ]
  },
  {
   "cell_type": "code",
   "execution_count": 31,
   "id": "a72d1002",
   "metadata": {},
   "outputs": [
    {
     "data": {
      "text/plain": [
       "14"
      ]
     },
     "execution_count": 31,
     "metadata": {},
     "output_type": "execute_result"
    }
   ],
   "source": [
    "x = 10\n",
    "x+4\n"
   ]
  },
  {
   "cell_type": "code",
   "execution_count": 32,
   "id": "bffa971c",
   "metadata": {},
   "outputs": [
    {
     "data": {
      "text/plain": [
       "6"
      ]
     },
     "execution_count": 32,
     "metadata": {},
     "output_type": "execute_result"
    }
   ],
   "source": [
    "x-4"
   ]
  },
  {
   "cell_type": "code",
   "execution_count": 33,
   "id": "008ea98d",
   "metadata": {},
   "outputs": [],
   "source": [
    "# Your code here - use multiply *\n"
   ]
  },
  {
   "cell_type": "code",
   "execution_count": 34,
   "id": "35040743",
   "metadata": {},
   "outputs": [],
   "source": [
    "# your code here - use divide /\n"
   ]
  },
  {
   "cell_type": "code",
   "execution_count": 35,
   "id": "db57ac0e",
   "metadata": {},
   "outputs": [],
   "source": [
    "#Your code here - use power **\n"
   ]
  },
  {
   "cell_type": "code",
   "execution_count": 36,
   "id": "3e5d1231",
   "metadata": {},
   "outputs": [],
   "source": [
    "# Your code here - use modulo %\n"
   ]
  },
  {
   "cell_type": "markdown",
   "id": "d69aad92",
   "metadata": {},
   "source": [
    "Question\n",
    "\n",
    "- How would you check to see if a number is wholly divisble by another number, for example 4?"
   ]
  },
  {
   "cell_type": "code",
   "execution_count": 37,
   "id": "b7135c6f",
   "metadata": {},
   "outputs": [
    {
     "data": {
      "text/plain": [
       "False"
      ]
     },
     "execution_count": 37,
     "metadata": {},
     "output_type": "execute_result"
    }
   ],
   "source": [
    "# use this:\n",
    "x%4==0"
   ]
  },
  {
   "cell_type": "markdown",
   "id": "e96fe1f3",
   "metadata": {},
   "source": [
    "## Arrays and Plotting"
   ]
  },
  {
   "cell_type": "markdown",
   "id": "17623d25",
   "metadata": {},
   "source": [
    "We are going to have another look at lists"
   ]
  },
  {
   "cell_type": "code",
   "execution_count": 2,
   "id": "e56e87c4",
   "metadata": {},
   "outputs": [],
   "source": [
    "# 2\n",
    "nums = [1,2,3,4,5,6,7,8,9,10]"
   ]
  },
  {
   "cell_type": "markdown",
   "id": "1c65b2d6",
   "metadata": {},
   "source": [
    "The code above defines a list, and has the entries as numbers. \n"
   ]
  },
  {
   "cell_type": "markdown",
   "id": "aaf1af09",
   "metadata": {},
   "source": [
    "If i want to square each of the numbers one by one, I could use a for loop. \n"
   ]
  },
  {
   "cell_type": "markdown",
   "id": "6421e381",
   "metadata": {},
   "source": [
    "TODO: \n",
    "- Make a `for` loop to iterate though the array\n",
    "- each number should be multiplied by 2 and printed"
   ]
  },
  {
   "cell_type": "code",
   "execution_count": 4,
   "id": "8eb2c88b",
   "metadata": {},
   "outputs": [
    {
     "name": "stdout",
     "output_type": "stream",
     "text": [
      "2\n",
      "4\n",
      "6\n",
      "8\n",
      "10\n",
      "12\n",
      "14\n",
      "16\n",
      "18\n",
      "20\n"
     ]
    }
   ],
   "source": [
    "# Your code here\n",
    "for num in nums:\n",
    "    print(num*2)\n"
   ]
  },
  {
   "cell_type": "markdown",
   "id": "1ae62257",
   "metadata": {},
   "source": [
    "However this is rather inefficient, it would be nicer if we could just double the whole array. "
   ]
  },
  {
   "cell_type": "code",
   "execution_count": 3,
   "id": "47ec07de",
   "metadata": {},
   "outputs": [
    {
     "data": {
      "text/plain": [
       "[1, 2, 3, 4, 5, 6, 7, 8, 9, 10, 1, 2, 3, 4, 5, 6, 7, 8, 9, 10]"
      ]
     },
     "execution_count": 3,
     "metadata": {},
     "output_type": "execute_result"
    }
   ],
   "source": [
    "# 4 \n",
    "nums*2"
   ]
  },
  {
   "cell_type": "markdown",
   "id": "d56180e8",
   "metadata": {},
   "source": [
    "This is not what we wanted. Why has this happened? "
   ]
  },
  {
   "cell_type": "markdown",
   "id": "e619ab11",
   "metadata": {},
   "source": [
    "- Answer here\n",
    "\n",
    "multiplication just concatenates the same list on again, as many times as you multiply by. Just like with strings.\n",
    " "
   ]
  },
  {
   "cell_type": "code",
   "execution_count": 5,
   "id": "4c7f922b",
   "metadata": {},
   "outputs": [
    {
     "data": {
      "text/plain": [
       "[1, 2, 3, 4, 5, 6, 7, 8, 9, 10, 1, 2, 3, 4, 5, 6, 7, 8, 9, 10]"
      ]
     },
     "execution_count": 5,
     "metadata": {},
     "output_type": "execute_result"
    }
   ],
   "source": [
    "# 5\n",
    "nums+nums"
   ]
  },
  {
   "cell_type": "markdown",
   "id": "31aac168",
   "metadata": {},
   "source": [
    "TODO:\n",
    "- Try adding a value to the whole list\n",
    "- Try subtracting a value from the whole list\n",
    "- Try timesing the list by minus 1 (*-1)\n",
    "- Try dividing the list by 2\n",
    "- Try squaring the list (**2)\n",
    "- Try looking at the remainder after division by 2 for the list?\n",
    "- What happens for each one? "
   ]
  },
  {
   "cell_type": "code",
   "execution_count": 6,
   "id": "3de0f561",
   "metadata": {},
   "outputs": [
    {
     "ename": "TypeError",
     "evalue": "can only concatenate list (not \"int\") to list",
     "output_type": "error",
     "traceback": [
      "\u001b[0;31m---------------------------------------------------------------------------\u001b[0m",
      "\u001b[0;31mTypeError\u001b[0m                                 Traceback (most recent call last)",
      "\u001b[0;32m/var/folders/dl/pczkvbw15215r_302bklrz2m0000gq/T/ipykernel_98632/966170811.py\u001b[0m in \u001b[0;36m<module>\u001b[0;34m\u001b[0m\n\u001b[1;32m      1\u001b[0m \u001b[0;31m# 6\u001b[0m\u001b[0;34m\u001b[0m\u001b[0;34m\u001b[0m\u001b[0;34m\u001b[0m\u001b[0m\n\u001b[0;32m----> 2\u001b[0;31m \u001b[0mnums\u001b[0m\u001b[0;34m+\u001b[0m\u001b[0;36m1\u001b[0m\u001b[0;34m\u001b[0m\u001b[0;34m\u001b[0m\u001b[0m\n\u001b[0m",
      "\u001b[0;31mTypeError\u001b[0m: can only concatenate list (not \"int\") to list"
     ]
    }
   ],
   "source": [
    "# 6\n",
    "nums+1"
   ]
  },
  {
   "cell_type": "code",
   "execution_count": 7,
   "id": "a5fcfdea",
   "metadata": {},
   "outputs": [
    {
     "ename": "TypeError",
     "evalue": "unsupported operand type(s) for -: 'list' and 'int'",
     "output_type": "error",
     "traceback": [
      "\u001b[0;31m---------------------------------------------------------------------------\u001b[0m",
      "\u001b[0;31mTypeError\u001b[0m                                 Traceback (most recent call last)",
      "\u001b[0;32m/var/folders/dl/pczkvbw15215r_302bklrz2m0000gq/T/ipykernel_98632/854266129.py\u001b[0m in \u001b[0;36m<module>\u001b[0;34m\u001b[0m\n\u001b[1;32m      1\u001b[0m \u001b[0;31m# 7\u001b[0m\u001b[0;34m\u001b[0m\u001b[0;34m\u001b[0m\u001b[0;34m\u001b[0m\u001b[0m\n\u001b[0;32m----> 2\u001b[0;31m \u001b[0mnums\u001b[0m\u001b[0;34m-\u001b[0m\u001b[0;36m2\u001b[0m\u001b[0;34m\u001b[0m\u001b[0;34m\u001b[0m\u001b[0m\n\u001b[0m",
      "\u001b[0;31mTypeError\u001b[0m: unsupported operand type(s) for -: 'list' and 'int'"
     ]
    }
   ],
   "source": [
    "# 7\n",
    "nums-2"
   ]
  },
  {
   "cell_type": "code",
   "execution_count": 8,
   "id": "5fb1d386",
   "metadata": {},
   "outputs": [
    {
     "data": {
      "text/plain": [
       "[]"
      ]
     },
     "execution_count": 8,
     "metadata": {},
     "output_type": "execute_result"
    }
   ],
   "source": [
    "# 8\n",
    "nums*-1"
   ]
  },
  {
   "cell_type": "code",
   "execution_count": 9,
   "id": "cb9059a4",
   "metadata": {},
   "outputs": [
    {
     "ename": "TypeError",
     "evalue": "unsupported operand type(s) for ** or pow(): 'list' and 'int'",
     "output_type": "error",
     "traceback": [
      "\u001b[0;31m---------------------------------------------------------------------------\u001b[0m",
      "\u001b[0;31mTypeError\u001b[0m                                 Traceback (most recent call last)",
      "\u001b[0;32m/var/folders/dl/pczkvbw15215r_302bklrz2m0000gq/T/ipykernel_98632/2149067790.py\u001b[0m in \u001b[0;36m<module>\u001b[0;34m\u001b[0m\n\u001b[1;32m      1\u001b[0m \u001b[0;31m# 9\u001b[0m\u001b[0;34m\u001b[0m\u001b[0;34m\u001b[0m\u001b[0;34m\u001b[0m\u001b[0m\n\u001b[0;32m----> 2\u001b[0;31m \u001b[0mnums\u001b[0m\u001b[0;34m**\u001b[0m\u001b[0;36m2\u001b[0m\u001b[0;34m\u001b[0m\u001b[0;34m\u001b[0m\u001b[0m\n\u001b[0m",
      "\u001b[0;31mTypeError\u001b[0m: unsupported operand type(s) for ** or pow(): 'list' and 'int'"
     ]
    }
   ],
   "source": [
    "# 9\n",
    "nums**2"
   ]
  },
  {
   "cell_type": "markdown",
   "id": "e0c34a68",
   "metadata": {},
   "source": [
    "Lists are not designed to handle numbers in this way.\n",
    "\n",
    "We can use another sort of array, a numpy array. "
   ]
  },
  {
   "cell_type": "markdown",
   "id": "e4777b91",
   "metadata": {},
   "source": [
    "# Numpy Arrays"
   ]
  },
  {
   "cell_type": "code",
   "execution_count": 38,
   "id": "bada5172",
   "metadata": {},
   "outputs": [],
   "source": [
    "# need to import the numpy library.\n",
    "# this improts the library and gives it the nickname 'np' so i don't have to write it out each time\n",
    "import numpy as np\n",
    "\n",
    "arr = np.array(nums) \n",
    "# this initiallises another array using the list we already have"
   ]
  },
  {
   "cell_type": "markdown",
   "id": "31ab3941",
   "metadata": {},
   "source": [
    "Questions: \n",
    "\n",
    "1. Try adding a value to the whole array\n",
    "\n",
    "2. Try subtracting a value from the whole array\n",
    "\n",
    "3. Try timesing the array by minus 1\n",
    "\n",
    "4. Try squaring the array (**2)\n",
    "\n"
   ]
  },
  {
   "cell_type": "code",
   "execution_count": 39,
   "id": "2671a8cd",
   "metadata": {},
   "outputs": [
    {
     "data": {
      "text/plain": [
       "array([ 2,  3,  4,  5,  6,  7,  8,  9, 10, 11])"
      ]
     },
     "execution_count": 39,
     "metadata": {},
     "output_type": "execute_result"
    }
   ],
   "source": [
    "# Question 1\n",
    "arr+1"
   ]
  },
  {
   "cell_type": "code",
   "execution_count": 40,
   "id": "3af1d6aa",
   "metadata": {},
   "outputs": [
    {
     "data": {
      "text/plain": [
       "array([-2, -1,  0,  1,  2,  3,  4,  5,  6,  7])"
      ]
     },
     "execution_count": 40,
     "metadata": {},
     "output_type": "execute_result"
    }
   ],
   "source": [
    "# Question 2\n",
    "arr-3"
   ]
  },
  {
   "cell_type": "code",
   "execution_count": 41,
   "id": "94c96c5d",
   "metadata": {},
   "outputs": [
    {
     "data": {
      "text/plain": [
       "array([ -1,  -2,  -3,  -4,  -5,  -6,  -7,  -8,  -9, -10])"
      ]
     },
     "execution_count": 41,
     "metadata": {},
     "output_type": "execute_result"
    }
   ],
   "source": [
    "# Question 3\n",
    "arr*-1"
   ]
  },
  {
   "cell_type": "code",
   "execution_count": 42,
   "id": "511d1ec5",
   "metadata": {},
   "outputs": [
    {
     "name": "stdout",
     "output_type": "stream",
     "text": [
      "[  1   4   9  16  25  36  49  64  81 100]\n",
      "[  1   4   9  16  25  36  49  64  81 100]\n"
     ]
    }
   ],
   "source": [
    "# Question 4\n",
    "# can multiply the array with itself\n",
    "print(arr*arr)\n",
    "# or can use ** to mean power.. \n",
    "print(arr**2)\n"
   ]
  },
  {
   "cell_type": "markdown",
   "id": "68f40641",
   "metadata": {},
   "source": [
    "# Plotting"
   ]
  },
  {
   "cell_type": "markdown",
   "id": "f150ba6d",
   "metadata": {},
   "source": [
    "We can plot graphs of these arrays using the `matplotlib.pyplot` library. \n",
    "\n",
    "First you will need to import this library"
   ]
  },
  {
   "cell_type": "code",
   "execution_count": 18,
   "id": "2a65dcc5",
   "metadata": {},
   "outputs": [],
   "source": [
    "import matplotlib.pyplot as plt"
   ]
  },
  {
   "cell_type": "code",
   "execution_count": 44,
   "id": "46e85752",
   "metadata": {},
   "outputs": [
    {
     "data": {
      "image/png": "[encoded data removed]",
      "text/plain": [
       "<Figure size 432x288 with 1 Axes>"
      ]
     },
     "metadata": {
      "needs_background": "light"
     },
     "output_type": "display_data"
    }
   ],
   "source": [
    "# 15\n",
    "# the semi colon stops the expression returning an object. Try without and see what you get\n",
    "plt.plot(arr, arr**2, 'b');  # this plots points with x value my_arr, and y value my_arr**2"
   ]
  },
  {
   "cell_type": "markdown",
   "id": "b97316b9",
   "metadata": {},
   "source": [
    "Graphs should have titles and axes labels"
   ]
  },
  {
   "cell_type": "code",
   "execution_count": 49,
   "id": "99734b08",
   "metadata": {},
   "outputs": [
    {
     "data": {
      "text/plain": [
       "Text(0, 0.5, '$arr^2$')"
      ]
     },
     "execution_count": 49,
     "metadata": {},
     "output_type": "execute_result"
    },
    {
     "data": {
      "image/png": "[encoded data removed]",
      "text/plain": [
       "<Figure size 432x288 with 1 Axes>"
      ]
     },
     "metadata": {
      "needs_background": "light"
     },
     "output_type": "display_data"
    }
   ],
   "source": [
    "# 16\n",
    "plt.plot(arr, arr**2, 'g') #you can use different colours by changing 'b'\n",
    "plt.title('Graph to show array squared')\n",
    "plt.xlabel('$arr$') \n",
    "plt.ylabel('$arr^2$')# the dollar signs allow latex notation to be used, so ^ gives superscript;"
   ]
  },
  {
   "cell_type": "markdown",
   "id": "1e6149b1",
   "metadata": {},
   "source": [
    "TODO: \n",
    "- Plot a graph of $x$ vs $x^3$\n",
    "- You will need to use the `numpy` library \n",
    "- make sure your graph has labels and a title"
   ]
  },
  {
   "cell_type": "code",
   "execution_count": null,
   "id": "4ab426d7",
   "metadata": {},
   "outputs": [],
   "source": [
    "# 17\n"
   ]
  },
  {
   "cell_type": "markdown",
   "id": "2b96e1b1",
   "metadata": {},
   "source": [
    "We can plot data from many different sources. For example, you can look up the boiling points of the first 10 alkanes, and plot those. "
   ]
  },
  {
   "cell_type": "markdown",
   "id": "53f0ce30",
   "metadata": {},
   "source": [
    "TODO:\n",
    "- Look up the boiling points of the first 10 straight chain alkanes\n",
    "  - You can use google, or any data books available\n",
    "- make an array with them in\n",
    "- plot the graph of number of carbons vs boiling points\n",
    "- ensure your graph has a title and axis labels\n"
   ]
  },
  {
   "cell_type": "markdown",
   "id": "1712c7f4",
   "metadata": {},
   "source": []
  },
  {
   "cell_type": "code",
   "execution_count": null,
   "id": "40c45cf6",
   "metadata": {},
   "outputs": [],
   "source": [
    "# 18\n"
   ]
  },
  {
   "cell_type": "markdown",
   "id": "1c1363d2",
   "metadata": {},
   "source": [
    "What difficulties did you have? Discuss. \n",
    "\n"
   ]
  },
  {
   "cell_type": "markdown",
   "id": "a35ee0af",
   "metadata": {},
   "source": []
  },
  {
   "cell_type": "code",
   "execution_count": 83,
   "id": "ad1e4a63-913a-45f9-94b7-8ab73de37926",
   "metadata": {},
   "outputs": [],
   "source": [
    "# 1\n",
    "import matplotlib.pyplot as plt\n",
    "import numpy as np\n",
    "import pandas as pd\n",
    "from rdkit import Chem\n",
    "from rdkit.Chem.rdMolDescriptors import CalcExactMolWt, CalcMolFormula"
   ]
  },
  {
   "cell_type": "markdown",
   "id": "29f1f304-53e0-49f8-bd3c-997407750eaa",
   "metadata": {},
   "source": [
    "We are going to learn to read in some data from a separate file. this file is called `chem_mp_bp_dataset.csv`.\n",
    "\n",
    "The file ending `.csv` stands for comma separated values. Unfortunately, not all `.csv` files actually have comma separated values, but this file should.\n",
    "\n",
    "You can check how it is saved by opeining it in a text editor, such as notepad. Be careful not to edit it accidentally!\n",
    "\n",
    "Note in the functon call below, we are using the pandas library as `pd`, which we `import` it as above. The file name is entered as a string giving the path to the file. This will save all the data in a `DataFrame`, which will make manipulating the data more easy. \n",
    "\n",
    "*Unless you are using VSCode, whereas this will be more complex\n",
    "\n",
    "You can change where the computer looks for the file, by putting in the whole path. "
   ]
  },
  {
   "cell_type": "code",
   "execution_count": 112,
   "id": "d4daa045-f7bb-429a-83be-e708813c3bd1",
   "metadata": {},
   "outputs": [
    {
     "name": "stdout",
     "output_type": "stream",
     "text": [
      "<class 'pandas.core.frame.DataFrame'>\n",
      "RangeIndex: 1629 entries, 0 to 1628\n",
      "Data columns (total 8 columns):\n",
      " #   Column            Non-Null Count  Dtype  \n",
      "---  ------            --------------  -----  \n",
      " 0   Unnamed: 0        1629 non-null   int64  \n",
      " 1   compLabel         1629 non-null   object \n",
      " 2   formula           1629 non-null   object \n",
      " 3   bp                1629 non-null   float64\n",
      " 4   bpUnitLabel       1629 non-null   object \n",
      " 5   mp                1629 non-null   float64\n",
      " 6   mpUnitLabel       1629 non-null   object \n",
      " 7   canonical_smiles  1629 non-null   object \n",
      "dtypes: float64(2), int64(1), object(5)\n",
      "memory usage: 101.9+ KB\n"
     ]
    }
   ],
   "source": [
    "# 2\n",
    "df = pd.read_csv('./data/bp-mp-data/chem_mp_bp_dataset.csv')\n",
    "df.info() # shows us some information about the data frame"
   ]
  },
  {
   "cell_type": "markdown",
   "id": "233649a4-3929-40c8-8512-2af6d6406ecf",
   "metadata": {},
   "source": [
    "You will see there is a column called `Unnamed: 0`, this is the index, we can delete it. "
   ]
  },
  {
   "cell_type": "code",
   "execution_count": 113,
   "id": "df610d3d-4000-4aa9-8755-5168a9538acb",
   "metadata": {},
   "outputs": [
    {
     "data": {
      "text/html": [
       "<div>\n",
       "<style scoped>\n",
       "    .dataframe tbody tr th:only-of-type {\n",
       "        vertical-align: middle;\n",
       "    }\n",
       "\n",
       "    .dataframe tbody tr th {\n",
       "        vertical-align: top;\n",
       "    }\n",
       "\n",
       "    .dataframe thead th {\n",
       "        text-align: right;\n",
       "    }\n",
       "</style>\n",
       "<table border=\"1\" class=\"dataframe\">\n",
       "  <thead>\n",
       "    <tr style=\"text-align: right;\">\n",
       "      <th></th>\n",
       "      <th>compLabel</th>\n",
       "      <th>formula</th>\n",
       "      <th>bp</th>\n",
       "      <th>bpUnitLabel</th>\n",
       "      <th>mp</th>\n",
       "      <th>mpUnitLabel</th>\n",
       "      <th>canonical_smiles</th>\n",
       "    </tr>\n",
       "  </thead>\n",
       "  <tbody>\n",
       "    <tr>\n",
       "      <th>0</th>\n",
       "      <td>helium</td>\n",
       "      <td>He</td>\n",
       "      <td>-268.9</td>\n",
       "      <td>degree Celcius</td>\n",
       "      <td>-272.2</td>\n",
       "      <td>degree Celcius</td>\n",
       "      <td>[He]</td>\n",
       "    </tr>\n",
       "    <tr>\n",
       "      <th>1</th>\n",
       "      <td>carbon monoxide</td>\n",
       "      <td>CO</td>\n",
       "      <td>-191.7</td>\n",
       "      <td>degree Celcius</td>\n",
       "      <td>-205.0</td>\n",
       "      <td>degree Celsius</td>\n",
       "      <td>[C-]#[O+]</td>\n",
       "    </tr>\n",
       "    <tr>\n",
       "      <th>2</th>\n",
       "      <td>fluorine</td>\n",
       "      <td>F</td>\n",
       "      <td>-188.3</td>\n",
       "      <td>degree Celcius</td>\n",
       "      <td>-219.4</td>\n",
       "      <td>degree Celcius</td>\n",
       "      <td>FF</td>\n",
       "    </tr>\n",
       "    <tr>\n",
       "      <th>3</th>\n",
       "      <td>nitric oxide</td>\n",
       "      <td>NO</td>\n",
       "      <td>-151.7</td>\n",
       "      <td>degree Celcius</td>\n",
       "      <td>-163.9</td>\n",
       "      <td>degree Celcius</td>\n",
       "      <td>[N]=O</td>\n",
       "    </tr>\n",
       "    <tr>\n",
       "      <th>4</th>\n",
       "      <td>oxygen difluoride</td>\n",
       "      <td>F₂O</td>\n",
       "      <td>-145.6</td>\n",
       "      <td>degree Celcius</td>\n",
       "      <td>-223.9</td>\n",
       "      <td>degree Celcius</td>\n",
       "      <td>O(F)F</td>\n",
       "    </tr>\n",
       "  </tbody>\n",
       "</table>\n",
       "</div>"
      ],
      "text/plain": [
       "           compLabel formula     bp     bpUnitLabel     mp     mpUnitLabel  \\\n",
       "0             helium      He -268.9  degree Celcius -272.2  degree Celcius   \n",
       "1    carbon monoxide      CO -191.7  degree Celcius -205.0  degree Celsius   \n",
       "2           fluorine       F -188.3  degree Celcius -219.4  degree Celcius   \n",
       "3       nitric oxide      NO -151.7  degree Celcius -163.9  degree Celcius   \n",
       "4  oxygen difluoride     F₂O -145.6  degree Celcius -223.9  degree Celcius   \n",
       "\n",
       "  canonical_smiles  \n",
       "0             [He]  \n",
       "1        [C-]#[O+]  \n",
       "2               FF  \n",
       "3            [N]=O  \n",
       "4            O(F)F  "
      ]
     },
     "execution_count": 113,
     "metadata": {},
     "output_type": "execute_result"
    }
   ],
   "source": [
    "# 3\n",
    "df = df.drop('Unnamed: 0', axis=1) \n",
    "# this will throw an error if you try to run it more than once. rerun block 2 first\n",
    "df.head() # shows us the top 5 rows of the dataframe."
   ]
  },
  {
   "cell_type": "code",
   "execution_count": 130,
   "id": "f5ea58b1-a795-41e5-ab3e-1c19d4d8897d",
   "metadata": {},
   "outputs": [
    {
     "data": {
      "text/html": [
       "<div>\n",
       "<style scoped>\n",
       "    .dataframe tbody tr th:only-of-type {\n",
       "        vertical-align: middle;\n",
       "    }\n",
       "\n",
       "    .dataframe tbody tr th {\n",
       "        vertical-align: top;\n",
       "    }\n",
       "\n",
       "    .dataframe thead th {\n",
       "        text-align: right;\n",
       "    }\n",
       "</style>\n",
       "<table border=\"1\" class=\"dataframe\">\n",
       "  <thead>\n",
       "    <tr style=\"text-align: right;\">\n",
       "      <th></th>\n",
       "      <th>compLabel</th>\n",
       "      <th>formula</th>\n",
       "      <th>bp</th>\n",
       "      <th>bpUnitLabel</th>\n",
       "      <th>mp</th>\n",
       "      <th>mpUnitLabel</th>\n",
       "      <th>canonical_smiles</th>\n",
       "    </tr>\n",
       "  </thead>\n",
       "  <tbody>\n",
       "    <tr>\n",
       "      <th>0</th>\n",
       "      <td>helium</td>\n",
       "      <td>He</td>\n",
       "      <td>-268.9</td>\n",
       "      <td>degree Celcius</td>\n",
       "      <td>-272.2</td>\n",
       "      <td>degree Celcius</td>\n",
       "      <td>[He]</td>\n",
       "    </tr>\n",
       "    <tr>\n",
       "      <th>1</th>\n",
       "      <td>carbon monoxide</td>\n",
       "      <td>CO</td>\n",
       "      <td>-191.7</td>\n",
       "      <td>degree Celcius</td>\n",
       "      <td>-205.0</td>\n",
       "      <td>degree Celsius</td>\n",
       "      <td>[C-]#[O+]</td>\n",
       "    </tr>\n",
       "    <tr>\n",
       "      <th>2</th>\n",
       "      <td>fluorine</td>\n",
       "      <td>F</td>\n",
       "      <td>-188.3</td>\n",
       "      <td>degree Celcius</td>\n",
       "      <td>-219.4</td>\n",
       "      <td>degree Celcius</td>\n",
       "      <td>FF</td>\n",
       "    </tr>\n",
       "    <tr>\n",
       "      <th>3</th>\n",
       "      <td>nitric oxide</td>\n",
       "      <td>NO</td>\n",
       "      <td>-151.7</td>\n",
       "      <td>degree Celcius</td>\n",
       "      <td>-163.9</td>\n",
       "      <td>degree Celcius</td>\n",
       "      <td>[N]=O</td>\n",
       "    </tr>\n",
       "    <tr>\n",
       "      <th>4</th>\n",
       "      <td>oxygen difluoride</td>\n",
       "      <td>F₂O</td>\n",
       "      <td>-145.6</td>\n",
       "      <td>degree Celcius</td>\n",
       "      <td>-223.9</td>\n",
       "      <td>degree Celcius</td>\n",
       "      <td>O(F)F</td>\n",
       "    </tr>\n",
       "  </tbody>\n",
       "</table>\n",
       "</div>"
      ],
      "text/plain": [
       "           compLabel formula     bp     bpUnitLabel     mp     mpUnitLabel  \\\n",
       "0             helium      He -268.9  degree Celcius -272.2  degree Celcius   \n",
       "1    carbon monoxide      CO -191.7  degree Celcius -205.0  degree Celsius   \n",
       "2           fluorine       F -188.3  degree Celcius -219.4  degree Celcius   \n",
       "3       nitric oxide      NO -151.7  degree Celcius -163.9  degree Celcius   \n",
       "4  oxygen difluoride     F₂O -145.6  degree Celcius -223.9  degree Celcius   \n",
       "\n",
       "  canonical_smiles  \n",
       "0             [He]  \n",
       "1        [C-]#[O+]  \n",
       "2               FF  \n",
       "3            [N]=O  \n",
       "4            O(F)F  "
      ]
     },
     "execution_count": 130,
     "metadata": {},
     "output_type": "execute_result"
    }
   ],
   "source": [
    "# 4\n",
    "df.head()"
   ]
  },
  {
   "cell_type": "code",
   "execution_count": 131,
   "id": "9f4e540b-5d49-43fd-bdeb-9b9ed49f3843",
   "metadata": {},
   "outputs": [
    {
     "name": "stdout",
     "output_type": "stream",
     "text": [
      "7 silane H₄Si -111.7\n",
      "11 germane GeH₄ -88.3\n",
      "431 methane CH₄ -161.48\n",
      "432 stannane  SnH₄ -52.0\n"
     ]
    }
   ],
   "source": [
    "# 5\n",
    "grp4 = ['C', '[SiH4]','[GeH4]', '[SnH4]']\n",
    "# these are the smiles strings for the group 4 hydrides\n",
    "for ind, row in df.iterrows():\n",
    "    if row['canonical_smiles'] in grp4:\n",
    "        print(row.name, row.compLabel, row.formula, row.bp)\n",
    "        "
   ]
  },
  {
   "cell_type": "markdown",
   "id": "da90ccfa-b114-45f2-8168-9d9fbb650633",
   "metadata": {},
   "source": [
    "So now we need to make an array, with the boiling points in the right order. Lets sort by molar mass. Use RDKit to calculate it."
   ]
  },
  {
   "cell_type": "code",
   "execution_count": 132,
   "id": "297e949c-ee2f-4b90-b253-d3a931e3a007",
   "metadata": {},
   "outputs": [
    {
     "name": "stdout",
     "output_type": "stream",
     "text": [
      "[SiH4] -111.7 32.008226658\n",
      "[GeH4] -88.3 77.952477928\n",
      "C -161.48 16.031300127999998\n",
      "[SnH4] -52.0 123.933494828\n"
     ]
    },
    {
     "data": {
      "image/png": "[encoded data removed]",
      "text/plain": [
       "<Figure size 640x480 with 1 Axes>"
      ]
     },
     "metadata": {},
     "output_type": "display_data"
    }
   ],
   "source": [
    "# 6\n",
    "# initialises a list to save the ddata we find\n",
    "mwbp4 = []\n",
    "\n",
    "#iterates through the dataset checking to see if the smiles string matches\n",
    "for ind, row in df.iterrows():\n",
    "    if row['canonical_smiles'] in grp4:\n",
    "        #make mol object using the smiles string. \n",
    "        mol = Chem.MolFromSmiles(row.canonical_smiles)\n",
    "        # RDKit can calculate molar mass using this object\n",
    "        mw = CalcExactMolWt(mol)\n",
    "        # Print to check what you are getting\n",
    "        print(row.canonical_smiles, row.bp, mw)\n",
    "        # put the data in to a list in the form of a tuple\n",
    "        mwbp4.append((mw, row.bp, row.formula))\n",
    "\n",
    "#this code sorts the list in to molar mass order\n",
    "mwbp.sort(key=lambda tup: tup[0])\n",
    "\n",
    "#this makes it in to two separate lists\n",
    "mws, bps, forms = zip(*mwbp)\n",
    "\n",
    "# this plots the points, and makes the labels for the line\n",
    "plt.plot(mws, bps, label='Group 4')\n",
    "plt.legend()\n",
    "\n",
    "#This labels the points with the formulae\n",
    "for i, form in enumerate(forms):\n",
    "    plt.annotate(form, (mws[i], bps[i]));\n",
    "\n",
    "#label axes and make a title\n",
    "plt.title('Graph to show change in boiling points with molecular weight')\n",
    "plt.xlabel('Molecular Weight (amu)')\n",
    "plt.ylabel('Boiling point');"
   ]
  },
  {
   "cell_type": "code",
   "execution_count": 133,
   "id": "df41bc25-c6bc-4ffb-8995-7fc92ed10739",
   "metadata": {},
   "outputs": [],
   "source": [
    "#7\n",
    "# these are the smiles strings for the group 5 and 6 hydrides\n",
    "grp5 = ['N', 'P','[AsH3]', '[SbH3]']\n",
    "grp6 = ['O', 'S','[TeH2]', '[SeH2]']\n"
   ]
  },
  {
   "cell_type": "markdown",
   "id": "887e276e-5644-477d-a296-9480e2fc11f1",
   "metadata": {},
   "source": [
    "TODO: \n",
    "- plot a graph with the boiling points for hydrides in group 4, 5 and 6\n",
    "- the smiles strings are above\n",
    "- make sure you have fully labelled your graph\n",
    "- What do you learn from this graph. \n",
    "- If you finish.. how efficient is your code?"
   ]
  },
  {
   "cell_type": "code",
   "execution_count": 134,
   "id": "b25f5b52-fe31-4883-89a8-23f5ed9b36fb",
   "metadata": {},
   "outputs": [
    {
     "data": {
      "image/png": "[encoded data removed]",
      "text/plain": [
       "<Figure size 640x480 with 1 Axes>"
      ]
     },
     "metadata": {},
     "output_type": "display_data"
    }
   ],
   "source": [
    "# 8\n",
    "# initialises lists to save the data we find\n",
    "mwbp4 = []\n",
    "mwbp5 = []\n",
    "mwbp6 = []\n",
    "\n",
    "grp456 = grp4+grp5+grp6 # makes list of all the smiles strings we are looking for\n",
    "\n",
    "#itertes through the dataset checking to see if the smiles string matches\n",
    "for ind, row in df.iterrows():\n",
    "    if row['canonical_smiles'] in grp456:\n",
    "        #make mol object using the smiles string. \n",
    "        mol = Chem.MolFromSmiles(row.canonical_smiles)\n",
    "        # RDKit can calculate molar mass using this object\n",
    "        mw = CalcExactMolWt(mol)\n",
    "        # put the data in to a list in the form of a tuple\n",
    "        if row['canonical_smiles'] in grp4:\n",
    "            mwbp4.append((mw, row.bp, row.formula))\n",
    "        if row['canonical_smiles'] in grp5:\n",
    "            mwbp5.append((mw, row.bp, row.formula))\n",
    "        if row['canonical_smiles'] in grp6:\n",
    "            mwbp6.append((mw, row.bp, row.formula))\n",
    "\n",
    "lsts = [mwbp4, mwbp5, mwbp6]\n",
    "\n",
    "for i, lst in enumerate(lsts):\n",
    "    #this code sorts the lists into molar mass order\n",
    "    lst.sort(key=lambda tup: tup[0])\n",
    "    #this makes it in to two separate lists\n",
    "    mws, bps, forms = zip(*lst)\n",
    "    # this plots the points, and makes the labels for the line\n",
    "    plt.plot(mws, bps, label=f'Group {i+4}')\n",
    "    for i, form in enumerate(forms):\n",
    "        plt.annotate(form, (mws[i], bps[i]));\n",
    "\n",
    "#label axes and make a title\n",
    "plt.legend()\n",
    "plt.title('Graph to show change in boiling points with molecular weight')\n",
    "plt.xlabel('Molar Mass')\n",
    "plt.ylabel('Boiling point ($^oC$)')\n",
    "plt.grid();"
   ]
  },
  {
   "cell_type": "markdown",
   "id": "c3304945-5eed-451a-93f7-c5d6051cf4fa",
   "metadata": {},
   "source": [
    "My code is moderately efficient because i don't iterate though the dataframe more than once\n",
    "\n",
    "I put the plotting code in the for loop to avoid writing it all out four times\n",
    "\n",
    "having four if statements isn't efficient, i could improve this by having more code written out. "
   ]
  },
  {
   "cell_type": "markdown",
   "id": "5fab56c8-2b4b-4d79-9ba8-a2109651a36c",
   "metadata": {},
   "source": [
    "# Hydrogen Bonds\n"
   ]
  },
  {
   "cell_type": "code",
   "execution_count": 5,
   "id": "90402a52-2ba5-470f-9022-3a481d163a55",
   "metadata": {},
   "outputs": [],
   "source": [
    "# 9\n"
   ]
  }
 ],
 "metadata": {
  "kernelspec": {
   "display_name": "Python 3 (ipykernel)",
   "language": "python",
   "name": "python3"
  },
  "language_info": {
   "codemirror_mode": {
    "name": "ipython",
    "version": 3
   },
   "file_extension": ".py",
   "mimetype": "text/x-python",
   "name": "python",
   "nbconvert_exporter": "python",
   "pygments_lexer": "ipython3",
   "version": "3.8.12"
  }
 },
 "nbformat": 4,
 "nbformat_minor": 5
}
