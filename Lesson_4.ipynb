{
 "cells": [
  {
   "cell_type": "markdown",
   "id": "6696d98b-49f9-4ba9-8016-a683c06991b1",
   "metadata": {},
   "source": [
    "# Introduction to Python in Chemistry Lesson 4"
   ]
  },
  {
   "cell_type": "markdown",
   "id": "bc156dcf",
   "metadata": {},
   "source": [
    "# Operators"
   ]
  },
  {
   "cell_type": "markdown",
   "id": "c3fa48a1",
   "metadata": {},
   "source": [
    "Operators include:\n",
    "- `+` plus, or concatenate, e.g. `3 + 6`\n",
    "- `-` minus e.g. `\n",
    "- `*` multiply, or multiply concatenate\n",
    "- `/` divide\n",
    "- `**` power, so `x**3` is x cubed\n",
    "- `%` modulo, gets the remainder after division, `10"
   ]
  },
  {
   "cell_type": "markdown",
   "id": "d7449bad",
   "metadata": {},
   "source": [
    "Try each of them out on the variable `x` below, using the integer 4. The first two have been done for you."
   ]
  },
  {
   "cell_type": "code",
   "execution_count": 4,
   "id": "a72d1002",
   "metadata": {},
   "outputs": [],
   "source": [
    "# 1\n",
    "x = 10"
   ]
  },
  {
   "cell_type": "code",
   "execution_count": 5,
   "id": "b35f5901",
   "metadata": {},
   "outputs": [
    {
     "data": {
      "text/plain": [
       "14"
      ]
     },
     "execution_count": 5,
     "metadata": {},
     "output_type": "execute_result"
    }
   ],
   "source": [
    "# 2\n",
    "x+4"
   ]
  },
  {
   "cell_type": "code",
   "execution_count": 3,
   "id": "bffa971c",
   "metadata": {},
   "outputs": [
    {
     "data": {
      "text/plain": [
       "6"
      ]
     },
     "execution_count": 3,
     "metadata": {},
     "output_type": "execute_result"
    }
   ],
   "source": [
    "# 3\n",
    "x-4"
   ]
  },
  {
   "cell_type": "code",
   "execution_count": null,
   "id": "008ea98d",
   "metadata": {},
   "outputs": [],
   "source": [
    "# 4\n",
    "# Your code here - use multiply *\n"
   ]
  },
  {
   "cell_type": "code",
   "execution_count": 34,
   "id": "35040743",
   "metadata": {},
   "outputs": [],
   "source": [
    "# 5\n",
    "# your code here - use divide /\n"
   ]
  },
  {
   "cell_type": "code",
   "execution_count": 35,
   "id": "db57ac0e",
   "metadata": {},
   "outputs": [],
   "source": [
    "# 6\n",
    "# Your code here - use power **\n"
   ]
  },
  {
   "cell_type": "code",
   "execution_count": 36,
   "id": "3e5d1231",
   "metadata": {},
   "outputs": [],
   "source": [
    "# 7\n",
    "# Your code here - use modulo %\n"
   ]
  },
  {
   "cell_type": "markdown",
   "id": "d69aad92",
   "metadata": {},
   "source": [
    "Question\n",
    "\n",
    "- How would you use the modulo operator `%` to see if a number is wholly divisble by another number, for example 4?"
   ]
  },
  {
   "cell_type": "code",
   "execution_count": 6,
   "id": "b7135c6f",
   "metadata": {},
   "outputs": [],
   "source": [
    "# 8\n"
   ]
  },
  {
   "cell_type": "markdown",
   "id": "e96fe1f3",
   "metadata": {},
   "source": [
    "## Arrays and Plotting"
   ]
  },
  {
   "cell_type": "markdown",
   "id": "17623d25",
   "metadata": {},
   "source": [
    "We are going to have another look at lists"
   ]
  },
  {
   "cell_type": "code",
   "execution_count": 19,
   "id": "e56e87c4",
   "metadata": {},
   "outputs": [],
   "source": [
    "# 9\n",
    "nums = [1,2,3,4,5,6,7,8,9,10]"
   ]
  },
  {
   "cell_type": "markdown",
   "id": "1c65b2d6",
   "metadata": {},
   "source": [
    "The code above defines a list, and has the entries as numbers. \n"
   ]
  },
  {
   "cell_type": "markdown",
   "id": "aaf1af09",
   "metadata": {},
   "source": [
    "If i want to square each of the numbers one by one, I could use a for loop. \n"
   ]
  },
  {
   "cell_type": "markdown",
   "id": "6421e381",
   "metadata": {},
   "source": [
    "TODO: \n",
    "- Make a `for` loop to iterate though the array\n",
    "- each number should be multiplied by 2 and printed"
   ]
  },
  {
   "cell_type": "code",
   "execution_count": 3,
   "id": "8eb2c88b",
   "metadata": {},
   "outputs": [
    {
     "name": "stdout",
     "output_type": "stream",
     "text": [
      "2\n",
      "4\n",
      "6\n",
      "8\n",
      "10\n",
      "12\n",
      "14\n",
      "16\n",
      "18\n",
      "20\n"
     ]
    }
   ],
   "source": [
    "# 10\n",
    "# Your code here\n",
    "for num in nums:\n",
    "    print(num*2)\n"
   ]
  },
  {
   "cell_type": "markdown",
   "id": "1ae62257",
   "metadata": {},
   "source": [
    "However this is rather inefficient, it would be nicer if we could just double the whole array. "
   ]
  },
  {
   "cell_type": "code",
   "execution_count": 4,
   "id": "47ec07de",
   "metadata": {},
   "outputs": [
    {
     "data": {
      "text/plain": [
       "[1, 2, 3, 4, 5, 6, 7, 8, 9, 10, 1, 2, 3, 4, 5, 6, 7, 8, 9, 10]"
      ]
     },
     "execution_count": 4,
     "metadata": {},
     "output_type": "execute_result"
    }
   ],
   "source": [
    "# 11\n",
    "nums*2"
   ]
  },
  {
   "cell_type": "markdown",
   "id": "d56180e8",
   "metadata": {},
   "source": [
    "This is not what we wanted. Why has this happened? "
   ]
  },
  {
   "cell_type": "markdown",
   "id": "e619ab11",
   "metadata": {},
   "source": [
    "- Answer here\n",
    "\n",
    "multiplication just concatenates the same list on again, as many times as you multiply by. Just like with strings.\n",
    " "
   ]
  },
  {
   "cell_type": "code",
   "execution_count": 5,
   "id": "4c7f922b",
   "metadata": {},
   "outputs": [
    {
     "data": {
      "text/plain": [
       "[1, 2, 3, 4, 5, 6, 7, 8, 9, 10, 1, 2, 3, 4, 5, 6, 7, 8, 9, 10]"
      ]
     },
     "execution_count": 5,
     "metadata": {},
     "output_type": "execute_result"
    }
   ],
   "source": [
    "# 12\n",
    "nums+nums"
   ]
  },
  {
   "cell_type": "markdown",
   "id": "31aac168",
   "metadata": {},
   "source": [
    "Find out which of these work as you would expect:\n",
    "- Adding a value to the whole list\n",
    "- Subtracting a value from the whole list\n",
    "- Timesing the list by minus 1 (*-1)\n",
    "- Dividing the list by 2\n",
    "- Squaring the list (**2)\n",
    "- Looking at the remainder after division by 2 for the list?\n",
    "- What happens for each one? "
   ]
  },
  {
   "cell_type": "code",
   "execution_count": 10,
   "id": "3de0f561",
   "metadata": {},
   "outputs": [],
   "source": [
    "# 13\n"
   ]
  },
  {
   "cell_type": "code",
   "execution_count": 9,
   "id": "a5fcfdea",
   "metadata": {},
   "outputs": [],
   "source": [
    "# 14\n"
   ]
  },
  {
   "cell_type": "code",
   "execution_count": 8,
   "id": "5fb1d386",
   "metadata": {},
   "outputs": [],
   "source": [
    "# 15\n"
   ]
  },
  {
   "cell_type": "code",
   "execution_count": 7,
   "id": "cb9059a4",
   "metadata": {},
   "outputs": [],
   "source": [
    "# 16\n"
   ]
  },
  {
   "cell_type": "markdown",
   "id": "e0c34a68",
   "metadata": {},
   "source": [
    "Lists are not designed to handle numbers in this way.\n",
    "\n",
    "We can use another sort of array, a numpy array. "
   ]
  },
  {
   "cell_type": "markdown",
   "id": "e4777b91",
   "metadata": {},
   "source": [
    "# Numpy Arrays\n",
    "\n",
    "These arrays allows us to "
   ]
  },
  {
   "cell_type": "code",
   "execution_count": 20,
   "id": "bada5172",
   "metadata": {},
   "outputs": [],
   "source": [
    "# 17\n",
    "# need to import the numpy library.\n",
    "# this imports the library and gives it the nickname 'np' so i don't have to write it out each time\n",
    "# it will take a few seconds, as it is loaded in to the computers memory\n",
    "import numpy as np\n",
    "\n",
    "arr = np.array(nums) \n",
    "# this initiallises another array using the list we already have"
   ]
  },
  {
   "cell_type": "markdown",
   "id": "31ab3941",
   "metadata": {},
   "source": [
    "Questions: \n",
    "\n",
    "1. Try adding a value to the whole array\n",
    "\n",
    "2. Try subtracting a value from the whole array\n",
    "\n",
    "3. Try timesing the array by minus 1\n",
    "\n",
    "4. Try squaring the array (**2)\n",
    "\n"
   ]
  },
  {
   "cell_type": "code",
   "execution_count": 11,
   "id": "2671a8cd",
   "metadata": {},
   "outputs": [],
   "source": [
    "# 18\n",
    "# Question 1\n"
   ]
  },
  {
   "cell_type": "code",
   "execution_count": 12,
   "id": "3af1d6aa",
   "metadata": {},
   "outputs": [],
   "source": [
    "# 19\n",
    "# Question 2\n"
   ]
  },
  {
   "cell_type": "code",
   "execution_count": 14,
   "id": "94c96c5d",
   "metadata": {},
   "outputs": [],
   "source": [
    "# 20\n",
    "# Question 3\n"
   ]
  },
  {
   "cell_type": "code",
   "execution_count": 15,
   "id": "511d1ec5",
   "metadata": {},
   "outputs": [],
   "source": [
    "# Question 4\n",
    "\n"
   ]
  },
  {
   "cell_type": "markdown",
   "id": "3ce839e5",
   "metadata": {},
   "source": [
    "For each of these the array is treated as a single value, and the same thing is done to each element in it. This makes for much neater code than using a for loop. "
   ]
  },
  {
   "cell_type": "markdown",
   "id": "68f40641",
   "metadata": {},
   "source": [
    "# Plotting"
   ]
  },
  {
   "cell_type": "markdown",
   "id": "f150ba6d",
   "metadata": {},
   "source": [
    "We can plot graphs of these arrays using the `matplotlib.pyplot` library. \n",
    "\n",
    "First you will need to import this library"
   ]
  },
  {
   "cell_type": "code",
   "execution_count": 16,
   "id": "2a65dcc5",
   "metadata": {},
   "outputs": [],
   "source": [
    "import matplotlib.pyplot as plt"
   ]
  },
  {
   "cell_type": "code",
   "execution_count": 21,
   "id": "46e85752",
   "metadata": {},
   "outputs": [
    {
     "data": {
      "image/png": "[encoded data removed]",
      "text/plain": [
       "<Figure size 432x288 with 1 Axes>"
      ]
     },
     "metadata": {
      "needs_background": "light"
     },
     "output_type": "display_data"
    }
   ],
   "source": [
    "# 21\n",
    "# the semi colon stops the expression returning an object. Try without and see what you get\n",
    "plt.plot(arr, arr**2, 'b');  # this plots points with x value my_arr, and y value my_arr**2"
   ]
  },
  {
   "cell_type": "markdown",
   "id": "b97316b9",
   "metadata": {},
   "source": [
    "Graphs should have titles and axes labels"
   ]
  },
  {
   "cell_type": "code",
   "execution_count": 22,
   "id": "99734b08",
   "metadata": {},
   "outputs": [
    {
     "data": {
      "image/png": "[encoded data removed]",
      "text/plain": [
       "<Figure size 432x288 with 1 Axes>"
      ]
     },
     "metadata": {
      "needs_background": "light"
     },
     "output_type": "display_data"
    }
   ],
   "source": [
    "# 22\n",
    "plt.plot(arr, arr**2, 'g') #you can use different colours by changing 'b'\n",
    "plt.title('Graph to show array squared')\n",
    "plt.xlabel('$arr$') \n",
    "plt.ylabel('$arr^2$'); # the dollar signs allow latex notation to be used, so ^ gives superscript;"
   ]
  },
  {
   "cell_type": "markdown",
   "id": "a2688548",
   "metadata": {},
   "source": [
    "You can plot more than one set of data on the same graph. This is useful for direclty comparing data. "
   ]
  },
  {
   "cell_type": "code",
   "execution_count": 23,
   "id": "8a673cbc",
   "metadata": {},
   "outputs": [
    {
     "data": {
      "image/png": "[encoded data removed]",
      "text/plain": [
       "<Figure size 432x288 with 1 Axes>"
      ]
     },
     "metadata": {
      "needs_background": "light"
     },
     "output_type": "display_data"
    }
   ],
   "source": [
    "# 23\n",
    "plt.plot(arr, arr**2, 'b', label=r\"$y = x^2$\") #the label argument means we can use plt.legend() to see which line is which\n",
    "plt.plot(arr, arr*5, 'g', label=r\"$y = 5x$\")  # if we use 'r' before the string it means we can use dollar signs to enclose the maths\n",
    "plt.title(r'Graph to $y$ vs $x$')\n",
    "plt.legend()\n",
    "plt.xlabel('$x$') \n",
    "plt.ylabel('$y$') # the dollar signs allow latex notation to be used\n",
    "plt.grid(); #makes the graph more readable"
   ]
  },
  {
   "cell_type": "markdown",
   "id": "1e6149b1",
   "metadata": {},
   "source": [
    "TODO: \n",
    "- Define an array of numbers 1 to 10 as a numpy array\n",
    "- Plot a graph of $x$ vs $x^3$\n",
    "- make sure your graph has correct title and labels"
   ]
  },
  {
   "cell_type": "code",
   "execution_count": 24,
   "id": "4ab426d7",
   "metadata": {},
   "outputs": [
    {
     "data": {
      "image/png": "[encoded data removed]",
      "text/plain": [
       "<Figure size 432x288 with 1 Axes>"
      ]
     },
     "metadata": {
      "needs_background": "light"
     },
     "output_type": "display_data"
    }
   ],
   "source": [
    "# 24\n",
    "plt.plot(arr, arr**3, 'g') #you can use different colours by changing 'b'\n",
    "plt.title('Graph to show array cubed')\n",
    "plt.xlabel('$arr$') \n",
    "plt.ylabel('$arr^3$'); # the dollar signs allow latex notation to be used, so ^ gives superscript;"
   ]
  },
  {
   "cell_type": "markdown",
   "id": "2b96e1b1",
   "metadata": {},
   "source": [
    "We can plot data from many different sources. For example, you can look up the boiling points of the first 10 alkanes, and plot those. "
   ]
  },
  {
   "cell_type": "markdown",
   "id": "53f0ce30",
   "metadata": {},
   "source": [
    "TODO:\n",
    "- Look up the boiling points of the first 10 straight chain alkanes in K\n",
    "  - You can use google, or the Nuffield Data Book pg 102\n",
    "- make an array with them in\n",
    "- plot the graph of number of carbons vs boiling points\n",
    "- ensure your graph has a title and axis labels\n"
   ]
  },
  {
   "cell_type": "markdown",
   "id": "1712c7f4",
   "metadata": {},
   "source": []
  },
  {
   "cell_type": "code",
   "execution_count": 25,
   "id": "40c45cf6",
   "metadata": {},
   "outputs": [],
   "source": [
    "# 25\n",
    "\n"
   ]
  },
  {
   "cell_type": "markdown",
   "id": "33ba7a3b",
   "metadata": {},
   "source": [
    "If you finish:\n",
    "Look up the melting points in the same way, and plot them on the same graph, make sure it is clear which line is which. \n",
    "\n"
   ]
  },
  {
   "cell_type": "code",
   "execution_count": 26,
   "id": "d2de99fa",
   "metadata": {},
   "outputs": [],
   "source": [
    "# 26\n",
    "# your code here"
   ]
  },
  {
   "cell_type": "markdown",
   "id": "4653d2e8",
   "metadata": {},
   "source": [
    "To do: \n",
    "\n",
    "- change the units of all your temperatures to $^oC$\n",
    "- plot them again\n",
    "- change the labels and title as appropriate"
   ]
  },
  {
   "cell_type": "code",
   "execution_count": null,
   "id": "de2facf0",
   "metadata": {},
   "outputs": [],
   "source": [
    "# 27"
   ]
  }
 ],
 "metadata": {
  "kernelspec": {
   "display_name": "Python 3 (ipykernel)",
   "language": "python",
   "name": "python3"
  },
  "language_info": {
   "codemirror_mode": {
    "name": "ipython",
    "version": 3
   },
   "file_extension": ".py",
   "mimetype": "text/x-python",
   "name": "python",
   "nbconvert_exporter": "python",
   "pygments_lexer": "ipython3",
   "version": "3.8.12"
  }
 },
 "nbformat": 4,
 "nbformat_minor": 5
}
