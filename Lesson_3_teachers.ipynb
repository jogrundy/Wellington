{
 "cells": [
  {
   "cell_type": "markdown",
   "id": "6696d98b-49f9-4ba9-8016-a683c06991b1",
   "metadata": {},
   "source": [
    "# Introduction to Python in Chemistry Lesson 3"
   ]
  },
  {
   "cell_type": "markdown",
   "id": "e397917a",
   "metadata": {},
   "source": [
    "# Lists"
   ]
  },
  {
   "cell_type": "markdown",
   "id": "27aa6095",
   "metadata": {},
   "source": [
    "We can store variables in a list, which also can be called an array. \n",
    "\n",
    "In Python we define a list using square brackets, with commas to separate the members of the list. \n",
    "\n",
    "`my_list = ['one', 2, True, 0.4]`\n",
    "\n",
    "Lists can contain any type of variable, and many different types of variable can be in the same list.\n",
    "\n",
    "To do :\n",
    "- Change this list to be the names of people you like."
   ]
  },
  {
   "cell_type": "code",
   "execution_count": 2,
   "id": "372a2cf3",
   "metadata": {},
   "outputs": [],
   "source": [
    "people = ['Alice', 'Bob', 'Carol', 'Dave']"
   ]
  },
  {
   "cell_type": "markdown",
   "id": "7c393559",
   "metadata": {},
   "source": [
    "You can find who your number one person is by indexing. \n",
    "\n",
    "Indexing for lists works the same way as for strings, for example `my_people[1]`"
   ]
  },
  {
   "cell_type": "code",
   "execution_count": 3,
   "id": "fe676f3e",
   "metadata": {},
   "outputs": [
    {
     "data": {
      "text/plain": [
       "'Bob'"
      ]
     },
     "execution_count": 3,
     "metadata": {},
     "output_type": "execute_result"
    }
   ],
   "source": [
    "people[1]"
   ]
  },
  {
   "cell_type": "markdown",
   "id": "c51e3361",
   "metadata": {},
   "source": [
    "Just like in strings, lists in Python are *zero indexed*, which makes the first value indexed by zero: `my_people[0]`"
   ]
  },
  {
   "cell_type": "code",
   "execution_count": 4,
   "id": "fae4bb95",
   "metadata": {},
   "outputs": [
    {
     "data": {
      "text/plain": [
       "'Alice'"
      ]
     },
     "execution_count": 4,
     "metadata": {},
     "output_type": "execute_result"
    }
   ],
   "source": [
    "people[0]"
   ]
  },
  {
   "cell_type": "markdown",
   "id": "fcb53850",
   "metadata": {},
   "source": [
    "To Index the last value in the array, you can use `my_people[-1]`"
   ]
  },
  {
   "cell_type": "code",
   "execution_count": 5,
   "id": "f697909e",
   "metadata": {},
   "outputs": [
    {
     "data": {
      "text/plain": [
       "'Dave'"
      ]
     },
     "execution_count": 5,
     "metadata": {},
     "output_type": "execute_result"
    }
   ],
   "source": [
    "people[-1]"
   ]
  },
  {
   "cell_type": "markdown",
   "id": "46321e25",
   "metadata": {},
   "source": [
    "What happens when you try to index an item that isn't there?\n",
    "\n",
    "try `people[7]`"
   ]
  },
  {
   "cell_type": "code",
   "execution_count": 6,
   "id": "de047fc2",
   "metadata": {},
   "outputs": [
    {
     "ename": "IndexError",
     "evalue": "list index out of range",
     "output_type": "error",
     "traceback": [
      "\u001b[0;31m---------------------------------------------------------------------------\u001b[0m",
      "\u001b[0;31mIndexError\u001b[0m                                Traceback (most recent call last)",
      "\u001b[0;32m/var/folders/dl/pczkvbw15215r_302bklrz2m0000gq/T/ipykernel_13291/1514553906.py\u001b[0m in \u001b[0;36m<module>\u001b[0;34m\u001b[0m\n\u001b[1;32m      1\u001b[0m \u001b[0;31m#put your code in here\u001b[0m\u001b[0;34m\u001b[0m\u001b[0;34m\u001b[0m\u001b[0;34m\u001b[0m\u001b[0m\n\u001b[0;32m----> 2\u001b[0;31m \u001b[0mpeople\u001b[0m\u001b[0;34m[\u001b[0m\u001b[0;36m7\u001b[0m\u001b[0;34m]\u001b[0m\u001b[0;34m\u001b[0m\u001b[0;34m\u001b[0m\u001b[0m\n\u001b[0m",
      "\u001b[0;31mIndexError\u001b[0m: list index out of range"
     ]
    }
   ],
   "source": [
    "#put your code in here\n",
    "people[7]"
   ]
  },
  {
   "cell_type": "markdown",
   "id": "bbd4a3b9",
   "metadata": {},
   "source": [
    "You get an `IndexError`, as there is no index `7` in this list, it is too short."
   ]
  },
  {
   "cell_type": "markdown",
   "id": "e7a4e119",
   "metadata": {},
   "source": [
    "You can slice a list, just like a string, using a colon to separate the first and last index. \n",
    "\n",
    "For example, `\"a long string\"[2:4]` gives the third and fourth characters of the string.\n",
    "\n",
    "To do:\n",
    "- Show how you get the first two members of the `people` list."
   ]
  },
  {
   "cell_type": "code",
   "execution_count": 7,
   "id": "72a51701",
   "metadata": {},
   "outputs": [
    {
     "data": {
      "text/plain": [
       "['Alice', 'Bob']"
      ]
     },
     "execution_count": 7,
     "metadata": {},
     "output_type": "execute_result"
    }
   ],
   "source": [
    "# put your code here\n",
    "people[:2]\n",
    "# or\n",
    "people[0:2]"
   ]
  },
  {
   "cell_type": "markdown",
   "id": "3cccb08d",
   "metadata": {},
   "source": [
    "You can add another list to this list by using the overloaded `+` operator"
   ]
  },
  {
   "cell_type": "code",
   "execution_count": 8,
   "id": "6d6db6c3",
   "metadata": {},
   "outputs": [
    {
     "data": {
      "text/plain": [
       "['Alice', 'Bob', 'Carol', 'Dave', 'Dog', 'Cat']"
      ]
     },
     "execution_count": 8,
     "metadata": {},
     "output_type": "execute_result"
    }
   ],
   "source": [
    "people + ['Dog', 'Cat']"
   ]
  },
  {
   "cell_type": "markdown",
   "id": "69b923a6",
   "metadata": {},
   "source": [
    "Note that because we didn't assign this new concatenated list to the variable name `people`, that list still has the same people as it did before. "
   ]
  },
  {
   "cell_type": "code",
   "execution_count": 9,
   "id": "3cb95094",
   "metadata": {},
   "outputs": [
    {
     "data": {
      "text/plain": [
       "['Alice', 'Bob', 'Carol', 'Dave']"
      ]
     },
     "execution_count": 9,
     "metadata": {},
     "output_type": "execute_result"
    }
   ],
   "source": [
    "people"
   ]
  },
  {
   "cell_type": "markdown",
   "id": "b971f698",
   "metadata": {},
   "source": [
    "You can also add to the list by using the `append` function"
   ]
  },
  {
   "cell_type": "code",
   "execution_count": 10,
   "id": "e4e48011",
   "metadata": {},
   "outputs": [
    {
     "data": {
      "text/plain": [
       "['Alice', 'Bob', 'Carol', 'Dave', 'Edward']"
      ]
     },
     "execution_count": 10,
     "metadata": {},
     "output_type": "execute_result"
    }
   ],
   "source": [
    "people.append('Edward')\n",
    "people"
   ]
  },
  {
   "cell_type": "markdown",
   "id": "eeb86d60",
   "metadata": {},
   "source": [
    "You can also append to an empty list, `[]`"
   ]
  },
  {
   "cell_type": "code",
   "execution_count": 11,
   "id": "d7bb2f14",
   "metadata": {},
   "outputs": [
    {
     "data": {
      "text/plain": [
       "['meth']"
      ]
     },
     "execution_count": 11,
     "metadata": {},
     "output_type": "execute_result"
    }
   ],
   "source": [
    "empty = []\n",
    "empty.append('meth')\n",
    "empty"
   ]
  },
  {
   "cell_type": "markdown",
   "id": "4c169400",
   "metadata": {},
   "source": [
    "So the list `empty` isn't empty any more."
   ]
  },
  {
   "cell_type": "markdown",
   "id": "793849cf",
   "metadata": {},
   "source": [
    "The overloaded `*` operator also acts on lists. On strings, it just multiplies the string. \n",
    "\n",
    "To do:\n",
    "- try `2 * people` below to see what you get."
   ]
  },
  {
   "cell_type": "code",
   "execution_count": 12,
   "id": "9da2f26c",
   "metadata": {},
   "outputs": [
    {
     "data": {
      "text/plain": [
       "['Alice',\n",
       " 'Bob',\n",
       " 'Carol',\n",
       " 'Dave',\n",
       " 'Edward',\n",
       " 'Alice',\n",
       " 'Bob',\n",
       " 'Carol',\n",
       " 'Dave',\n",
       " 'Edward']"
      ]
     },
     "execution_count": 12,
     "metadata": {},
     "output_type": "execute_result"
    }
   ],
   "source": [
    "# put your code here\n",
    "2*people"
   ]
  },
  {
   "cell_type": "markdown",
   "id": "d02b5c05",
   "metadata": {},
   "source": [
    "# List Questions:\n",
    "\n",
    "1 - Why would you not call a list `print`?\n",
    "\n",
    "2 - Define an empty list called `alkanes`\n",
    "\n",
    "3 - Append the SMILES string for methane, `C` to it. \n",
    "\n",
    "4 - Then append the SMILES strings for more alkanes, up to 6 carbons long\n",
    "\n",
    "5 - How would you find the length of a list?"
   ]
  },
  {
   "cell_type": "code",
   "execution_count": null,
   "id": "2f230ace",
   "metadata": {},
   "outputs": [],
   "source": [
    "# Question 1\n",
    "#print is a function in Python. it can be used to make a list. \n",
    "# Variables should never be key words\n",
    "\n",
    "#print = [1,2,'three', False] # Don't do this!\n",
    "# it means print will stop being a function to print stuff, and start being a variable.\n"
   ]
  },
  {
   "cell_type": "code",
   "execution_count": 23,
   "id": "a0744575",
   "metadata": {},
   "outputs": [],
   "source": [
    "# Question 2\n",
    "\n",
    "alkanes=[]"
   ]
  },
  {
   "cell_type": "code",
   "execution_count": 24,
   "id": "793b9837",
   "metadata": {},
   "outputs": [],
   "source": [
    "# Question 3\n",
    "alkanes.append('C')"
   ]
  },
  {
   "cell_type": "code",
   "execution_count": 25,
   "id": "55adbcb3",
   "metadata": {},
   "outputs": [],
   "source": [
    "# Question 4\n",
    "alkanes.append('CC')\n",
    "alkanes.append('CCC')\n",
    "alkanes.append('CCCC')\n",
    "alkanes.append('CCCCC')\n",
    "alkanes.append('CCCCCC')"
   ]
  },
  {
   "cell_type": "code",
   "execution_count": 26,
   "id": "3ae86ffc",
   "metadata": {},
   "outputs": [
    {
     "data": {
      "text/plain": [
       "6"
      ]
     },
     "execution_count": 26,
     "metadata": {},
     "output_type": "execute_result"
    }
   ],
   "source": [
    "# Question 5\n",
    "len(alkanes)"
   ]
  },
  {
   "cell_type": "markdown",
   "id": "5b655bb3",
   "metadata": {},
   "source": [
    "# For Loops"
   ]
  },
  {
   "cell_type": "markdown",
   "id": "d4e91484",
   "metadata": {},
   "source": [
    "If we want to do the same thing to each thing in the list, it would be quite annoying to have to write out the same code again and again. "
   ]
  },
  {
   "cell_type": "markdown",
   "id": "85ce292c",
   "metadata": {},
   "source": [
    "We can use a `for` loop to do the same code for each thing in the array. \n",
    "\n",
    "The statement `for name in my_people:` makes the variable name equal to each of the values in `my_people` one after the other. \n",
    "\n",
    "The code that will be executed for each `name` is indented underneath it. "
   ]
  },
  {
   "cell_type": "code",
   "execution_count": 27,
   "id": "dc9a35bb",
   "metadata": {},
   "outputs": [
    {
     "name": "stdout",
     "output_type": "stream",
     "text": [
      "Hello, Alice!\n",
      "Hello, Bob!\n",
      "Hello, Carol!\n",
      "Hello, Dave!\n",
      "Hello, Edward!\n"
     ]
    }
   ],
   "source": [
    "for name in people: \n",
    "    print('Hello, ' + name + '!')"
   ]
  },
  {
   "cell_type": "markdown",
   "id": "5dee77cf",
   "metadata": {},
   "source": [
    "You can use this for any list. For example, naming alkanes has the first part, that tells you how many carbons there are, and a second part that tells you what sort of molecule it is. "
   ]
  },
  {
   "cell_type": "code",
   "execution_count": 28,
   "id": "3ef7922e",
   "metadata": {},
   "outputs": [
    {
     "name": "stdout",
     "output_type": "stream",
     "text": [
      "methane\n",
      "ethane\n",
      "propane\n",
      "butane\n",
      "pentane\n"
     ]
    }
   ],
   "source": [
    "prefixes = ['meth', 'eth', 'prop', 'but', 'pent']\n",
    "\n",
    "for stem in prefixes:\n",
    "    print(stem+'ane')"
   ]
  },
  {
   "cell_type": "markdown",
   "id": "403efca6",
   "metadata": {},
   "source": [
    "You can also make a `for` loop use a list of numbers."
   ]
  },
  {
   "cell_type": "code",
   "execution_count": 29,
   "id": "990c34e8",
   "metadata": {},
   "outputs": [
    {
     "name": "stdout",
     "output_type": "stream",
     "text": [
      "0 squared is equal to 0\n",
      "1 squared is equal to 1\n",
      "2 squared is equal to 4\n",
      "3 squared is equal to 9\n"
     ]
    }
   ],
   "source": [
    "for number in [0,1,2,3]:\n",
    "    square = number*number\n",
    "    # I have used a format string below, using the f to show that the indicated \n",
    "    # variables should go where the curly brackets are\n",
    "    print(f\"{number} squared is equal to {square}\")"
   ]
  },
  {
   "cell_type": "markdown",
   "id": "171ab25a",
   "metadata": {},
   "source": [
    "or use the `range` generator, that gives you that list without writing it out. "
   ]
  },
  {
   "cell_type": "code",
   "execution_count": 30,
   "id": "265582b3",
   "metadata": {},
   "outputs": [
    {
     "name": "stdout",
     "output_type": "stream",
     "text": [
      "0 squared is 0\n",
      "1 squared is 1\n",
      "2 squared is 4\n",
      "3 squared is 9\n"
     ]
    }
   ],
   "source": [
    "for n in range(4):\n",
    "    print(f\"{n} squared is {n*n}\")"
   ]
  },
  {
   "cell_type": "markdown",
   "id": "d766c682",
   "metadata": {},
   "source": [
    "Questions:\n",
    "\n",
    "1 - Make a `for` loop that prints the first five names of alcohols (ending in 'anol') using the list `prefixes` defined above \n",
    "\n",
    "2 - Make a `for` loop to print the first 5 cube numbers\n",
    "\n",
    "3 - The general formula for alkanes is $C_nH_{2n+2}$. Write a for loop to give the formula of the first 10 alkanes. "
   ]
  },
  {
   "cell_type": "code",
   "execution_count": 31,
   "id": "a25f8fe9",
   "metadata": {},
   "outputs": [
    {
     "name": "stdout",
     "output_type": "stream",
     "text": [
      "methanol\n",
      "ethanol\n",
      "propanol\n",
      "butanol\n",
      "pentanol\n"
     ]
    }
   ],
   "source": [
    "# Question 1\n",
    "\n",
    "for stem in prefixes:\n",
    "    print(stem + 'anol')\n",
    "    # or\n",
    "    # print(f\"{stem}anol\")\n",
    "    "
   ]
  },
  {
   "cell_type": "code",
   "execution_count": 32,
   "id": "483a8be0",
   "metadata": {},
   "outputs": [
    {
     "name": "stdout",
     "output_type": "stream",
     "text": [
      "0\n",
      "1\n",
      "8\n",
      "27\n",
      "64\n",
      "125\n",
      "216\n",
      "343\n",
      "512\n",
      "729\n"
     ]
    }
   ],
   "source": [
    "# Question 2\n",
    "\n",
    "for x in range(10):\n",
    "    print(x*x*x)\n",
    "    # or \n",
    "    #print(x**3)"
   ]
  },
  {
   "cell_type": "code",
   "execution_count": 8,
   "id": "ac5cdb03",
   "metadata": {},
   "outputs": [
    {
     "name": "stdout",
     "output_type": "stream",
     "text": [
      "C1H4\n",
      "C2H6\n",
      "C3H8\n",
      "C4H10\n",
      "C5H12\n",
      "C6H14\n",
      "C7H16\n",
      "C8H18\n",
      "C9H20\n",
      "C10H22\n"
     ]
    }
   ],
   "source": [
    "# Question 3\n",
    "for n in range(1,11):\n",
    "    print(f\"C{n}H{2*n+2}\")\n",
    "    # am not sure how to subscript the numbers.. "
   ]
  },
  {
   "cell_type": "markdown",
   "id": "43bea330",
   "metadata": {},
   "source": [
    "# Putting it together"
   ]
  },
  {
   "cell_type": "markdown",
   "id": "26455a7d",
   "metadata": {},
   "source": [
    "Below, a `for` loop generates the SMILES strings for the first 6 alkanes"
   ]
  },
  {
   "cell_type": "code",
   "execution_count": 36,
   "id": "23649144",
   "metadata": {},
   "outputs": [
    {
     "name": "stdout",
     "output_type": "stream",
     "text": [
      "C\n",
      "CC\n",
      "CCC\n",
      "CCCC\n",
      "CCCCC\n",
      "CCCCCC\n"
     ]
    }
   ],
   "source": [
    "smile = '' # empty string\n",
    "for i in [1,2,3,4,5,6]:\n",
    "    smile = smile + 'C'\n",
    "    print(smile)"
   ]
  },
  {
   "cell_type": "markdown",
   "id": "25524e80",
   "metadata": {},
   "source": [
    "We can use a generator to give us up to `n` alkanes\n",
    "\n",
    "The `range()` function is a special generator function that returns one number after another, and can be iterated over just like a list. \n",
    "`range(4)` will generate the numbers 0, 1, 2, 3 in that order. Note, the number 4 is not generated, `range` stops before it. "
   ]
  },
  {
   "cell_type": "code",
   "execution_count": 38,
   "id": "3d7bab2b",
   "metadata": {},
   "outputs": [
    {
     "name": "stdout",
     "output_type": "stream",
     "text": [
      "0\n",
      "1\n",
      "2\n",
      "3\n"
     ]
    }
   ],
   "source": [
    "for i in range(4):\n",
    "    print(i)"
   ]
  },
  {
   "cell_type": "markdown",
   "id": "4737debb",
   "metadata": {},
   "source": [
    "We can use this to generate any number of SMILES strings"
   ]
  },
  {
   "cell_type": "markdown",
   "id": "853a0b27",
   "metadata": {},
   "source": [
    "The code below makes the first `n` alkanes SMILES strings"
   ]
  },
  {
   "cell_type": "code",
   "execution_count": 37,
   "id": "14015368",
   "metadata": {},
   "outputs": [
    {
     "name": "stdout",
     "output_type": "stream",
     "text": [
      "C\n",
      "CC\n",
      "CCC\n",
      "CCCC\n",
      "CCCCC\n",
      "CCCCCC\n",
      "CCCCCCC\n"
     ]
    }
   ],
   "source": [
    "n=7\n",
    "smile = '' # empty string\n",
    "for i in range(n):\n",
    "    smile = smile + 'C'\n",
    "    print(smile)"
   ]
  },
  {
   "cell_type": "markdown",
   "id": "a9038a1f",
   "metadata": {},
   "source": [
    "So reusing the for loop above, together with code from lesson 1, we can define a molecule object for each of the SMILES strings, and print the molecular formula and weight for each. \n",
    "\n",
    "The code below prints the molecular weight and formula of the first 7 alcohols. \n",
    "\n",
    "Alcohols have an -OH group, and in smiles strings they have the `O` to represent the -OH group\n",
    "\n",
    "- Methanol $CH_3OH$ is `CO`\n",
    "- Ethanol $CH_3OH$ is `CCO`\n",
    "- Propan-1-ol $CH_3CH_2CH_2OH$ is `CCCO`\n",
    "\n",
    "Note we need to import the libraries before we can use them.\n",
    "\n",
    "To Do:\n",
    "- fill in the comments to explain what each statement does"
   ]
  },
  {
   "cell_type": "code",
   "execution_count": 13,
   "id": "cb3f45b8",
   "metadata": {},
   "outputs": [
    {
     "name": "stdout",
     "output_type": "stream",
     "text": [
      "OC has molecular weight 32.03 and formula CH4O\n",
      "OCC has molecular weight 46.04 and formula C2H6O\n",
      "OCCC has molecular weight 60.06 and formula C3H8O\n",
      "OCCCC has molecular weight 74.07 and formula C4H10O\n",
      "OCCCCC has molecular weight 88.09 and formula C5H12O\n",
      "OCCCCCC has molecular weight 102.1 and formula C6H14O\n",
      "OCCCCCCC has molecular weight 116.12 and formula C7H16O\n"
     ]
    }
   ],
   "source": [
    "import rdkit.Chem as rdc\n",
    "from rdkit.Chem.rdMolDescriptors import CalcExactMolWt, CalcMolFormula\n",
    "\n",
    "\n",
    "# defining the number of carbons we will go up to\n",
    "n=7\n",
    "# making the first bit of the smiles string\n",
    "smile = 'O' # start string\n",
    "\n",
    "# For loop going from i = 0 to i = n-1\n",
    "for i in range(n):\n",
    "    # this appends another C to the smiles string\n",
    "    smile = smile + 'C' \n",
    "    # This makes the molecule object\n",
    "    mol = rdc.MolFromSmiles(smile) \n",
    "    # calculate weight and formula\n",
    "    mw = CalcExactMolWt(mol) \n",
    "    mf = CalcMolFormula(mol) \n",
    "    # rounding to 2 dp\n",
    "    mw = round(mw, 2) \n",
    "    # formatting the string for output\n",
    "    print(f\"{smile} has molecular weight {mw} and formula {mf}\") "
   ]
  },
  {
   "cell_type": "markdown",
   "id": "de2e8129",
   "metadata": {},
   "source": [
    "Alkenes are shown in SMILES string with a `=` to represent the double bond. \n",
    "\n",
    "- Ethene $CH_2CH_2$ is `C=C`\n",
    "- Propene $CH_3CHCH_2$ is `CC=C`\n",
    "- But-1-ene $CH_3CH_2CHCH_2$ is `CCC=C`\n",
    "\n",
    "The code below shows the first `n` alkenes being generated the same way as before. However there are two mistakes. \n",
    "\n",
    "To do:\n",
    "- Fill in the comments\n",
    "- Fix the mistakes"
   ]
  },
  {
   "cell_type": "code",
   "execution_count": 11,
   "id": "4dbf7c42",
   "metadata": {},
   "outputs": [
    {
     "name": "stdout",
     "output_type": "stream",
     "text": [
      "C=C has molecular weight 28.03 and formula C2H4\n",
      "C=CC has molecular weight 42.05 and formula C3H6\n",
      "C=CCC has molecular weight 56.06 and formula C4H8\n",
      "C=CCCC has molecular weight 70.08 and formula C5H10\n",
      "C=CCCCC has molecular weight 84.09 and formula C6H12\n",
      "C=CCCCCC has molecular weight 98.11 and formula C7H14\n",
      "C=CCCCCCC has molecular weight 112.13 and formula C8H16\n"
     ]
    }
   ],
   "source": [
    "#\n",
    "n=7\n",
    "#\n",
    "smile = 'C=' # start string\n",
    "\n",
    "#\n",
    "for i in range(n):\n",
    "    #\n",
    "    # mistake here, need to swap these around or the smiles string won't be correct, can't end '='\n",
    "    # smile = 'C' +smile\n",
    "    smile = smile + 'C'\n",
    "\n",
    "    mol = rdc.MolFromSmiles(smile) \n",
    "    #\n",
    "    mw = CalcExactMolWt(mol) \n",
    "    mf = CalcMolFormula(mol) \n",
    "    # \n",
    "    # mistake here, need to put mw not mf in\n",
    "    # mw = round(mf, 2) \n",
    "    mw = round(mw, 2) \n",
    "\n",
    "    # formatting the string for output\n",
    "    print(f\"{smile} has molecular weight {mw} and formula {mf}\") "
   ]
  },
  {
   "cell_type": "markdown",
   "id": "6d6c3391",
   "metadata": {},
   "source": [
    "Now use what you have learned to do the same code for the first `n` alkanes. "
   ]
  },
  {
   "cell_type": "code",
   "execution_count": 13,
   "id": "01a45dfa",
   "metadata": {},
   "outputs": [
    {
     "name": "stdout",
     "output_type": "stream",
     "text": [
      "C has molecular weight 16.03 and formula CH4\n",
      "CC has molecular weight 30.05 and formula C2H6\n",
      "CCC has molecular weight 44.06 and formula C3H8\n",
      "CCCC has molecular weight 58.08 and formula C4H10\n",
      "CCCCC has molecular weight 72.09 and formula C5H12\n",
      "CCCCCC has molecular weight 86.11 and formula C6H14\n",
      "CCCCCCC has molecular weight 100.13 and formula C7H16\n"
     ]
    }
   ],
   "source": [
    "# Your code here\n",
    "n=7\n",
    "smile = '' # empty string\n",
    "\n",
    "for i in range(n):\n",
    "    smile = smile + 'C'\n",
    "    mol = rdc.MolFromSmiles(smile) \n",
    "    mw = CalcExactMolWt(mol) \n",
    "    mf = CalcMolFormula(mol)  \n",
    "    mw = round(mw, 2) \n",
    "\n",
    "    # formatting the string for output\n",
    "    print(f\"{smile} has molecular weight {mw} and formula {mf}\") \n"
   ]
  },
  {
   "cell_type": "markdown",
   "id": "91968f24",
   "metadata": {},
   "source": [
    "Class activity:\n",
    "\n",
    "- Make it draw out the structure for each alkane."
   ]
  },
  {
   "cell_type": "markdown",
   "id": "a73e2dc7",
   "metadata": {},
   "source": [
    "This is much harder due to the way rdkit interacts with jupyter notebooks\n",
    "\n",
    "There is more than one solution, but here is the simplest in my opinion. \n",
    "\n",
    "You need to make a list of the molecule objects, then use that as the arguement in the `rdc.Draw.MolsToGridImage()` function. "
   ]
  },
  {
   "cell_type": "code",
   "execution_count": 14,
   "id": "f53b7512",
   "metadata": {},
   "outputs": [
    {
     "data": {
      "image/png": "[encoded data removed]",
      "text/plain": [
       "<IPython.core.display.Image object>"
      ]
     },
     "execution_count": 14,
     "metadata": {},
     "output_type": "execute_result"
    }
   ],
   "source": [
    "n=9\n",
    "mols = []\n",
    "smile = '' # empty string\n",
    "for i in range(n):\n",
    "    smile = smile + 'C' # Q1\n",
    "    mol = rdc.MolFromSmiles(smile) # Q2\n",
    "    mols.append(mol)\n",
    "\n",
    "rdc.Draw.MolsToGridImage(mols)"
   ]
  },
  {
   "cell_type": "markdown",
   "id": "4dbe8cad",
   "metadata": {},
   "source": [
    "You can use the matplotlib library to do this, but the results are not maybe as nice.. up to you"
   ]
  },
  {
   "cell_type": "code",
   "execution_count": 16,
   "id": "2488745a",
   "metadata": {},
   "outputs": [
    {
     "data": {
      "image/png": "[encoded data removed]",
      "text/plain": [
       "<Figure size 216x216 with 1 Axes>"
      ]
     },
     "metadata": {
      "needs_background": "light"
     },
     "output_type": "display_data"
    },
    {
     "data": {
      "image/png": "[encoded data removed]",
      "text/plain": [
       "<Figure size 216x216 with 1 Axes>"
      ]
     },
     "metadata": {
      "needs_background": "light"
     },
     "output_type": "display_data"
    },
    {
     "data": {
      "image/png": "[encoded data removed]",
      "text/plain": [
       "<Figure size 216x216 with 1 Axes>"
      ]
     },
     "metadata": {
      "needs_background": "light"
     },
     "output_type": "display_data"
    },
    {
     "data": {
      "image/png": "[encoded data removed]",
      "text/plain": [
       "<Figure size 216x216 with 1 Axes>"
      ]
     },
     "metadata": {
      "needs_background": "light"
     },
     "output_type": "display_data"
    },
    {
     "data": {
      "image/png": "[encoded data removed]",
      "text/plain": [
       "<Figure size 216x216 with 1 Axes>"
      ]
     },
     "metadata": {
      "needs_background": "light"
     },
     "output_type": "display_data"
    },
    {
     "data": {
      "image/png": "[encoded data removed]",
      "text/plain": [
       "<Figure size 216x216 with 1 Axes>"
      ]
     },
     "metadata": {
      "needs_background": "light"
     },
     "output_type": "display_data"
    },
    {
     "data": {
      "image/png": "[encoded data removed]",
      "text/plain": [
       "<Figure size 216x216 with 1 Axes>"
      ]
     },
     "metadata": {
      "needs_background": "light"
     },
     "output_type": "display_data"
    },
    {
     "data": {
      "image/png": "[encoded data removed]",
      "text/plain": [
       "<Figure size 216x216 with 1 Axes>"
      ]
     },
     "metadata": {
      "needs_background": "light"
     },
     "output_type": "display_data"
    },
    {
     "data": {
      "image/png": "[encoded data removed]",
      "text/plain": [
       "<Figure size 216x216 with 1 Axes>"
      ]
     },
     "metadata": {
      "needs_background": "light"
     },
     "output_type": "display_data"
    }
   ],
   "source": [
    "n=9\n",
    "smile = '' # empty string\n",
    "for i in range(n):\n",
    "    smile = smile + 'C' # Q1\n",
    "    mol = rdc.MolFromSmiles(smile) # Q2\n",
    "    rdc.Draw.MolToMPL(mol)\n"
   ]
  },
  {
   "cell_type": "markdown",
   "id": "a36b7bc3",
   "metadata": {},
   "source": [
    "You can use the `rdc.Draw.MolToFile` function which saves an image to a file, given a file name. "
   ]
  },
  {
   "cell_type": "code",
   "execution_count": 18,
   "id": "e2ea38e2",
   "metadata": {},
   "outputs": [],
   "source": [
    "prefixes = ['meth', 'eth', 'prop', 'but', 'pent', 'hex', 'hept', 'oct', 'non', 'dec']\n",
    "n=9\n",
    "smile = '' # empty string\n",
    "for i in range(n):\n",
    "    smile = smile + 'C' # Q1\n",
    "    mol = rdc.MolFromSmiles(smile) # Q2\n",
    "    filename = f\"{prefixes[i]}ane_image.png\"\n",
    "    # or use the number, don't have to know the prefixes for each..\n",
    "    filename = f\"alkane{i}_image.png\"\n",
    "    rdc.Draw.MolToFile(mol, filename)"
   ]
  },
  {
   "cell_type": "markdown",
   "id": "1c9f2a52",
   "metadata": {},
   "source": [
    "Can you do this for other 'homologous serieses'? Such as alkenes, alcohols\n"
   ]
  },
  {
   "cell_type": "code",
   "execution_count": 41,
   "id": "a03d2e70",
   "metadata": {},
   "outputs": [
    {
     "data": {
      "image/png": "[encoded data removed]",
      "text/plain": [
       "<IPython.core.display.Image object>"
      ]
     },
     "execution_count": 41,
     "metadata": {},
     "output_type": "execute_result"
    }
   ],
   "source": [
    "# alkenes\n",
    "n=9\n",
    "mols = []\n",
    "smile = 'C=C' # empty string\n",
    "for i in range(n):\n",
    "    mol = Chem.MolFromSmiles(smile) # Q2\n",
    "    smile = smile + 'C' # Q1\n",
    "    mols.append(mol)\n",
    "\n",
    "Draw.MolsToGridImage(mols)"
   ]
  },
  {
   "cell_type": "code",
   "execution_count": 43,
   "id": "a00163b8",
   "metadata": {},
   "outputs": [
    {
     "data": {
      "image/png": "[encoded data removed]",
      "text/plain": [
       "<IPython.core.display.Image object>"
      ]
     },
     "execution_count": 43,
     "metadata": {},
     "output_type": "execute_result"
    }
   ],
   "source": [
    "# alcohols\n",
    "n=9\n",
    "mols = []\n",
    "smile = 'CO' # methanol\n",
    "for i in range(n):\n",
    "    mol = Chem.MolFromSmiles(smile) # Q2\n",
    "    smile = 'C' + smile# Q1\n",
    "    mols.append(mol)\n",
    "\n",
    "Draw.MolsToGridImage(mols)"
   ]
  },
  {
   "cell_type": "markdown",
   "id": "56546b6f",
   "metadata": {},
   "source": []
  }
 ],
 "metadata": {
  "kernelspec": {
   "display_name": "Python 3 (ipykernel)",
   "language": "python",
   "name": "python3"
  },
  "language_info": {
   "codemirror_mode": {
    "name": "ipython",
    "version": 3
   },
   "file_extension": ".py",
   "mimetype": "text/x-python",
   "name": "python",
   "nbconvert_exporter": "python",
   "pygments_lexer": "ipython3",
   "version": "3.8.12"
  }
 },
 "nbformat": 4,
 "nbformat_minor": 5
}
