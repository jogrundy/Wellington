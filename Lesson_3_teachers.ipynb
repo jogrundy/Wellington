{
 "cells": [
  {
   "cell_type": "markdown",
   "id": "6696d98b-49f9-4ba9-8016-a683c06991b1",
   "metadata": {},
   "source": [
    "# Introduction to Python in Chemistry Lesson 3"
   ]
  },
  {
   "cell_type": "markdown",
   "id": "e397917a",
   "metadata": {},
   "source": [
    "# Arrays and Lists"
   ]
  },
  {
   "cell_type": "markdown",
   "id": "27aa6095",
   "metadata": {},
   "source": [
    "We can store variables in a list, which also can be called an array. \n",
    "\n",
    "In Python we define a list using square brackets, with commas to separate the members of the list. \n",
    "\n",
    "`my_list = ['one', 2, True, 0.4]`\n",
    "\n",
    "Lists can contain any type of variable, and many different types of variable can be in the same list.\n",
    "\n",
    "To do :\n",
    "- Change this list to be the names of people you like."
   ]
  },
  {
   "cell_type": "code",
   "execution_count": null,
   "id": "372a2cf3",
   "metadata": {},
   "outputs": [],
   "source": [
    "people = ['Alice', 'Bob', 'Carol', 'Dave']"
   ]
  },
  {
   "cell_type": "markdown",
   "id": "7c393559",
   "metadata": {},
   "source": [
    "You can find who your number one person is by indexing. \n",
    "\n",
    "Indexing for lists works the same way as for strings, for example `my_people[1]`"
   ]
  },
  {
   "cell_type": "code",
   "execution_count": null,
   "id": "fe676f3e",
   "metadata": {},
   "outputs": [],
   "source": [
    "people[1]"
   ]
  },
  {
   "cell_type": "markdown",
   "id": "c51e3361",
   "metadata": {},
   "source": [
    "Just like in strings, lists in Python are *zero indexed*, which makes the first value indexed by zero: `my_people[0]`"
   ]
  },
  {
   "cell_type": "code",
   "execution_count": null,
   "id": "fae4bb95",
   "metadata": {},
   "outputs": [],
   "source": [
    "people[0]"
   ]
  },
  {
   "cell_type": "markdown",
   "id": "fcb53850",
   "metadata": {},
   "source": [
    "To Index the last value in the array, you can use `my_people[-1]`"
   ]
  },
  {
   "cell_type": "code",
   "execution_count": null,
   "id": "f697909e",
   "metadata": {},
   "outputs": [],
   "source": [
    "people[-1]"
   ]
  },
  {
   "cell_type": "markdown",
   "id": "46321e25",
   "metadata": {},
   "source": [
    "What happens when you try to index an item that isn't there?\n",
    "\n",
    "try `people[7]`"
   ]
  },
  {
   "cell_type": "code",
   "execution_count": 1,
   "id": "de047fc2",
   "metadata": {},
   "outputs": [
    {
     "ename": "NameError",
     "evalue": "name 'people' is not defined",
     "output_type": "error",
     "traceback": [
      "\u001b[0;31m---------------------------------------------------------------------------\u001b[0m",
      "\u001b[0;31mNameError\u001b[0m                                 Traceback (most recent call last)",
      "\u001b[0;32m/var/folders/dl/pczkvbw15215r_302bklrz2m0000gq/T/ipykernel_97799/1514553906.py\u001b[0m in \u001b[0;36m<module>\u001b[0;34m\u001b[0m\n\u001b[1;32m      1\u001b[0m \u001b[0;31m#put your code in here\u001b[0m\u001b[0;34m\u001b[0m\u001b[0;34m\u001b[0m\u001b[0;34m\u001b[0m\u001b[0m\n\u001b[0;32m----> 2\u001b[0;31m \u001b[0mpeople\u001b[0m\u001b[0;34m[\u001b[0m\u001b[0;36m7\u001b[0m\u001b[0;34m]\u001b[0m\u001b[0;34m\u001b[0m\u001b[0;34m\u001b[0m\u001b[0m\n\u001b[0m",
      "\u001b[0;31mNameError\u001b[0m: name 'people' is not defined"
     ]
    }
   ],
   "source": [
    "#put your code in here\n",
    "people[7]"
   ]
  },
  {
   "cell_type": "markdown",
   "id": "bbd4a3b9",
   "metadata": {},
   "source": [
    "You get an `IndexError`, as there is no index `7` in this list, it is too short."
   ]
  },
  {
   "cell_type": "markdown",
   "id": "e7a4e119",
   "metadata": {},
   "source": [
    "You can slice a list, just like a string, using a colon to separate the first and last index. \n",
    "\n",
    "For example, `\"a long string\"[2:4]` gives the third and fourth characters of the string.\n",
    "\n",
    "To do:\n",
    "- Show how you get the first two members of the `people` list."
   ]
  },
  {
   "cell_type": "code",
   "execution_count": null,
   "id": "72a51701",
   "metadata": {},
   "outputs": [],
   "source": [
    "# put your code here\n",
    "people[0:2]\n",
    "# or \n",
    "#people[:2] #will also work"
   ]
  },
  {
   "cell_type": "markdown",
   "id": "3cccb08d",
   "metadata": {},
   "source": [
    "You can add another list to this list by using the overloaded `+` operator"
   ]
  },
  {
   "cell_type": "code",
   "execution_count": null,
   "id": "6d6db6c3",
   "metadata": {},
   "outputs": [],
   "source": [
    "people + ['Dog', 'Cat']"
   ]
  },
  {
   "cell_type": "markdown",
   "id": "69b923a6",
   "metadata": {},
   "source": [
    "Note that because we didn't assign this new concatenated list to the variable name `people`, that list still has the same people as it did before. "
   ]
  },
  {
   "cell_type": "code",
   "execution_count": null,
   "id": "3cb95094",
   "metadata": {},
   "outputs": [],
   "source": [
    "people"
   ]
  },
  {
   "cell_type": "markdown",
   "id": "b971f698",
   "metadata": {},
   "source": [
    "You can also add to the list by using the `append` function"
   ]
  },
  {
   "cell_type": "code",
   "execution_count": null,
   "id": "e4e48011",
   "metadata": {},
   "outputs": [],
   "source": [
    "people.append('Edward')\n",
    "people"
   ]
  },
  {
   "cell_type": "markdown",
   "id": "eeb86d60",
   "metadata": {},
   "source": [
    "You can also append to an empty list, `[]`"
   ]
  },
  {
   "cell_type": "code",
   "execution_count": null,
   "id": "d7bb2f14",
   "metadata": {},
   "outputs": [],
   "source": [
    "empty = []\n",
    "empty.append('meth')\n",
    "empty"
   ]
  },
  {
   "cell_type": "markdown",
   "id": "4c169400",
   "metadata": {},
   "source": [
    "So the list `empty` isn't empty any more."
   ]
  },
  {
   "cell_type": "markdown",
   "id": "793849cf",
   "metadata": {},
   "source": [
    "The overloaded `*` operator also acts on lists. On strings, it just multiplies the string. \n",
    "\n",
    "To do:\n",
    "- try `2 * people` below to see what you get."
   ]
  },
  {
   "cell_type": "code",
   "execution_count": null,
   "id": "9da2f26c",
   "metadata": {},
   "outputs": [],
   "source": [
    "# put your code here\n",
    "2*people"
   ]
  },
  {
   "cell_type": "markdown",
   "id": "d02b5c05",
   "metadata": {},
   "source": [
    "# Array Questions:\n",
    "\n",
    "1 - Why would you not call a list `print`?\n",
    "\n",
    "2 - Define an empty list called `alkanes`\n",
    "\n",
    "3 - Append the SMILES string for methane, `C` to it. \n",
    "\n",
    "4 - Then append the SMILES strings for more alkanes, up to 6 carbons long\n",
    "\n",
    "5 - How would you find the length of a list?"
   ]
  },
  {
   "cell_type": "code",
   "execution_count": null,
   "id": "2f230ace",
   "metadata": {},
   "outputs": [],
   "source": [
    "# Question 1\n",
    "#print is a function in Python. it can be used to make a list. \n",
    "# Variables should never be key words\n",
    "\n",
    "#print = [1,2,'three', False] # Don't do this!\n"
   ]
  },
  {
   "cell_type": "code",
   "execution_count": null,
   "id": "a0744575",
   "metadata": {},
   "outputs": [],
   "source": [
    "# Question 2\n",
    "alkanes = []\n"
   ]
  },
  {
   "cell_type": "code",
   "execution_count": null,
   "id": "793b9837",
   "metadata": {},
   "outputs": [],
   "source": [
    "# Question 3\n",
    "alkanes.append('C')"
   ]
  },
  {
   "cell_type": "code",
   "execution_count": null,
   "id": "55adbcb3",
   "metadata": {},
   "outputs": [],
   "source": [
    "# Question 4\n",
    "alkanes.append('CC')\n",
    "alkanes.append('CCC')\n",
    "alkanes.append('CCCC')\n",
    "alkanes.append('CCCCC')\n",
    "alkanes.append('CCCCCC')"
   ]
  },
  {
   "cell_type": "code",
   "execution_count": null,
   "id": "3ae86ffc",
   "metadata": {},
   "outputs": [],
   "source": [
    "# Question 5\n",
    "len(alkanes)\n",
    "# same as you would with a string"
   ]
  },
  {
   "cell_type": "markdown",
   "id": "5b655bb3",
   "metadata": {},
   "source": [
    "# For Loops"
   ]
  },
  {
   "cell_type": "markdown",
   "id": "d4e91484",
   "metadata": {},
   "source": [
    "If we want to do the same thing to each thing in the list, it would be quite annoying to have to write out the same code again and again. "
   ]
  },
  {
   "cell_type": "markdown",
   "id": "85ce292c",
   "metadata": {},
   "source": [
    "We can use a `for` loop to do the same code for each thing in the array. \n",
    "\n",
    "The statement `for name in my_people:` makes the variable name equal to each of the values in `my_people` one after the other. \n",
    "\n",
    "The code that will be executed for each `name` is indented underneath it. "
   ]
  },
  {
   "cell_type": "code",
   "execution_count": null,
   "id": "dc9a35bb",
   "metadata": {},
   "outputs": [],
   "source": [
    "for name in people: \n",
    "    print('Hello, ' + name + '!')"
   ]
  },
  {
   "cell_type": "markdown",
   "id": "5dee77cf",
   "metadata": {},
   "source": [
    "You can use this for any list. For example, naming alkanes has the first part, that tells you how many carbons there are, and a second part that tells you what sort of molecule it is. "
   ]
  },
  {
   "cell_type": "code",
   "execution_count": null,
   "id": "3ef7922e",
   "metadata": {},
   "outputs": [],
   "source": [
    "stems = ['meth', 'eth', 'prop', 'but', 'pent']\n",
    "\n",
    "for stem in stems:\n",
    "    print(stem+'ane')"
   ]
  },
  {
   "cell_type": "markdown",
   "id": "403efca6",
   "metadata": {},
   "source": [
    "You can also make a `for` loop use a list of numbers."
   ]
  },
  {
   "cell_type": "code",
   "execution_count": null,
   "id": "990c34e8",
   "metadata": {},
   "outputs": [],
   "source": [
    "for number in [0,1,2,3]:\n",
    "    square = number*number\n",
    "    print(f\"{number} squared is equal to {square}\")"
   ]
  },
  {
   "cell_type": "markdown",
   "id": "171ab25a",
   "metadata": {},
   "source": [
    "or use the `range` generator, that gives you that list without writing it out. "
   ]
  },
  {
   "cell_type": "code",
   "execution_count": null,
   "id": "265582b3",
   "metadata": {},
   "outputs": [],
   "source": [
    "for n in range(4):\n",
    "    print(f'{n} squared is {n*n}')"
   ]
  },
  {
   "cell_type": "markdown",
   "id": "d766c682",
   "metadata": {},
   "source": [
    "Questions:\n",
    "\n",
    "1 - Make a `for` loop that prints the first five names of alcohols (ending in 'anol') using the list `stems` defined above \n",
    "\n",
    "2 - Make a `for` loop to print the first 5 cube numbers\n",
    "\n",
    "3 - The general formula for alkanes is $$C_nH_{2n+2}$$. Write a for loop to give the formula of the first 10 alkanes. "
   ]
  },
  {
   "cell_type": "code",
   "execution_count": null,
   "id": "a25f8fe9",
   "metadata": {},
   "outputs": [],
   "source": [
    "# Question 1\n",
    "\n",
    "for stem in stems:\n",
    "    print(stem+'anol')"
   ]
  },
  {
   "cell_type": "code",
   "execution_count": null,
   "id": "483a8be0",
   "metadata": {},
   "outputs": [],
   "source": [
    "# Question 2\n",
    "\n",
    "for n in range(5):\n",
    "    print(n*n*n)"
   ]
  },
  {
   "cell_type": "code",
   "execution_count": 10,
   "id": "ac5cdb03",
   "metadata": {},
   "outputs": [
    {
     "name": "stdout",
     "output_type": "stream",
     "text": [
      "C1H4\n",
      "C2H6\n",
      "C3H8\n",
      "C4H10\n",
      "C5H12\n",
      "C6H14\n",
      "C7H16\n",
      "C8H18\n",
      "C9H20\n",
      "C10H22\n"
     ]
    }
   ],
   "source": [
    "# Question 3\n",
    "\n",
    "# can use \n",
    "# # for n in [1,2,3,4,5,6,7,8,9,10] as well..\n",
    "for n in range(1,11):\n",
    "    print(f\"C{n}H{2*n+2}\")"
   ]
  },
  {
   "cell_type": "markdown",
   "id": "43bea330",
   "metadata": {},
   "source": [
    "# Putting it together"
   ]
  },
  {
   "cell_type": "markdown",
   "id": "26455a7d",
   "metadata": {},
   "source": [
    "Below, a `for` loop generates the SMILES strings for the first 6 alkanes"
   ]
  },
  {
   "cell_type": "code",
   "execution_count": 12,
   "id": "23649144",
   "metadata": {},
   "outputs": [
    {
     "name": "stdout",
     "output_type": "stream",
     "text": [
      "C\n",
      "CC\n",
      "CCC\n",
      "CCCC\n",
      "CCCCC\n",
      "CCCCCC\n"
     ]
    }
   ],
   "source": [
    "smile = '' # empty string\n",
    "for i in [1,2,3,4,5,6]:\n",
    "    smile = smile + 'C'\n",
    "    print(smile)"
   ]
  },
  {
   "cell_type": "markdown",
   "id": "25524e80",
   "metadata": {},
   "source": [
    "We can use a generator to give us up to `n` alkanes\n",
    "\n",
    "The `range()` function is a special generator function that returns one number after another, and can be iterated over just like a list. \n",
    "`range(4)` will generate the numbers 0, 1, 2, 3 in that order. Note, the number 4 is not generated, `range` stops before it. "
   ]
  },
  {
   "cell_type": "code",
   "execution_count": 13,
   "id": "14015368",
   "metadata": {},
   "outputs": [
    {
     "name": "stdout",
     "output_type": "stream",
     "text": [
      "C\n",
      "CC\n",
      "CCC\n",
      "CCCC\n",
      "CCCCC\n",
      "CCCCCC\n",
      "CCCCCCC\n"
     ]
    }
   ],
   "source": [
    "n=7\n",
    "smile = '' # empty string\n",
    "for i in range(n):\n",
    "    smile = smile + 'C'\n",
    "    print(smile)"
   ]
  },
  {
   "cell_type": "markdown",
   "id": "4dbf7c42",
   "metadata": {},
   "source": [
    "Questions: \n",
    "1.  Reusing the `for` loop above, make a SMILES string for each of the first 10 alkanes, `n=10`\n",
    "\n",
    "2.  Using code from lesson 1, define a molecule object for each of the SMILES strings\n",
    "\n",
    "3.  Calculate the molecular formula and weight for each\n",
    "\n",
    "4.  Print the molecular formula and the molecular weight on the same line for each one\n",
    "\n",
    "5.  Find out how to round the molecular weight to 2 d.p."
   ]
  },
  {
   "cell_type": "code",
   "execution_count": 16,
   "id": "01a45dfa",
   "metadata": {},
   "outputs": [
    {
     "name": "stdout",
     "output_type": "stream",
     "text": [
      "C has molecular weight 16.03 and formula CH4\n",
      "CC has molecular weight 30.05 and formula C2H6\n",
      "CCC has molecular weight 44.06 and formula C3H8\n",
      "CCCC has molecular weight 58.08 and formula C4H10\n",
      "CCCCC has molecular weight 72.09 and formula C5H12\n",
      "CCCCCC has molecular weight 86.11 and formula C6H14\n",
      "CCCCCCC has molecular weight 100.13 and formula C7H16\n"
     ]
    }
   ],
   "source": [
    "# Questions 1, 2, 3, 4, 5\n",
    "from rdkit import Chem\n",
    "from rdkit.Chem.rdMolDescriptors import CalcExactMolWt, CalcMolFormula\n",
    "from rdkit.Chem import Draw\n",
    "\n",
    "\n",
    "n=7\n",
    "smile = '' # empty string\n",
    "for i in range(n):\n",
    "    smile = smile + 'C' # Q1\n",
    "    mol = Chem.MolFromSmiles(smile) # Q2\n",
    "    mw = CalcExactMolWt(mol) # Q3\n",
    "    mf = CalcMolFormula(mol) # Q3\n",
    "    # print(f\"{smile} has molecular weight {mw} and formula {mf}\") # Q4\n",
    "    mw = round(mw, 2) # Q5\n",
    "    print(f\"{smile} has molecular weight {mw} and formula {mf}\") # Q4, Q5"
   ]
  },
  {
   "cell_type": "markdown",
   "id": "91968f24",
   "metadata": {},
   "source": [
    "If you finish that, try making it draw out the structure for each one.. You may need to google."
   ]
  },
  {
   "cell_type": "markdown",
   "id": "a73e2dc7",
   "metadata": {},
   "source": [
    "This is much harder due to the way rdkit interacts with jupyter notebooks\n",
    "\n",
    "Try by making an array, then the `Draw.MolsToGridImage()` function. "
   ]
  },
  {
   "cell_type": "code",
   "execution_count": 18,
   "id": "f53b7512",
   "metadata": {},
   "outputs": [
    {
     "data": {
      "image/png": "[encoded data removed]",
      "text/plain": [
       "<IPython.core.display.Image object>"
      ]
     },
     "execution_count": 18,
     "metadata": {},
     "output_type": "execute_result"
    }
   ],
   "source": [
    "n=9\n",
    "mols = []\n",
    "smile = '' # empty string\n",
    "for i in range(n):\n",
    "    smile = smile + 'C' # Q1\n",
    "    mol = Chem.MolFromSmiles(smile) # Q2\n",
    "    mols.append(mol)\n",
    "\n",
    "Draw.MolsToGridImage(mols)\n",
    "\n"
   ]
  },
  {
   "cell_type": "markdown",
   "id": "1c9f2a52",
   "metadata": {},
   "source": [
    "Can you do this for other 'homologous serieses'? Such as alkenes, alcohols\n"
   ]
  },
  {
   "cell_type": "code",
   "execution_count": 19,
   "id": "a03d2e70",
   "metadata": {},
   "outputs": [
    {
     "data": {
      "image/png": "[encoded data removed]",
      "text/plain": [
       "<IPython.core.display.Image object>"
      ]
     },
     "execution_count": 19,
     "metadata": {},
     "output_type": "execute_result"
    }
   ],
   "source": [
    "# alkenes\n",
    "n=9\n",
    "mols = []\n",
    "smile = 'C=C' # empty string\n",
    "for i in range(n):\n",
    "    mol = Chem.MolFromSmiles(smile) # Q2\n",
    "    smile = smile + 'C' # Q1\n",
    "    mols.append(mol)\n",
    "\n",
    "Draw.MolsToGridImage(mols)"
   ]
  },
  {
   "cell_type": "code",
   "execution_count": 23,
   "id": "fb9209be",
   "metadata": {},
   "outputs": [
    {
     "data": {
      "image/png": "[encoded data removed]",
      "text/plain": [
       "<IPython.core.display.Image object>"
      ]
     },
     "execution_count": 23,
     "metadata": {},
     "output_type": "execute_result"
    }
   ],
   "source": [
    "# alcohols\n",
    "n=9\n",
    "mols = []\n",
    "smile = 'CO' # methanol\n",
    "for i in range(n):\n",
    "    mol = Chem.MolFromSmiles(smile) # Q2\n",
    "    smile = 'C' + smile# Q1\n",
    "    mols.append(mol)\n",
    "\n",
    "Draw.MolsToGridImage(mols)"
   ]
  },
  {
   "cell_type": "code",
   "execution_count": 24,
   "id": "a00163b8",
   "metadata": {},
   "outputs": [
    {
     "data": {
      "image/png": "[encoded data removed]",
      "text/plain": [
       "<IPython.core.display.Image object>"
      ]
     },
     "execution_count": 24,
     "metadata": {},
     "output_type": "execute_result"
    }
   ],
   "source": [
    "# aldehydes\n",
    "n=9\n",
    "mols = []\n",
    "smile = 'C=O' # methanal\n",
    "for i in range(n):\n",
    "    mol = Chem.MolFromSmiles(smile) # Q2\n",
    "    smile = 'C' + smile# Q1\n",
    "    mols.append(mol)\n",
    "\n",
    "Draw.MolsToGridImage(mols)"
   ]
  },
  {
   "cell_type": "code",
   "execution_count": 25,
   "id": "0deca244",
   "metadata": {},
   "outputs": [
    {
     "data": {
      "image/png": "[encoded data removed]",
      "text/plain": [
       "<IPython.core.display.Image object>"
      ]
     },
     "execution_count": 25,
     "metadata": {},
     "output_type": "execute_result"
    }
   ],
   "source": [
    "# acids\n",
    "n=9\n",
    "mols = []\n",
    "smile = 'C(O)=O' # methanoic acid\n",
    "for i in range(n):\n",
    "    mol = Chem.MolFromSmiles(smile) # Q2\n",
    "    smile = 'C' + smile# Q1\n",
    "    mols.append(mol)\n",
    "\n",
    "Draw.MolsToGridImage(mols)"
   ]
  },
  {
   "cell_type": "markdown",
   "id": "56546b6f",
   "metadata": {},
   "source": []
  }
 ],
 "metadata": {
  "kernelspec": {
   "display_name": "Python 3 (ipykernel)",
   "language": "python",
   "name": "python3"
  },
  "language_info": {
   "codemirror_mode": {
    "name": "ipython",
    "version": 3
   },
   "file_extension": ".py",
   "mimetype": "text/x-python",
   "name": "python",
   "nbconvert_exporter": "python",
   "pygments_lexer": "ipython3",
   "version": "3.8.12"
  }
 },
 "nbformat": 4,
 "nbformat_minor": 5
}
