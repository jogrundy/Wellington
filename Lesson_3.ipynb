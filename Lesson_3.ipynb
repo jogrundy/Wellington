{
 "cells": [
  {
   "cell_type": "markdown",
   "id": "6696d98b-49f9-4ba9-8016-a683c06991b1",
   "metadata": {},
   "source": [
    "# Introduction to Python in Chemistry Lesson 3"
   ]
  },
  {
   "cell_type": "markdown",
   "id": "e397917a",
   "metadata": {},
   "source": [
    "# Lists"
   ]
  },
  {
   "cell_type": "markdown",
   "id": "27aa6095",
   "metadata": {},
   "source": [
    "We can store variables in a list, which also can be called an array. \n",
    "\n",
    "In Python we define a list using square brackets, with commas to separate the members of the list. \n",
    "\n",
    "`my_list = ['one', 2, True, 0.4]`\n",
    "\n",
    "Lists can contain any type of variable, and many different types of variable can be in the same list.\n",
    "\n",
    "To do :\n",
    "- Change this list to be the names of people you like."
   ]
  },
  {
   "cell_type": "code",
   "execution_count": null,
   "id": "372a2cf3",
   "metadata": {},
   "outputs": [],
   "source": [
    "people = ['Alice', 'Bob', 'Carol', 'Dave']"
   ]
  },
  {
   "cell_type": "markdown",
   "id": "7c393559",
   "metadata": {},
   "source": [
    "You can find who your number one person is by indexing. \n",
    "\n",
    "Indexing for lists works the same way as for strings, for example `my_people[1]`"
   ]
  },
  {
   "cell_type": "code",
   "execution_count": null,
   "id": "fe676f3e",
   "metadata": {},
   "outputs": [],
   "source": [
    "people[1]"
   ]
  },
  {
   "cell_type": "markdown",
   "id": "c51e3361",
   "metadata": {},
   "source": [
    "Just like in strings, lists in Python are *zero indexed*, which makes the first value indexed by zero: `my_people[0]`"
   ]
  },
  {
   "cell_type": "code",
   "execution_count": null,
   "id": "fae4bb95",
   "metadata": {},
   "outputs": [],
   "source": [
    "people[0]"
   ]
  },
  {
   "cell_type": "markdown",
   "id": "fcb53850",
   "metadata": {},
   "source": [
    "To Index the last value in the array, you can use `my_people[-1]`"
   ]
  },
  {
   "cell_type": "code",
   "execution_count": null,
   "id": "f697909e",
   "metadata": {},
   "outputs": [],
   "source": [
    "people[-1]"
   ]
  },
  {
   "cell_type": "markdown",
   "id": "46321e25",
   "metadata": {},
   "source": [
    "What happens when you try to index an item that isn't there?\n",
    "\n",
    "try `people[7]`"
   ]
  },
  {
   "cell_type": "code",
   "execution_count": null,
   "id": "de047fc2",
   "metadata": {},
   "outputs": [],
   "source": [
    "#put your code in here\n"
   ]
  },
  {
   "cell_type": "markdown",
   "id": "bbd4a3b9",
   "metadata": {},
   "source": [
    "You get an `IndexError`, as there is no index `7` in this list, it is too short."
   ]
  },
  {
   "cell_type": "markdown",
   "id": "e7a4e119",
   "metadata": {},
   "source": [
    "You can slice a list, just like a string, using a colon to separate the first and last index. \n",
    "\n",
    "For example, `\"a long string\"[2:4]` gives the third and fourth characters of the string.\n",
    "\n",
    "To do:\n",
    "- Show how you get the first two members of the `people` list."
   ]
  },
  {
   "cell_type": "code",
   "execution_count": null,
   "id": "72a51701",
   "metadata": {},
   "outputs": [],
   "source": [
    "# put your code here\n",
    "\n"
   ]
  },
  {
   "cell_type": "markdown",
   "id": "3cccb08d",
   "metadata": {},
   "source": [
    "You can add another list to this list by using the overloaded `+` operator"
   ]
  },
  {
   "cell_type": "code",
   "execution_count": null,
   "id": "6d6db6c3",
   "metadata": {},
   "outputs": [],
   "source": [
    "people + ['Dog', 'Cat']"
   ]
  },
  {
   "cell_type": "markdown",
   "id": "69b923a6",
   "metadata": {},
   "source": [
    "Note that because we didn't assign this new concatenated list to the variable name `people`, that list still has the same people as it did before. "
   ]
  },
  {
   "cell_type": "code",
   "execution_count": null,
   "id": "3cb95094",
   "metadata": {},
   "outputs": [],
   "source": [
    "people"
   ]
  },
  {
   "cell_type": "markdown",
   "id": "b971f698",
   "metadata": {},
   "source": [
    "You can also add to the list by using the `append` function"
   ]
  },
  {
   "cell_type": "code",
   "execution_count": null,
   "id": "e4e48011",
   "metadata": {},
   "outputs": [],
   "source": [
    "people.append('Edward')\n",
    "people"
   ]
  },
  {
   "cell_type": "markdown",
   "id": "eeb86d60",
   "metadata": {},
   "source": [
    "You can also append to an empty list, `[]`"
   ]
  },
  {
   "cell_type": "code",
   "execution_count": null,
   "id": "d7bb2f14",
   "metadata": {},
   "outputs": [],
   "source": [
    "empty = []\n",
    "empty.append('meth')\n",
    "empty"
   ]
  },
  {
   "cell_type": "markdown",
   "id": "4c169400",
   "metadata": {},
   "source": [
    "So the list `empty` isn't empty any more."
   ]
  },
  {
   "cell_type": "markdown",
   "id": "793849cf",
   "metadata": {},
   "source": [
    "The overloaded `*` operator also acts on lists. On strings, it just multiplies the string. \n",
    "\n",
    "To do:\n",
    "- try `2 * people` below to see what you get."
   ]
  },
  {
   "cell_type": "code",
   "execution_count": null,
   "id": "9da2f26c",
   "metadata": {},
   "outputs": [],
   "source": [
    "# put your code here\n"
   ]
  },
  {
   "cell_type": "markdown",
   "id": "d02b5c05",
   "metadata": {},
   "source": [
    "# List Questions:\n",
    "\n",
    "1 - Why would you not call a list `print`?\n",
    "\n",
    "2 - Define an empty list called `alkanes`\n",
    "\n",
    "3 - Append the SMILES string for methane, `C` to it. \n",
    "\n",
    "4 - Then append the SMILES strings for more alkanes, up to 6 carbons long\n",
    "\n",
    "5 - How would you find the length of a list?"
   ]
  },
  {
   "cell_type": "code",
   "execution_count": null,
   "id": "2f230ace",
   "metadata": {},
   "outputs": [],
   "source": [
    "# Question 1\n",
    "#print is a function in Python. it can be used to make a list. \n",
    "# Variables should never be key words\n",
    "\n",
    "#print = [1,2,'three', False] # Don't do this!\n"
   ]
  },
  {
   "cell_type": "code",
   "execution_count": null,
   "id": "a0744575",
   "metadata": {},
   "outputs": [],
   "source": [
    "# Question 2\n",
    "\n"
   ]
  },
  {
   "cell_type": "code",
   "execution_count": null,
   "id": "793b9837",
   "metadata": {},
   "outputs": [],
   "source": [
    "# Question 3\n"
   ]
  },
  {
   "cell_type": "code",
   "execution_count": null,
   "id": "55adbcb3",
   "metadata": {},
   "outputs": [],
   "source": [
    "# Question 4\n"
   ]
  },
  {
   "cell_type": "code",
   "execution_count": null,
   "id": "3ae86ffc",
   "metadata": {},
   "outputs": [],
   "source": [
    "# Question 5\n"
   ]
  },
  {
   "cell_type": "markdown",
   "id": "5b655bb3",
   "metadata": {},
   "source": [
    "# For Loops"
   ]
  },
  {
   "cell_type": "markdown",
   "id": "d4e91484",
   "metadata": {},
   "source": [
    "If we want to do the same thing to each thing in the list, it would be quite annoying to have to write out the same code again and again. "
   ]
  },
  {
   "cell_type": "markdown",
   "id": "85ce292c",
   "metadata": {},
   "source": [
    "We can use a `for` loop to do the same code for each thing in the array. \n",
    "\n",
    "The statement `for name in my_people:` makes the variable name equal to each of the values in `my_people` one after the other. \n",
    "\n",
    "The code that will be executed for each `name` is indented underneath it. "
   ]
  },
  {
   "cell_type": "code",
   "execution_count": null,
   "id": "dc9a35bb",
   "metadata": {},
   "outputs": [],
   "source": [
    "for name in people: \n",
    "    print('Hello, ' + name + '!')"
   ]
  },
  {
   "cell_type": "markdown",
   "id": "5dee77cf",
   "metadata": {},
   "source": [
    "You can use this for any list. For example, naming alkanes has the first part, that tells you how many carbons there are, and a second part that tells you what sort of molecule it is. "
   ]
  },
  {
   "cell_type": "code",
   "execution_count": null,
   "id": "3ef7922e",
   "metadata": {},
   "outputs": [],
   "source": [
    "prefixes = ['meth', 'eth', 'prop', 'but', 'pent']\n",
    "\n",
    "for stem in prefixes:\n",
    "    print(stem+'ane')"
   ]
  },
  {
   "cell_type": "markdown",
   "id": "403efca6",
   "metadata": {},
   "source": [
    "You can also make a `for` loop use a list of numbers."
   ]
  },
  {
   "cell_type": "code",
   "execution_count": null,
   "id": "990c34e8",
   "metadata": {},
   "outputs": [],
   "source": [
    "for number in [0,1,2,3]:\n",
    "    square = number*number\n",
    "    print(f\"{number} squared is equal to {square}\")"
   ]
  },
  {
   "cell_type": "markdown",
   "id": "171ab25a",
   "metadata": {},
   "source": [
    "or use the `range` generator, that gives you that list without writing it out. "
   ]
  },
  {
   "cell_type": "code",
   "execution_count": null,
   "id": "265582b3",
   "metadata": {},
   "outputs": [],
   "source": [
    "for n in range(4):\n",
    "    print(f\"{n} squared is {n*n}\")"
   ]
  },
  {
   "cell_type": "markdown",
   "id": "d766c682",
   "metadata": {},
   "source": [
    "Questions:\n",
    "\n",
    "1 - Make a `for` loop that prints the first five names of alcohols (ending in 'anol') using the list `prefixes` defined above \n",
    "\n",
    "2 - Make a `for` loop to print the first 5 cube numbers\n",
    "\n",
    "3 - The general formula for alkanes is $C_nH_{2n+2}$. Write a for loop to give the formula of the first 10 alkanes. "
   ]
  },
  {
   "cell_type": "code",
   "execution_count": null,
   "id": "a25f8fe9",
   "metadata": {},
   "outputs": [],
   "source": [
    "# Question 1\n",
    "\n",
    "\n",
    "    "
   ]
  },
  {
   "cell_type": "code",
   "execution_count": null,
   "id": "483a8be0",
   "metadata": {},
   "outputs": [],
   "source": [
    "# Question 2\n",
    "\n"
   ]
  },
  {
   "cell_type": "code",
   "execution_count": null,
   "id": "ac5cdb03",
   "metadata": {},
   "outputs": [],
   "source": [
    "# Question 3\n"
   ]
  },
  {
   "cell_type": "markdown",
   "id": "43bea330",
   "metadata": {},
   "source": [
    "# Putting it together"
   ]
  },
  {
   "cell_type": "markdown",
   "id": "26455a7d",
   "metadata": {},
   "source": [
    "Below, a `for` loop generates the SMILES strings for the first 6 alkanes"
   ]
  },
  {
   "cell_type": "code",
   "execution_count": null,
   "id": "23649144",
   "metadata": {},
   "outputs": [],
   "source": [
    "smile = '' # empty string\n",
    "for i in [1,2,3,4,5,6]:\n",
    "    smile = smile + 'C'\n",
    "    print(smile)"
   ]
  },
  {
   "cell_type": "markdown",
   "id": "25524e80",
   "metadata": {},
   "source": [
    "We can use a generator to give us up to `n` alkanes\n",
    "\n",
    "The `range()` function is a special generator function that returns one number after another, and can be iterated over just like a list. \n",
    "`range(4)` will generate the numbers 0, 1, 2, 3 in that order. Note, the number 4 is not generated, `range` stops before it. "
   ]
  },
  {
   "cell_type": "code",
   "execution_count": null,
   "id": "3d7bab2b",
   "metadata": {},
   "outputs": [],
   "source": [
    "for i in range(4):\n",
    "    print(i)"
   ]
  },
  {
   "cell_type": "markdown",
   "id": "4737debb",
   "metadata": {},
   "source": [
    "We can use this to generate any number of SMILES strings"
   ]
  },
  {
   "cell_type": "code",
   "execution_count": null,
   "id": "14015368",
   "metadata": {},
   "outputs": [],
   "source": [
    "n=7\n",
    "smile = '' # empty string\n",
    "for i in range(n):\n",
    "    smile = smile + 'C'\n",
    "    print(smile)"
   ]
  },
  {
   "cell_type": "markdown",
   "id": "a9038a1f",
   "metadata": {},
   "source": [
    "So reusing the for loop above, together with code from lesson 1, we can define a molecule object for each of the SMILES strings, and print the molecular formula and weight for each. \n",
    "\n",
    "The code below prints the molecular weight and formula of the first 7 alcohols. \n",
    "\n",
    "Alcohols have an -OH group, and in smiles strings they have the `O` to represent the -OH group\n",
    "\n",
    "- Methanol $CH_3OH$ is `CO`\n",
    "- Ethanol $CH_3OH$ is `CCO`\n",
    "- Propan-1-ol $CH_3CH_2CH_2OH$ is `CCCO`\n",
    "\n",
    "Note we need to import the libraries before we can use them.\n",
    "\n",
    "To Do:\n",
    "- fill in the comments to explain what each statement does"
   ]
  },
  {
   "cell_type": "code",
   "execution_count": null,
   "id": "cb3f45b8",
   "metadata": {},
   "outputs": [],
   "source": [
    "from rdkit import Chem\n",
    "from rdkit.Chem.rdMolDescriptors import CalcExactMolWt, CalcMolFormula\n",
    "from rdkit.Chem import Draw\n",
    "\n",
    "# defining the number of carbons we will go up to\n",
    "n=7\n",
    "# Your comment here\n",
    "smile = 'O' # start string\n",
    "\n",
    "# Your comment here\n",
    "for i in range(n):\n",
    "    # Your comment here\n",
    "    smile = smile + 'C' \n",
    "    # Your comment here\n",
    "    mol = Chem.MolFromSmiles(smile) \n",
    "    # Your comment here\n",
    "    mw = CalcExactMolWt(mol) \n",
    "    mf = CalcMolFormula(mol) \n",
    "    # Your comment here\n",
    "    mw = round(mw, 2) \n",
    "    # Your comment here\n",
    "    print(f\"{smile} has molecular weight {mw} and formula {mf}\") "
   ]
  },
  {
   "cell_type": "markdown",
   "id": "de2e8129",
   "metadata": {},
   "source": [
    "Alkenes are shown in SMILES string with a `=` to represent the double bond. \n",
    "\n",
    "- Ethene $CH_2CH_2$ is `C=C`\n",
    "- Propene $CH_3CHCH_2$ is `CC=C`\n",
    "- But-1-ene $CH_3CH_2CHCH_2$ is `CCC=C`\n",
    "\n",
    "The code below shows the first `n` alkenes being generated the same way as before. However there are two mistakes. \n",
    "\n",
    "To do:\n",
    "- Fix the mistakes"
   ]
  },
  {
   "cell_type": "code",
   "execution_count": null,
   "id": "4dbf7c42",
   "metadata": {},
   "outputs": [],
   "source": [
    "#\n",
    "n=7\n",
    "#\n",
    "smile = 'C=' # start string\n",
    "\n",
    "#\n",
    "for i in range(n):\n",
    "    #\n",
    "    smile = 'C' +smile\n",
    "    #\n",
    "    mol = Chem.MolFromSmiles(smile) \n",
    "    #\n",
    "    mw = CalcExactMolWt(mol) \n",
    "    mf = CalcMolFormula(mol) \n",
    "    # \n",
    "    mw = round(mf, 2) \n",
    "\n",
    "    # formatting the string for output\n",
    "    print(f\"{smile} has molecular weight {mw} and formula {mf}\") "
   ]
  },
  {
   "cell_type": "markdown",
   "id": "6d6c3391",
   "metadata": {},
   "source": [
    "Now use what you have learned to do the same code for the first `n` alkanes. "
   ]
  },
  {
   "cell_type": "code",
   "execution_count": null,
   "id": "01a45dfa",
   "metadata": {},
   "outputs": [],
   "source": [
    "# Your code here\n",
    "\n"
   ]
  },
  {
   "cell_type": "markdown",
   "id": "91968f24",
   "metadata": {},
   "source": [
    "Extension:\n",
    "\n",
    "- Make it draw out the structure for each alkane."
   ]
  },
  {
   "cell_type": "markdown",
   "id": "a73e2dc7",
   "metadata": {},
   "source": [
    "This is much harder due to the way rdkit interacts with jupyter notebooks\n",
    "\n",
    "Try by making a list of the molecule objects, then the `Draw.MolsToGridImage()` function. "
   ]
  },
  {
   "cell_type": "code",
   "execution_count": null,
   "id": "f53b7512",
   "metadata": {},
   "outputs": [],
   "source": []
  },
  {
   "cell_type": "markdown",
   "id": "1c9f2a52",
   "metadata": {},
   "source": [
    "Can you do this for other 'homologous serieses'? Such as alkenes, alcohols\n"
   ]
  },
  {
   "cell_type": "code",
   "execution_count": null,
   "id": "a03d2e70",
   "metadata": {},
   "outputs": [],
   "source": [
    "# alkenes\n"
   ]
  },
  {
   "cell_type": "code",
   "execution_count": null,
   "id": "a00163b8",
   "metadata": {},
   "outputs": [],
   "source": [
    "# alcohols\n"
   ]
  },
  {
   "cell_type": "markdown",
   "id": "56546b6f",
   "metadata": {},
   "source": []
  }
 ],
 "metadata": {
  "kernelspec": {
   "display_name": "Python 3 (ipykernel)",
   "language": "python",
   "name": "python3"
  },
  "language_info": {
   "codemirror_mode": {
    "name": "ipython",
    "version": 3
   },
   "file_extension": ".py",
   "mimetype": "text/x-python",
   "name": "python",
   "nbconvert_exporter": "python",
   "pygments_lexer": "ipython3",
   "version": "3.8.12"
  }
 },
 "nbformat": 4,
 "nbformat_minor": 5
}
