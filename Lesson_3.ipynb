{
 "cells": [
  {
   "cell_type": "markdown",
   "id": "6696d98b-49f9-4ba9-8016-a683c06991b1",
   "metadata": {},
   "source": [
    "# Introduction to Python in Chemistry Lesson 3"
   ]
  },
  {
   "cell_type": "markdown",
   "id": "b46b9359-f07d-4cf1-9391-28d3601459bd",
   "metadata": {},
   "source": [
    "Please first run the import cells below, this gives us the useful software packages we need. "
   ]
  },
  {
   "cell_type": "code",
   "execution_count": 1,
   "id": "ad1e4a63-913a-45f9-94b7-8ab73de37926",
   "metadata": {},
   "outputs": [],
   "source": [
    "# 1\n",
    "import matplotlib.pyplot as plt\n",
    "import numpy as np"
   ]
  },
  {
   "cell_type": "markdown",
   "id": "29f1f304-53e0-49f8-bd3c-997407750eaa",
   "metadata": {},
   "source": [
    "We are going to have another look at lists"
   ]
  },
  {
   "cell_type": "code",
   "execution_count": 2,
   "id": "d4daa045-f7bb-429a-83be-e708813c3bd1",
   "metadata": {},
   "outputs": [],
   "source": [
    "# 2\n",
    "my_nums = [1,2,3,4,5,6,7,8,9,10]"
   ]
  },
  {
   "cell_type": "markdown",
   "id": "4d32741d-8a28-48ca-9b06-275fb53d4958",
   "metadata": {},
   "source": [
    "The code above defines a list, and has the entries as numbers. \n"
   ]
  },
  {
   "cell_type": "markdown",
   "id": "a47afccd-c024-4ef4-9b6a-4c95eac31422",
   "metadata": {},
   "source": [
    "If i want to square each of the numbers one by one, I could use a for loop. \n"
   ]
  },
  {
   "cell_type": "markdown",
   "id": "95f7fdbf-5314-48a0-bce4-34dcff1e5ffc",
   "metadata": {},
   "source": [
    "TODO: \n",
    "- Make a `for` loop to iterate though the array\n",
    "- each number should be timesed by 2\n",
    "- then printed"
   ]
  },
  {
   "cell_type": "code",
   "execution_count": 5,
   "id": "90402a52-2ba5-470f-9022-3a481d163a55",
   "metadata": {},
   "outputs": [],
   "source": [
    "# 3\n"
   ]
  },
  {
   "cell_type": "markdown",
   "id": "8df1c78d-4b6c-444b-8d48-a36387520c76",
   "metadata": {},
   "source": [
    "However this is rather inefficient, it would be nicer if we could just double the whole array. "
   ]
  },
  {
   "cell_type": "code",
   "execution_count": 6,
   "id": "4a0d0769-1fe3-4a36-ae81-331d5beb29c6",
   "metadata": {},
   "outputs": [
    {
     "data": {
      "text/plain": [
       "[1, 2, 3, 4, 5, 6, 7, 8, 9, 10, 1, 2, 3, 4, 5, 6, 7, 8, 9, 10]"
      ]
     },
     "execution_count": 6,
     "metadata": {},
     "output_type": "execute_result"
    }
   ],
   "source": [
    "# 4 \n",
    "my_nums*2"
   ]
  },
  {
   "cell_type": "markdown",
   "id": "37cd7008-f065-4441-9ae0-16ad449db78c",
   "metadata": {},
   "source": [
    "This is not what we expected. Why has this happened? "
   ]
  },
  {
   "cell_type": "markdown",
   "id": "79590254-3f41-4165-b9b0-3277f09a9e96",
   "metadata": {},
   "source": [
    " answer here..\n",
    " "
   ]
  },
  {
   "cell_type": "code",
   "execution_count": 7,
   "id": "c0dc76ce-ca60-44c8-abb0-56f1b45f527b",
   "metadata": {},
   "outputs": [
    {
     "data": {
      "text/plain": [
       "[1, 2, 3, 4, 5, 6, 7, 8, 9, 10, 1, 2, 3, 4, 5, 6, 7, 8, 9, 10]"
      ]
     },
     "execution_count": 7,
     "metadata": {},
     "output_type": "execute_result"
    }
   ],
   "source": [
    "# 5\n",
    "my_nums+my_nums"
   ]
  },
  {
   "cell_type": "markdown",
   "id": "2d874c93-3b96-4ab2-8bf6-f7b3056a295f",
   "metadata": {},
   "source": [
    "TODO:\n",
    "- Try adding a value to the whole list\n",
    "- Try subtracting a value from the whole list\n",
    "- Try timesing the list by minus 1 (*-1)\n",
    "- Try squaring the list (**2)\n",
    "- What happens for each one? "
   ]
  },
  {
   "cell_type": "code",
   "execution_count": null,
   "id": "3521d7a1-16cc-4fee-8da2-1a676bbb750d",
   "metadata": {},
   "outputs": [],
   "source": [
    "# 6\n",
    "my_nums+1"
   ]
  },
  {
   "cell_type": "code",
   "execution_count": null,
   "id": "edb8e06b-65ea-4626-a251-8995a5536a8f",
   "metadata": {},
   "outputs": [],
   "source": [
    "# 7\n",
    "my_nums-2"
   ]
  },
  {
   "cell_type": "code",
   "execution_count": null,
   "id": "d31f06c4-3ca1-4f10-b37d-dd2eada4cb50",
   "metadata": {},
   "outputs": [],
   "source": [
    "# 8\n",
    "my_nums*-1"
   ]
  },
  {
   "cell_type": "code",
   "execution_count": null,
   "id": "d16da04f-9ecc-42f4-9362-3a16236dc927",
   "metadata": {},
   "outputs": [],
   "source": [
    "# 9\n",
    "my_nums**2"
   ]
  },
  {
   "cell_type": "markdown",
   "id": "2e208b39-5739-4cc8-b2ba-10a47ebe992e",
   "metadata": {},
   "source": [
    "Lists are not designed to handle numbers in this way.\n",
    "\n",
    "We can use another sort of array, a numpy array. "
   ]
  },
  {
   "cell_type": "markdown",
   "id": "50005286-ca47-4135-a83c-b3333de788f4",
   "metadata": {},
   "source": [
    "# Numpy Arrays"
   ]
  },
  {
   "cell_type": "code",
   "execution_count": null,
   "id": "41c9ffff-e359-4aa3-9e36-827c5e404a0e",
   "metadata": {},
   "outputs": [],
   "source": [
    "# 10\n",
    "my_arr = np.array(my_nums) \n",
    "# this initiallises another array using the list we already have\n",
    "my_arr**2"
   ]
  },
  {
   "cell_type": "markdown",
   "id": "31db6160-867e-4c8b-8fb5-9d933b271820",
   "metadata": {},
   "source": [
    "TODO: Try the same things again with the array\n",
    "- Try adding a value to the whole array\n",
    "- Try subtracting a value from the whole array\n",
    "- Try timesing the array by minus 1\n",
    "- Try squaring the array (**2)\n",
    "- What happens for each one? "
   ]
  },
  {
   "cell_type": "code",
   "execution_count": null,
   "id": "e5d46704-25f6-4dd1-ab74-a0ad7155b9b9",
   "metadata": {},
   "outputs": [],
   "source": [
    "# 11\n"
   ]
  },
  {
   "cell_type": "code",
   "execution_count": null,
   "id": "5ec57bd8-fb4d-4401-9477-e62a060a871b",
   "metadata": {},
   "outputs": [],
   "source": [
    "# 12\n"
   ]
  },
  {
   "cell_type": "code",
   "execution_count": null,
   "id": "fb6cac0e-6c23-467a-888b-6921be4a2455",
   "metadata": {},
   "outputs": [],
   "source": [
    "# 13\n"
   ]
  },
  {
   "cell_type": "code",
   "execution_count": null,
   "id": "e4165e9f-8a01-4043-b750-7561d40f5188",
   "metadata": {},
   "outputs": [],
   "source": [
    "# 14\n"
   ]
  },
  {
   "cell_type": "markdown",
   "id": "895685c1-ea17-4fdc-8b13-51103214d0bb",
   "metadata": {},
   "source": [
    "# Plotting"
   ]
  },
  {
   "cell_type": "markdown",
   "id": "01a837ad-80b9-49b4-a2bd-68c6f57aa831",
   "metadata": {},
   "source": [
    "We can plot graphs of these arrays using the `matplotlib.pyplot` library"
   ]
  },
  {
   "cell_type": "code",
   "execution_count": null,
   "id": "45add922-af69-4dfd-8c40-cdc366a7b36d",
   "metadata": {},
   "outputs": [],
   "source": [
    "# 15\n",
    "# the semi colon stops the expression returning an object. Try without and see what you get\n",
    "plt.plot(my_arr, my_arr**2, 'b');  # this plots points with x value my_arr, and y value my_arr**2"
   ]
  },
  {
   "cell_type": "markdown",
   "id": "9a33abd1-0a6d-4a96-8ada-0a0f5da72099",
   "metadata": {},
   "source": [
    "Graphs should have titles and axes labels"
   ]
  },
  {
   "cell_type": "code",
   "execution_count": null,
   "id": "fedbfa07-ae99-49b4-b7cd-43200a7691af",
   "metadata": {},
   "outputs": [],
   "source": [
    "# 16\n",
    "plt.plot(my_arr, my_arr**2, 'g') #you can use different colours by changing 'b'\n",
    "plt.title('Graph to show my_arr squared')\n",
    "plt.xlabel('$my\\_arr$') # you have to escape (\\) the underscore in my_arr for it to show\n",
    "plt.ylabel('$my\\_arr^2$');"
   ]
  },
  {
   "cell_type": "markdown",
   "id": "f6095228-5c93-4eeb-9a11-455119fc678a",
   "metadata": {},
   "source": [
    "TODO: \n",
    "- Plot a graph of $x$ vs $x^3$\n",
    "- You will need to use the `numpy` library \n",
    "- make sure your graph has labels and a title"
   ]
  },
  {
   "cell_type": "code",
   "execution_count": null,
   "id": "d59ab286-8321-4750-a85e-8d9a6c7f8a64",
   "metadata": {},
   "outputs": [],
   "source": [
    "# 17\n"
   ]
  },
  {
   "cell_type": "markdown",
   "id": "2fe5e49a-c6fc-45dd-9643-f237db1ea635",
   "metadata": {},
   "source": [
    "We can plot data from many different sources. For example, you can look up the boiling points of the first 10 alkanes, and plot those. "
   ]
  },
  {
   "cell_type": "markdown",
   "id": "e7acbf1b-4546-439a-a8a3-5378082a2fb8",
   "metadata": {},
   "source": [
    "TODO:\n",
    "- Look up the boiling points of the first 10 straight chain alkanes\n",
    "  - You can use google, or any data books available\n",
    "- make an array with them in\n",
    "- plot the graph of number of carbons vs boiling points\n",
    "- ensure your graph has a title and axis labels\n"
   ]
  },
  {
   "cell_type": "markdown",
   "id": "6ecb2980-91c7-4c9f-957d-3c4dbe50a80a",
   "metadata": {},
   "source": []
  },
  {
   "cell_type": "code",
   "execution_count": null,
   "id": "74151d1c-26eb-4281-bfc8-067073a53269",
   "metadata": {},
   "outputs": [],
   "source": [
    "# 18\n"
   ]
  },
  {
   "cell_type": "markdown",
   "id": "d5c7d7b3-5a2e-4754-9f10-cba479e1d319",
   "metadata": {},
   "source": [
    "What difficulties did you have? Discuss. \n",
    "\n"
   ]
  },
  {
   "cell_type": "markdown",
   "id": "0942dcdc-31c0-47fe-8ae4-0525c2f9ce08",
   "metadata": {},
   "source": []
  }
 ],
 "metadata": {
  "kernelspec": {
   "display_name": "Python 3 (ipykernel)",
   "language": "python",
   "name": "python3"
  },
  "language_info": {
   "codemirror_mode": {
    "name": "ipython",
    "version": 3
   },
   "file_extension": ".py",
   "mimetype": "text/x-python",
   "name": "python",
   "nbconvert_exporter": "python",
   "pygments_lexer": "ipython3",
   "version": "3.8.18"
  }
 },
 "nbformat": 4,
 "nbformat_minor": 5
}
