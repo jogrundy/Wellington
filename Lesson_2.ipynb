{
 "cells": [
  {
   "cell_type": "markdown",
   "id": "6696d98b-49f9-4ba9-8016-a683c06991b1",
   "metadata": {},
   "source": [
    "# Introduction to Python in Chemistry Lesson 2"
   ]
  },
  {
   "cell_type": "markdown",
   "id": "0df2d94a-7ee8-4185-8866-3fa2fd74e5fc",
   "metadata": {},
   "source": [
    "# Strings"
   ]
  },
  {
   "cell_type": "markdown",
   "id": "29f1f304-53e0-49f8-bd3c-997407750eaa",
   "metadata": {},
   "source": [
    "Last lesson we defined a variable as a molecule, using rdkit. We can define a variable as a string too. We will start with a name string. \n"
   ]
  },
  {
   "cell_type": "code",
   "execution_count": null,
   "id": "d4daa045-f7bb-429a-83be-e708813c3bd1",
   "metadata": {},
   "outputs": [],
   "source": [
    "name = 'Zoë'"
   ]
  },
  {
   "cell_type": "markdown",
   "id": "e9aaa304",
   "metadata": {},
   "source": [
    "The code above takes in a string and makes a variable take its place. \n",
    "\n",
    "You can define a variable by using inverted commas `name = 'Claire'` or quotation marks, `name = \"Claire\"`. "
   ]
  },
  {
   "cell_type": "markdown",
   "id": "ced26ead",
   "metadata": {},
   "source": [
    "To Do:\n",
    "- Change the code below so instead of 'Zoë' you have your own first name. "
   ]
  },
  {
   "cell_type": "code",
   "execution_count": null,
   "id": "82b37933",
   "metadata": {},
   "outputs": [],
   "source": [
    "name = 'Zoë'"
   ]
  },
  {
   "cell_type": "markdown",
   "id": "2b149d87",
   "metadata": {},
   "source": [
    "You can see what is in this variable by just putting the variable at the end of a code block:"
   ]
  },
  {
   "cell_type": "code",
   "execution_count": null,
   "id": "f8caf245",
   "metadata": {},
   "outputs": [],
   "source": [
    "name"
   ]
  },
  {
   "cell_type": "markdown",
   "id": "6a315769",
   "metadata": {},
   "source": [
    "Or using the `print()` function, which takes a string in its brackets and prints it"
   ]
  },
  {
   "cell_type": "code",
   "execution_count": null,
   "id": "588f006b",
   "metadata": {},
   "outputs": [],
   "source": [
    "print(name)"
   ]
  },
  {
   "cell_type": "markdown",
   "id": "57ef6aae",
   "metadata": {},
   "source": [
    "You can print variables as part of other strings using the format string `f` before the string in the print function. \n",
    "\n",
    "For example, `print(f\"My name is {name}\")` will print what ever is in `name` in that place.\n",
    "\n",
    "Try it below:"
   ]
  },
  {
   "cell_type": "code",
   "execution_count": null,
   "id": "771de169",
   "metadata": {},
   "outputs": [],
   "source": [
    "print(f\"My name is {name}\")"
   ]
  },
  {
   "cell_type": "markdown",
   "id": "a637aeeb",
   "metadata": {},
   "source": [
    "The code below sets the variables breakfast, lunch and dinner to be empty strings, either `''` or `\"\"`.\n",
    "\n",
    "To do:\n",
    "- Change the variables `breakfast`, `lunch` and `dinner` to be the names of things you like to eat\n",
    "- run the code block \n",
    "- make sure you agree with the sentence printed"
   ]
  },
  {
   "cell_type": "code",
   "execution_count": null,
   "id": "a34d723a",
   "metadata": {},
   "outputs": [],
   "source": [
    "# This is a comment\n",
    "# anything after the hash `#` is not interpreted as code\n",
    "\n",
    "# Change these variables:\n",
    "breakfast = ''\n",
    "lunch = \"\"\n",
    "dinner = ''\n",
    "\n",
    "# the next line prints out the whole sentence with the variables substituting in.\n",
    "print(f\"For breakfast I like to eat {breakfast}, for lunch I enjoy {lunch}, for dinner I prefer {dinner}\")"
   ]
  },
  {
   "cell_type": "markdown",
   "id": "a6172cbf",
   "metadata": {},
   "source": [
    "Using double quotation marks `\"` means you can define a string with an apostrophe. \n",
    "\n",
    "If you try to print `print('I don't like boiled cabbage')` it won't work, as it will only see the string as `'I don'` and then it gets confused by the letters afterwards. \n",
    "\n",
    "If you replace the inverted commas with quotation marks however, this should work. `print(\"I don't like boiled cabbage\")`\n",
    "\n",
    "To do:\n",
    "- run the code block below, see the error message.\n",
    "- replace the inverted commas with quotation marks\n",
    "- run the code block again, this time with no errors :-)"
   ]
  },
  {
   "cell_type": "code",
   "execution_count": null,
   "id": "6a53904a-68b1-45f3-b1ef-a70d42b0f592",
   "metadata": {},
   "outputs": [],
   "source": [
    "s = 'I don't like boiled cabbage'\n",
    "print(s)"
   ]
  },
  {
   "cell_type": "markdown",
   "id": "db19a6b1",
   "metadata": {},
   "source": [
    "To do:\n",
    "- write a line of code to print a string saying `I'm missing my` then put in the variable `lunch`, what ever it was defined as before."
   ]
  },
  {
   "cell_type": "code",
   "execution_count": null,
   "id": "6ec1b9e5",
   "metadata": {},
   "outputs": [],
   "source": [
    "# write your code in here\n"
   ]
  },
  {
   "cell_type": "markdown",
   "id": "94ebfe94",
   "metadata": {},
   "source": [
    "## String Indexing "
   ]
  },
  {
   "cell_type": "markdown",
   "id": "e5085e5a-e463-40c0-b02d-c6e1674506d0",
   "metadata": {},
   "source": [
    "You can index the letters in a string using square brackets\n",
    "\n",
    "the code below prints the letter at index `1` in your `name` variable"
   ]
  },
  {
   "cell_type": "code",
   "execution_count": null,
   "id": "509501dc-d781-4d23-af90-209515c1ab95",
   "metadata": {},
   "outputs": [],
   "source": [
    "name[1]"
   ]
  },
  {
   "cell_type": "markdown",
   "id": "95dc0702-30f5-4a5a-8732-be2cb51c66fd",
   "metadata": {},
   "source": [
    "The first letter is indexed as `[0]` as Python is a zero indexed language.\n",
    "\n",
    "To do:\n",
    "- Change the code below to print the first character of your `name` variable\n",
    "- what happens if you use an index number that is too big?"
   ]
  },
  {
   "cell_type": "code",
   "execution_count": null,
   "id": "42c6937c",
   "metadata": {},
   "outputs": [],
   "source": [
    "name[1]"
   ]
  },
  {
   "cell_type": "markdown",
   "id": "1c9d5f7f",
   "metadata": {},
   "source": [
    "The index `-1` refers to the last character in your string\n",
    "\n",
    "This is useful if you don't know how long your string is"
   ]
  },
  {
   "cell_type": "code",
   "execution_count": null,
   "id": "fea8fb2d",
   "metadata": {},
   "outputs": [],
   "source": [
    "name[-1]"
   ]
  },
  {
   "cell_type": "markdown",
   "id": "113595b8",
   "metadata": {},
   "source": [
    "You can find how long your string is using the `len()` function"
   ]
  },
  {
   "cell_type": "code",
   "execution_count": null,
   "id": "feb4641a",
   "metadata": {},
   "outputs": [],
   "source": [
    "len(name)"
   ]
  },
  {
   "cell_type": "markdown",
   "id": "fbea83cd",
   "metadata": {},
   "source": [
    "You can also use slices, for example `[3:8]` takes everything from index `3` to index `7`. "
   ]
  },
  {
   "cell_type": "code",
   "execution_count": null,
   "id": "3d87ad1d-7045-482d-94c5-eac3cc9c5ccc",
   "metadata": {},
   "outputs": [],
   "source": [
    "tnt = \"trinitrotoluene\"\n",
    "tnt[3:8]"
   ]
  },
  {
   "cell_type": "markdown",
   "id": "b174c275",
   "metadata": {},
   "source": [
    "You can print all the rest of a string using the slice, and not putting an end index. "
   ]
  },
  {
   "cell_type": "code",
   "execution_count": null,
   "id": "62437151",
   "metadata": {},
   "outputs": [],
   "source": [
    "tnt[8:]"
   ]
  },
  {
   "cell_type": "markdown",
   "id": "e1660dea",
   "metadata": {},
   "source": [
    "Below the name of a compound is defined as a string variable.\n",
    "\n",
    "To do:\n",
    "- print the second character\n",
    "- print the last character"
   ]
  },
  {
   "cell_type": "code",
   "execution_count": null,
   "id": "3feeb50a",
   "metadata": {},
   "outputs": [],
   "source": [
    "# define the string\n",
    "comp = 'acetyl salicylic acid'\n",
    "# print the second character here\n",
    "\n",
    "# print the last character here\n"
   ]
  },
  {
   "cell_type": "markdown",
   "id": "8df1c78d-4b6c-444b-8d48-a36387520c76",
   "metadata": {},
   "source": [
    "You can make your string longer by adding to it. To do this, you can use the `+` operator. "
   ]
  },
  {
   "cell_type": "code",
   "execution_count": null,
   "id": "ae620a44-0110-4959-808b-5d92b980bff5",
   "metadata": {},
   "outputs": [],
   "source": [
    "name + 'Anne'"
   ]
  },
  {
   "cell_type": "markdown",
   "id": "2e208b39-5739-4cc8-b2ba-10a47ebe992e",
   "metadata": {},
   "source": [
    "You can see that there is no space. If you want a space, you can add it as well. "
   ]
  },
  {
   "cell_type": "code",
   "execution_count": null,
   "id": "41c9ffff-e359-4aa3-9e36-827c5e404a0e",
   "metadata": {},
   "outputs": [],
   "source": [
    "name + ' ' + 'Anne' "
   ]
  },
  {
   "cell_type": "markdown",
   "id": "a9c89261",
   "metadata": {},
   "source": [
    "*Note* The `+` operator is overloaded, that means it does more than one thing. With numbers, it adds, with strings it concatenates. "
   ]
  },
  {
   "cell_type": "markdown",
   "id": "5e28fddb-bf00-4ba9-aef7-de5306d1e669",
   "metadata": {},
   "source": [
    "TO DO: \n",
    "- Define a variable called `surname` as your own surname\n",
    "- Print out your full name using the `name` variable and the `surname` variable\n",
    "- Make sure you use *space* between your name and surname"
   ]
  },
  {
   "cell_type": "code",
   "execution_count": null,
   "id": "e5d46704-25f6-4dd1-ab74-a0ad7155b9b9",
   "metadata": {},
   "outputs": [],
   "source": [
    "# define surname variable\n",
    "\n",
    "# print out your full name\n"
   ]
  },
  {
   "cell_type": "markdown",
   "id": "1094a6d9",
   "metadata": {},
   "source": [
    "We can use this to make SMILES strings. If you start with methane, 'C', you can then concatenate another 'C' to make the string for ethane 'CC'. You can then concatenate another 'C' to make propane, e.t.c.."
   ]
  },
  {
   "cell_type": "code",
   "execution_count": null,
   "id": "01a32c33",
   "metadata": {},
   "outputs": [],
   "source": [
    "meth = 'C'\n",
    "eth = meth + 'C'\n",
    "prop = eth + 'C'\n",
    "but = prop + 'C'\n",
    "\n",
    "print(meth, eth, prop, but)"
   ]
  },
  {
   "cell_type": "markdown",
   "id": "58aae6ad",
   "metadata": {},
   "source": [
    "You can also multiply your strings. \n",
    "\n",
    "The asterisk `*` is multiply in python. \n",
    "\n",
    "Try `3 * name`"
   ]
  },
  {
   "cell_type": "code",
   "execution_count": null,
   "id": "58a8b6b3",
   "metadata": {},
   "outputs": [],
   "source": [
    "# put your code here\n"
   ]
  },
  {
   "cell_type": "markdown",
   "id": "be113baf",
   "metadata": {},
   "source": [
    "This just makes three times the same string."
   ]
  },
  {
   "cell_type": "markdown",
   "id": "1610bb44",
   "metadata": {},
   "source": [
    "You could also just use the `*` multiply function to make SMILES strings"
   ]
  },
  {
   "cell_type": "code",
   "execution_count": null,
   "id": "16e9cf5f",
   "metadata": {},
   "outputs": [],
   "source": [
    "pent = 5 * 'C'\n",
    "print(pent)"
   ]
  },
  {
   "cell_type": "markdown",
   "id": "0dd815e4",
   "metadata": {},
   "source": [
    "# String Questions\n",
    "\n",
    "1 - What index number is the 't' in 'Methane'?\n",
    "\n",
    "2 - How would you slice the last three letters of 'Methane'?\n",
    "\n",
    "3 - How would you slice the first four letters of 'Methane'?\n",
    "\n",
    "4 - How long is the string 'Llanfair­pwllgwyngyll­gogery­chwyrn­drobwll­llan­tysilio­gogo­goch'?\n",
    "\n",
    "5 - How would you define the smiles string for the 24 carbon long staright chain alkane 'tetracosane'\n",
    "\n",
    "6 - Change the string 'Ethane' and turn it in to 'Ethanol' \n",
    "\n",
    "    a - set a variable `comp` to equal the string `\"Ethane\"`\n",
    "\n",
    "    b - slice this variable to give the stem `\"Ethan\"`\n",
    "    \n",
    "    c - add the new ending `'ol'` to give 'Ethanol'\n",
    "\n",
    "7 - Why shouldn't you call a variable `len`?\n",
    "\n"
   ]
  },
  {
   "cell_type": "code",
   "execution_count": null,
   "id": "8f183adf",
   "metadata": {},
   "outputs": [],
   "source": [
    "# Question 1 - \n"
   ]
  },
  {
   "cell_type": "code",
   "execution_count": null,
   "id": "4f258207",
   "metadata": {},
   "outputs": [],
   "source": [
    "# Question 2 - \n"
   ]
  },
  {
   "cell_type": "code",
   "execution_count": null,
   "id": "bd17c2e3",
   "metadata": {},
   "outputs": [],
   "source": [
    "# Question 3 - \n"
   ]
  },
  {
   "cell_type": "code",
   "execution_count": null,
   "id": "a959199b",
   "metadata": {},
   "outputs": [],
   "source": [
    "# Question 4 -\n"
   ]
  },
  {
   "cell_type": "code",
   "execution_count": null,
   "id": "dbe65409",
   "metadata": {},
   "outputs": [],
   "source": [
    "# Question 5 - \n"
   ]
  },
  {
   "cell_type": "code",
   "execution_count": null,
   "id": "2d473235",
   "metadata": {},
   "outputs": [],
   "source": [
    "# Question 6 - \n"
   ]
  },
  {
   "cell_type": "code",
   "execution_count": null,
   "id": "3c3d3fcd",
   "metadata": {},
   "outputs": [],
   "source": [
    "# Question 7 - \n"
   ]
  },
  {
   "cell_type": "markdown",
   "id": "17ec7c21",
   "metadata": {},
   "source": [
    "Extension:\n",
    "\n",
    "1 - Previously you printed your name 3 times using `*`. Using one line of code, can you print out the same variable using `*` number `n` times with spaces between the strings?\n",
    "\n",
    "2 - There is more than one way to solve many of these questions above. Can you find more than one solution for any of these questions?\n",
    "\n",
    "3 - Using code from last lesson, look up and draw the structure of acetyl salicylic acid (aka aspirin). \n",
    "\n",
    "It's SMILES string is `O=C(C)Oc1ccccc1C(=O)O`\n",
    "\n",
    "4 - How would you change this string to one for just salicylic acid `Oc1ccccc1C(=O)O`? Can you split out any other structures?"
   ]
  },
  {
   "cell_type": "code",
   "execution_count": null,
   "id": "f1e05cb3",
   "metadata": {},
   "outputs": [],
   "source": []
  },
  {
   "cell_type": "markdown",
   "id": "15f3eea6",
   "metadata": {},
   "source": [
    "\n",
    "Do the same for TNT, trinitrotoluene.\n",
    "\n",
    "Its SMILES string is `Cc1c(cc(cc1[N+]([O-])=O)[N+]([O-])=O)[N+]([O-])=O`"
   ]
  },
  {
   "cell_type": "code",
   "execution_count": null,
   "id": "54b6b5a9",
   "metadata": {},
   "outputs": [],
   "source": []
  }
 ],
 "metadata": {
  "kernelspec": {
   "display_name": "Python 3 (ipykernel)",
   "language": "python",
   "name": "python3"
  },
  "language_info": {
   "codemirror_mode": {
    "name": "ipython",
    "version": 3
   },
   "file_extension": ".py",
   "mimetype": "text/x-python",
   "name": "python",
   "nbconvert_exporter": "python",
   "pygments_lexer": "ipython3",
   "version": "3.8.-1"
  }
 },
 "nbformat": 4,
 "nbformat_minor": 5
}
