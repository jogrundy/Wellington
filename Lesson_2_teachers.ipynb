{
 "cells": [
  {
   "cell_type": "markdown",
   "id": "6696d98b-49f9-4ba9-8016-a683c06991b1",
   "metadata": {},
   "source": [
    "# Introduction to Python in Chemistry Lesson 2"
   ]
  },
  {
   "cell_type": "markdown",
   "id": "b46b9359-f07d-4cf1-9391-28d3601459bd",
   "metadata": {},
   "source": [
    "Please first run the import cells below, this gives us the useful software packages we need. "
   ]
  },
  {
   "cell_type": "code",
   "execution_count": 1,
   "id": "ad1e4a63-913a-45f9-94b7-8ab73de37926",
   "metadata": {},
   "outputs": [],
   "source": [
    "import matplotlib.pyplot as plt\n",
    "from rdkit import Chem\n",
    "from rdkit.Chem.rdMolDescriptors import CalcExactMolWt, CalcMolFormula\n",
    "from rdkit.Chem import Draw"
   ]
  },
  {
   "cell_type": "markdown",
   "id": "0df2d94a-7ee8-4185-8866-3fa2fd74e5fc",
   "metadata": {},
   "source": [
    "# Strings"
   ]
  },
  {
   "cell_type": "markdown",
   "id": "29f1f304-53e0-49f8-bd3c-997407750eaa",
   "metadata": {},
   "source": [
    "Last lesson we defined a variable as a molecule, using rdkit. We can define a variable as a string too. We will start with a name string. Change the code below so instead of 'Jo' you have your own first name. \n"
   ]
  },
  {
   "cell_type": "code",
   "execution_count": 2,
   "id": "d4daa045-f7bb-429a-83be-e708813c3bd1",
   "metadata": {},
   "outputs": [],
   "source": [
    "my_name = 'Zoë'"
   ]
  },
  {
   "cell_type": "markdown",
   "id": "4d32741d-8a28-48ca-9b06-275fb53d4958",
   "metadata": {},
   "source": [
    "The code above takes in a string and makes a variable take its place. \n",
    "\n",
    "You can define a variable by using inverted commas or quotation marks. This means you can define a string with an apostrophe, by using quotation marks. \n"
   ]
  },
  {
   "cell_type": "code",
   "execution_count": 3,
   "id": "6a53904a-68b1-45f3-b1ef-a70d42b0f592",
   "metadata": {},
   "outputs": [
    {
     "ename": "SyntaxError",
     "evalue": "invalid syntax (462786132.py, line 1)",
     "output_type": "error",
     "traceback": [
      "\u001b[0;36m  Cell \u001b[0;32mIn[3], line 1\u001b[0;36m\u001b[0m\n\u001b[0;31m    s = 'I don't like boiled cabbage'\u001b[0m\n\u001b[0m               ^\u001b[0m\n\u001b[0;31mSyntaxError\u001b[0m\u001b[0;31m:\u001b[0m invalid syntax\n"
     ]
    }
   ],
   "source": [
    "s = 'I don't like boiled cabbage'\n",
    "print(s)"
   ]
  },
  {
   "cell_type": "markdown",
   "id": "9c3d6acf-0083-4967-9c5d-03877e09b1f5",
   "metadata": {},
   "source": [
    "Fix the code above by replacing the inverted commas with quotation marks"
   ]
  },
  {
   "cell_type": "markdown",
   "id": "2ad2cf65-8e6a-45bc-bf4e-622dd867a340",
   "metadata": {},
   "source": [
    "To see what is in the variable, you can just type it on its own. "
   ]
  },
  {
   "cell_type": "code",
   "execution_count": 4,
   "id": "2825f7cf-2d0d-4b6d-be39-bf708595367d",
   "metadata": {},
   "outputs": [
    {
     "data": {
      "text/plain": [
       "'Zoë'"
      ]
     },
     "execution_count": 4,
     "metadata": {},
     "output_type": "execute_result"
    }
   ],
   "source": [
    "my_name"
   ]
  },
  {
   "cell_type": "markdown",
   "id": "95f7fdbf-5314-48a0-bce4-34dcff1e5ffc",
   "metadata": {},
   "source": [
    "or use the print function. "
   ]
  },
  {
   "cell_type": "code",
   "execution_count": 5,
   "id": "90402a52-2ba5-470f-9022-3a481d163a55",
   "metadata": {},
   "outputs": [
    {
     "name": "stdout",
     "output_type": "stream",
     "text": [
      "Zoë\n"
     ]
    }
   ],
   "source": [
    "print(my_name)"
   ]
  },
  {
   "cell_type": "markdown",
   "id": "8df1c78d-4b6c-444b-8d48-a36387520c76",
   "metadata": {},
   "source": [
    "You can make your string longer by adding to it. to do this, you can use the `+` operator. "
   ]
  },
  {
   "cell_type": "code",
   "execution_count": 6,
   "id": "ae620a44-0110-4959-808b-5d92b980bff5",
   "metadata": {},
   "outputs": [
    {
     "data": {
      "text/plain": [
       "'ZoëAnne'"
      ]
     },
     "execution_count": 6,
     "metadata": {},
     "output_type": "execute_result"
    }
   ],
   "source": [
    "my_name + 'Anne'"
   ]
  },
  {
   "cell_type": "markdown",
   "id": "2e208b39-5739-4cc8-b2ba-10a47ebe992e",
   "metadata": {},
   "source": [
    "You can see that there is no space. If you want a space, you can add it as well. "
   ]
  },
  {
   "cell_type": "code",
   "execution_count": 7,
   "id": "41c9ffff-e359-4aa3-9e36-827c5e404a0e",
   "metadata": {},
   "outputs": [
    {
     "data": {
      "text/plain": [
       "'Zoë Anne'"
      ]
     },
     "execution_count": 7,
     "metadata": {},
     "output_type": "execute_result"
    }
   ],
   "source": [
    "my_name + ' ' + 'Anne' "
   ]
  },
  {
   "cell_type": "markdown",
   "id": "5e28fddb-bf00-4ba9-aef7-de5306d1e669",
   "metadata": {},
   "source": [
    "TO DO: Define a variable called `my_surname` as your own surname, and print out your full name using the `my_name` variable. "
   ]
  },
  {
   "cell_type": "code",
   "execution_count": 8,
   "id": "e5d46704-25f6-4dd1-ab74-a0ad7155b9b9",
   "metadata": {},
   "outputs": [
    {
     "data": {
      "text/plain": [
       "'Zoë Surname'"
      ]
     },
     "execution_count": 8,
     "metadata": {},
     "output_type": "execute_result"
    }
   ],
   "source": [
    "my_surname = 'Surname'\n",
    "my_name + ' ' + my_surname"
   ]
  },
  {
   "cell_type": "markdown",
   "id": "68097988-b392-45a1-9c36-afb812fe70c5",
   "metadata": {},
   "source": [
    "# Arrays and Lists"
   ]
  },
  {
   "cell_type": "markdown",
   "id": "2625d0a0-df91-4991-a8fd-f841fcbd77c9",
   "metadata": {},
   "source": [
    "We can store these variables in a list, also can be called an array. Change this array to be the names of people you like."
   ]
  },
  {
   "cell_type": "code",
   "execution_count": 9,
   "id": "005ffcb9-71fe-4a7f-a42f-ede9fc1c5c59",
   "metadata": {},
   "outputs": [],
   "source": [
    "my_people = ['Alice', 'Bob', 'Carol', 'Dave']"
   ]
  },
  {
   "cell_type": "markdown",
   "id": "6e2bb487-b4e0-44f6-affb-204e27543598",
   "metadata": {},
   "source": [
    "You can find who you're number one person is by indexing. `my_people[1]`"
   ]
  },
  {
   "cell_type": "code",
   "execution_count": 10,
   "id": "069b462d-78f7-4a98-b969-fa8cec67b02b",
   "metadata": {},
   "outputs": [
    {
     "data": {
      "text/plain": [
       "'Bob'"
      ]
     },
     "execution_count": 10,
     "metadata": {},
     "output_type": "execute_result"
    }
   ],
   "source": [
    "my_people[1]"
   ]
  },
  {
   "cell_type": "markdown",
   "id": "eecc288b-ea2d-481b-9dfa-8b3af6556b75",
   "metadata": {},
   "source": [
    "However, Python is *zero indexed*, which makes the first value indexed by zero: `my_people[0]`"
   ]
  },
  {
   "cell_type": "code",
   "execution_count": 11,
   "id": "5c4ff78a-8827-43ee-a2a3-237d827acbe2",
   "metadata": {},
   "outputs": [
    {
     "data": {
      "text/plain": [
       "'Alice'"
      ]
     },
     "execution_count": 11,
     "metadata": {},
     "output_type": "execute_result"
    }
   ],
   "source": [
    "my_people[0]"
   ]
  },
  {
   "cell_type": "markdown",
   "id": "d98577a4-5d36-4d6d-a2d6-dd2c9440b5ae",
   "metadata": {},
   "source": [
    "To Index the last value in the array, you can use `my_people[-1]`"
   ]
  },
  {
   "cell_type": "code",
   "execution_count": 12,
   "id": "89c21d07-26c6-4b6c-94f4-4439edfafc33",
   "metadata": {},
   "outputs": [
    {
     "data": {
      "text/plain": [
       "'Dave'"
      ]
     },
     "execution_count": 12,
     "metadata": {},
     "output_type": "execute_result"
    }
   ],
   "source": [
    "my_people[-1]"
   ]
  },
  {
   "cell_type": "markdown",
   "id": "16a63d8c-78ae-4ef3-a845-4faf4d44fda1",
   "metadata": {},
   "source": [
    "You can add to the list by using the `append` function"
   ]
  },
  {
   "cell_type": "code",
   "execution_count": 13,
   "id": "10cff797-816d-4f96-a316-ea1845e03fc6",
   "metadata": {},
   "outputs": [
    {
     "data": {
      "text/plain": [
       "['Alice', 'Bob', 'Carol', 'Dave', 'Edward']"
      ]
     },
     "execution_count": 13,
     "metadata": {},
     "output_type": "execute_result"
    }
   ],
   "source": [
    "my_people.append('Edward')\n",
    "my_people"
   ]
  },
  {
   "cell_type": "markdown",
   "id": "7a572496-0808-48d9-9644-5fa4bd9e627c",
   "metadata": {},
   "source": [
    "TODO: \n",
    "- Make a list of the first four alkane smiles strings.\n",
    "- Call this list `my_mols`\n",
    "- Append the SMILES string for pentane\n",
    "- Add some other SMILES strings, make sure you can work out how to draw their structure"
   ]
  },
  {
   "cell_type": "code",
   "execution_count": 14,
   "id": "208ef268-d57f-4d8b-ac49-e95981062922",
   "metadata": {},
   "outputs": [
    {
     "data": {
      "text/plain": [
       "['C', 'CC', 'CCC', 'CCCC', 'CCCCC', 'CCO']"
      ]
     },
     "execution_count": 14,
     "metadata": {},
     "output_type": "execute_result"
    }
   ],
   "source": [
    "my_mols = ['C', 'CC', 'CCC', 'CCCC']\n",
    "my_mols.append('CCCCC')\n",
    "my_mols.append('CCO') # ethanol\n",
    "my_mols"
   ]
  },
  {
   "cell_type": "markdown",
   "id": "e2239ac0-4a02-4839-ab34-dc0b73b845d0",
   "metadata": {},
   "source": [
    "# For Loops"
   ]
  },
  {
   "cell_type": "markdown",
   "id": "efe1391d-606f-4f48-9550-f745df8f825f",
   "metadata": {},
   "source": [
    "If we want to do the same thing to each thing in the list, it would be quite annoying to have to write out the same code again and again. "
   ]
  },
  {
   "cell_type": "markdown",
   "id": "2b5b1e08-f01d-4f92-beb4-b03827bddb73",
   "metadata": {},
   "source": [
    "We can use a `for` loop to do the same code for each thing in the array. \n",
    "\n",
    "The statement `for name in my_people:` makes the variable name equal to each of the values in `my_people` one after the other. \n",
    "\n",
    "The code that will be executed for each `name` is indented underneath it. "
   ]
  },
  {
   "cell_type": "code",
   "execution_count": 15,
   "id": "e0f4ccb0-0bb7-4110-af5f-8de55a561125",
   "metadata": {},
   "outputs": [
    {
     "name": "stdout",
     "output_type": "stream",
     "text": [
      "Hello, Alice!\n",
      "Hello, Bob!\n",
      "Hello, Carol!\n",
      "Hello, Dave!\n",
      "Hello, Edward!\n"
     ]
    }
   ],
   "source": [
    "for name in my_people: \n",
    "    print('Hello, ' + name + '!')"
   ]
  },
  {
   "cell_type": "markdown",
   "id": "7bf5d332-b16a-4950-88f4-f2ff1ed5d791",
   "metadata": {},
   "source": [
    "You can also make a `for` loop use a list of numbers."
   ]
  },
  {
   "cell_type": "code",
   "execution_count": 16,
   "id": "132c38a5-8925-4b93-8213-4195741298b7",
   "metadata": {},
   "outputs": [
    {
     "name": "stdout",
     "output_type": "stream",
     "text": [
      "0\n",
      "1\n",
      "2\n",
      "3\n"
     ]
    }
   ],
   "source": [
    "for i in [0,1,2,3]:\n",
    "    print(i)"
   ]
  },
  {
   "cell_type": "markdown",
   "id": "bb56cf4c-131e-4226-a4fd-4a551327f25d",
   "metadata": {},
   "source": [
    "or use the `range` generator, that gives you that list without writing it out. "
   ]
  },
  {
   "cell_type": "code",
   "execution_count": 17,
   "id": "b37d14dd-8f1e-40e7-99cb-eba63b1636d0",
   "metadata": {},
   "outputs": [
    {
     "name": "stdout",
     "output_type": "stream",
     "text": [
      "0\n",
      "1\n",
      "2\n",
      "3\n"
     ]
    }
   ],
   "source": [
    "for i in range(4):\n",
    "    print(i)"
   ]
  },
  {
   "cell_type": "markdown",
   "id": "01a837ad-80b9-49b4-a2bd-68c6f57aa831",
   "metadata": {},
   "source": [
    "We can use this to make SMILES strings. If you start with methane, 'C', you can then concatenate another 'C' to make the string for ethane 'CC'. You can then concatenate another 'C' to make propane, e.t.c.."
   ]
  },
  {
   "cell_type": "code",
   "execution_count": 18,
   "id": "45add922-af69-4dfd-8c40-cdc366a7b36d",
   "metadata": {},
   "outputs": [
    {
     "name": "stdout",
     "output_type": "stream",
     "text": [
      "C CC CCC CCCC\n"
     ]
    }
   ],
   "source": [
    "meth = 'C'\n",
    "eth = meth + 'C'\n",
    "prop = eth + 'C'\n",
    "but = prop + 'C'\n",
    "print(meth, eth, prop, but)"
   ]
  },
  {
   "cell_type": "markdown",
   "id": "a713a5b3-3534-4b0e-881c-2c17dc2fb0d4",
   "metadata": {},
   "source": [
    "TODO:\n",
    "- make an empty list `[]` called alkanes\n",
    "- make an empty string `''` called alk\n",
    "- create a `for` loop that adds a `'C'` to the string four times\n",
    "- it should append the result to the list of alkanes each loop\n",
    "- at the end you should show that you have a list of 4 alkane smiles strings. "
   ]
  },
  {
   "cell_type": "code",
   "execution_count": 19,
   "id": "e42d440c-3398-4fb3-a596-6a1925ab986c",
   "metadata": {},
   "outputs": [
    {
     "data": {
      "text/plain": [
       "['C', 'CC', 'CCC', 'CCCC']"
      ]
     },
     "execution_count": 19,
     "metadata": {},
     "output_type": "execute_result"
    }
   ],
   "source": [
    "alkanes = []\n",
    "alk = ''\n",
    "for i in [1,2,3,4]: # or range(4) or ['a', 'b', 'c', 'd']\n",
    "    alk = alk + 'C'\n",
    "    alkanes.append(alk)\n",
    "alkanes"
   ]
  },
  {
   "cell_type": "markdown",
   "id": "138dd04a-0caf-4637-9fb1-1cc11191599d",
   "metadata": {},
   "source": [
    "# Putting it together"
   ]
  },
  {
   "cell_type": "markdown",
   "id": "c1da8caa-f364-4aca-9946-9222331d0bef",
   "metadata": {},
   "source": [
    "Below, a `for` loop generates the SMILES strings for the first 6 alkanes"
   ]
  },
  {
   "cell_type": "code",
   "execution_count": 20,
   "id": "0543a68f-1f14-4690-97db-cfc0968afaa3",
   "metadata": {},
   "outputs": [
    {
     "name": "stdout",
     "output_type": "stream",
     "text": [
      "C\n",
      "CC\n",
      "CCC\n",
      "CCCC\n",
      "CCCCC\n",
      "CCCCCC\n"
     ]
    }
   ],
   "source": [
    "smile = '' # empty string\n",
    "for i in [1,2,3,4,5,6]:\n",
    "    smile = smile + 'C'\n",
    "    print(smile)"
   ]
  },
  {
   "cell_type": "markdown",
   "id": "0942dcdc-31c0-47fe-8ae4-0525c2f9ce08",
   "metadata": {},
   "source": [
    "We can use a generator to give us up to `n` alkanes\n",
    "\n",
    "The `range()` function is a special generator function that returns one number after another, and can be iterated over just like a list. \n",
    "`range(4)` will generate the numbers 0, 1, 2, 3 in that order. Note, the number 4 is not generated, `range` stops before it. "
   ]
  },
  {
   "cell_type": "code",
   "execution_count": 21,
   "id": "6f4ee812-38a7-4da1-8536-d404ffbd940f",
   "metadata": {},
   "outputs": [
    {
     "name": "stdout",
     "output_type": "stream",
     "text": [
      "C\n",
      "CC\n",
      "CCC\n",
      "CCCC\n",
      "CCCCC\n",
      "CCCCCC\n",
      "CCCCCCC\n"
     ]
    }
   ],
   "source": [
    "n=7\n",
    "smile = '' # empty string\n",
    "for i in range(n):\n",
    "    smile = smile + 'C'\n",
    "    print(smile)"
   ]
  },
  {
   "cell_type": "markdown",
   "id": "7bb23718-f001-4282-bda7-997e8027ad5b",
   "metadata": {},
   "source": [
    "TODO: \n",
    "- Reuse the `for` loop above\n",
    "- In that loop make a smiles string for each of the first 10 alkanes, `n=10`\n",
    "- Define a molecule object (see last lesson) for each of the SMILES strings\n",
    "- Calculate the molecular formula and weight for each\n",
    "- Print the molecular formula and the molecular weight on the same line for each one\n",
    "- Find out how to round the molecular weight to 2 d.p."
   ]
  },
  {
   "cell_type": "code",
   "execution_count": 22,
   "id": "a6853cb2-6267-433e-acb7-abf563edeee0",
   "metadata": {},
   "outputs": [
    {
     "name": "stdout",
     "output_type": "stream",
     "text": [
      "CH4 16.03\n",
      "C2H6 30.05\n",
      "C3H8 44.06\n",
      "C4H10 58.08\n",
      "C5H12 72.09\n",
      "C6H14 86.11\n",
      "C7H16 100.13\n",
      "C8H18 114.14\n",
      "C9H20 128.16\n",
      "C10H22 142.17\n"
     ]
    }
   ],
   "source": [
    "n=10\n",
    "smile = '' # empty string\n",
    "for i in range(n):\n",
    "    smile = smile + 'C'\n",
    "    mol = Chem.MolFromSmiles(smile)\n",
    "    mw = CalcExactMolWt(mol)\n",
    "    mf = CalcMolFormula(mol)\n",
    "    print(mf, round(mw, 2))\n",
    "    "
   ]
  },
  {
   "cell_type": "markdown",
   "id": "035ba422-eb0b-4978-9e3c-38090466e18d",
   "metadata": {},
   "source": [
    "If you finish that, try making it draw out the structure for each one.. You may need to google."
   ]
  },
  {
   "cell_type": "markdown",
   "id": "f2981ecd-d888-4555-a204-be280ce871fb",
   "metadata": {},
   "source": [
    "This is much harder due to the way rdkit interacts with jupyter notebooks\n",
    "\n",
    "Try by making an array, then the `Draw.MolsToGridImage()` function. "
   ]
  },
  {
   "cell_type": "code",
   "execution_count": 23,
   "id": "80eda11a-d4cc-417f-8600-90896841c0aa",
   "metadata": {},
   "outputs": [
    {
     "name": "stdout",
     "output_type": "stream",
     "text": [
      "CH4 16.03\n",
      "C2H6 30.05\n",
      "C3H8 44.06\n",
      "C4H10 58.08\n",
      "C5H12 72.09\n",
      "C6H14 86.11\n",
      "C7H16 100.13\n",
      "C8H18 114.14\n",
      "C9H20 128.16\n",
      "C10H22 142.17\n"
     ]
    },
    {
     "data": {
      "image/png": "[encoded data removed]",
      "text/plain": [
       "<IPython.core.display.Image object>"
      ]
     },
     "execution_count": 23,
     "metadata": {},
     "output_type": "execute_result"
    }
   ],
   "source": [
    "n=10\n",
    "smile = '' # empty string\n",
    "alkanes = []\n",
    "for i in range(n):\n",
    "    smile = smile + 'C'\n",
    "    mol = Chem.MolFromSmiles(smile)\n",
    "    mw = CalcExactMolWt(mol)\n",
    "    mf = CalcMolFormula(mol)\n",
    "    print(mf, round(mw, 2))\n",
    "    alkanes.append(mol)\n",
    "    \n",
    "Draw.MolsToGridImage(alkanes)"
   ]
  },
  {
   "cell_type": "markdown",
   "id": "0d9e8769-7c97-426f-abd8-f92c69a58698",
   "metadata": {},
   "source": [
    "Can you do this for other 'homologous serieses'? Such as alkenes, alcohols\n"
   ]
  },
  {
   "cell_type": "code",
   "execution_count": 24,
   "id": "4cc9af74-6b4c-428f-8364-be4b1edd9b03",
   "metadata": {},
   "outputs": [
    {
     "name": "stdout",
     "output_type": "stream",
     "text": [
      "CH4O 32.03\n",
      "C2H6O 46.04\n",
      "C3H8O 60.06\n",
      "C4H10O 74.07\n",
      "C5H12O 88.09\n",
      "C6H14O 102.1\n",
      "C7H16O 116.12\n",
      "C8H18O 130.14\n",
      "C9H20O 144.15\n",
      "C10H22O 158.17\n"
     ]
    },
    {
     "data": {
      "image/png": "[encoded data removed]",
      "text/plain": [
       "<IPython.core.display.Image object>"
      ]
     },
     "execution_count": 24,
     "metadata": {},
     "output_type": "execute_result"
    }
   ],
   "source": [
    "n=10\n",
    "smile = 'O' # O as all (primary) alcohols have O at the end\n",
    "alcohols = []\n",
    "for i in range(n):\n",
    "    smile = 'C'+ smile\n",
    "    mol = Chem.MolFromSmiles(smile)\n",
    "    mw = CalcExactMolWt(mol)\n",
    "    mf = CalcMolFormula(mol)\n",
    "    print(mf, round(mw, 2))\n",
    "    alcohols.append(mol)\n",
    "    \n",
    "Draw.MolsToGridImage(alcohols)"
   ]
  },
  {
   "cell_type": "code",
   "execution_count": null,
   "id": "6bff85e1-8282-434a-abbb-ab1fb710c826",
   "metadata": {},
   "outputs": [],
   "source": []
  }
 ],
 "metadata": {
  "kernelspec": {
   "display_name": "Python 3 (ipykernel)",
   "language": "python",
   "name": "python3"
  },
  "language_info": {
   "codemirror_mode": {
    "name": "ipython",
    "version": 3
   },
   "file_extension": ".py",
   "mimetype": "text/x-python",
   "name": "python",
   "nbconvert_exporter": "python",
   "pygments_lexer": "ipython3",
   "version": "3.8.18"
  }
 },
 "nbformat": 4,
 "nbformat_minor": 5
}
