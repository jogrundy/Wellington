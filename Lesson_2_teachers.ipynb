{
 "cells": [
  {
   "cell_type": "markdown",
   "id": "6696d98b-49f9-4ba9-8016-a683c06991b1",
   "metadata": {},
   "source": [
    "# Introduction to Python in Chemistry Lesson 2"
   ]
  },
  {
   "cell_type": "markdown",
   "id": "0df2d94a-7ee8-4185-8866-3fa2fd74e5fc",
   "metadata": {},
   "source": [
    "# Strings"
   ]
  },
  {
   "cell_type": "markdown",
   "id": "29f1f304-53e0-49f8-bd3c-997407750eaa",
   "metadata": {},
   "source": [
    "Last lesson we defined a variable as a molecule, using rdkit. We can define a variable as a string too. We will start with a name string. \n"
   ]
  },
  {
   "cell_type": "code",
   "execution_count": 1,
   "id": "d4daa045-f7bb-429a-83be-e708813c3bd1",
   "metadata": {},
   "outputs": [],
   "source": [
    "name = 'Zoë'"
   ]
  },
  {
   "cell_type": "markdown",
   "id": "e9aaa304",
   "metadata": {},
   "source": [
    "The code above takes in a string and makes a variable take its place. \n",
    "\n",
    "You can define a variable by using inverted commas `name = 'Claire'` or quotation marks, `name = \"Claire\"`. "
   ]
  },
  {
   "cell_type": "markdown",
   "id": "ced26ead",
   "metadata": {},
   "source": [
    "To Do:\n",
    "- Change the code below so instead of 'Zoë' you have your own first name. "
   ]
  },
  {
   "cell_type": "code",
   "execution_count": 2,
   "id": "82b37933",
   "metadata": {},
   "outputs": [],
   "source": [
    "name = 'Zoë'"
   ]
  },
  {
   "cell_type": "markdown",
   "id": "2b149d87",
   "metadata": {},
   "source": [
    "You can see what is in this variable by just putting the variable at the end of a code block:"
   ]
  },
  {
   "cell_type": "code",
   "execution_count": 3,
   "id": "f8caf245",
   "metadata": {},
   "outputs": [
    {
     "data": {
      "text/plain": [
       "'Zoë'"
      ]
     },
     "execution_count": 3,
     "metadata": {},
     "output_type": "execute_result"
    }
   ],
   "source": [
    "name"
   ]
  },
  {
   "cell_type": "markdown",
   "id": "6a315769",
   "metadata": {},
   "source": [
    "Or using the `print()` function, which takes a string in its brackets and prints it"
   ]
  },
  {
   "cell_type": "code",
   "execution_count": 4,
   "id": "588f006b",
   "metadata": {},
   "outputs": [
    {
     "name": "stdout",
     "output_type": "stream",
     "text": [
      "Zoë\n"
     ]
    }
   ],
   "source": [
    "print(name)"
   ]
  },
  {
   "cell_type": "markdown",
   "id": "57ef6aae",
   "metadata": {},
   "source": [
    "You can print variables as part of other strings using the format string `f` before the string in the print function. \n",
    "\n",
    "For example, `print(f\"My name is {name}\")` will print what ever is in `name` in that place.\n",
    "\n",
    "Try it below:"
   ]
  },
  {
   "cell_type": "code",
   "execution_count": 5,
   "id": "771de169",
   "metadata": {},
   "outputs": [
    {
     "name": "stdout",
     "output_type": "stream",
     "text": [
      "My name is Zoë\n"
     ]
    }
   ],
   "source": [
    "print(f\"My name is {name}\")"
   ]
  },
  {
   "cell_type": "markdown",
   "id": "a637aeeb",
   "metadata": {},
   "source": [
    "The code below sets the variables breakfast, lunch and dinner to be empty strings, either `''` or `\"\"`.\n",
    "\n",
    "To do:\n",
    "- Change the variables `breakfast`, `lunch` and `dinner` to be the names of things you like to eat\n",
    "- run the code block \n",
    "- make sure you agree with the sentence printed"
   ]
  },
  {
   "cell_type": "code",
   "execution_count": 40,
   "id": "a34d723a",
   "metadata": {},
   "outputs": [
    {
     "name": "stdout",
     "output_type": "stream",
     "text": [
      "For breakfast I like to eat porridge, for lunch I enjoy sandwiches, for dinner I prefer curry\n"
     ]
    }
   ],
   "source": [
    "# This is a comment\n",
    "# anything after the hash `#` is not interpreted as code\n",
    "\n",
    "# Change these variables:\n",
    "breakfast = 'porridge'\n",
    "lunch = \"sandwiches\"\n",
    "dinner = 'curry'\n",
    "\n",
    "# the next line prints out the whole sentence with the variables substituting in.\n",
    "print(f\"For breakfast I like to eat {breakfast}, for lunch I enjoy {lunch}, for dinner I prefer {dinner}\")"
   ]
  },
  {
   "cell_type": "markdown",
   "id": "a6172cbf",
   "metadata": {},
   "source": [
    "Using double quotation marks `\"` means you can define a string with an apostrophe. \n",
    "\n",
    "If you try to print `print('I don't like boiled cabbage')` it won't work, as it will only see the string as `'I don'` and then it gets confused by the letters afterwards. \n",
    "\n",
    "If you replace the inverted commas with quotation marks however, this should work. `print(\"I don't like boiled cabbage\")`\n",
    "\n",
    "To do:\n",
    "- run the code block below, see the error message.\n",
    "- replace the inverted commas with quotation marks\n",
    "- run the code block again, this time with no errors :-)"
   ]
  },
  {
   "cell_type": "code",
   "execution_count": 7,
   "id": "6a53904a-68b1-45f3-b1ef-a70d42b0f592",
   "metadata": {},
   "outputs": [
    {
     "ename": "SyntaxError",
     "evalue": "invalid syntax (462786132.py, line 1)",
     "output_type": "error",
     "traceback": [
      "\u001b[0;36m  File \u001b[0;32m\"/var/folders/dl/pczkvbw15215r_302bklrz2m0000gq/T/ipykernel_3631/462786132.py\"\u001b[0;36m, line \u001b[0;32m1\u001b[0m\n\u001b[0;31m    s = 'I don't like boiled cabbage'\u001b[0m\n\u001b[0m               ^\u001b[0m\n\u001b[0;31mSyntaxError\u001b[0m\u001b[0;31m:\u001b[0m invalid syntax\n"
     ]
    }
   ],
   "source": [
    "s = 'I don't like boiled cabbage'\n",
    "print(s)"
   ]
  },
  {
   "cell_type": "code",
   "execution_count": 39,
   "id": "b09870a9",
   "metadata": {},
   "outputs": [
    {
     "name": "stdout",
     "output_type": "stream",
     "text": [
      "I don't like boiled cabbage\n"
     ]
    }
   ],
   "source": [
    "s = \"I don't like boiled cabbage\"\n",
    "print(s)"
   ]
  },
  {
   "cell_type": "markdown",
   "id": "db19a6b1",
   "metadata": {},
   "source": [
    "To do:\n",
    "- write a line of code to print a string saying `I'm missing my` then put in the variable `lunch`, what ever it was defined as before."
   ]
  },
  {
   "cell_type": "code",
   "execution_count": 8,
   "id": "6ec1b9e5",
   "metadata": {},
   "outputs": [
    {
     "name": "stdout",
     "output_type": "stream",
     "text": [
      "I'm missing my \n"
     ]
    }
   ],
   "source": [
    "# write your code in here\n",
    "print(f\"I'm missing my {lunch}\")"
   ]
  },
  {
   "cell_type": "markdown",
   "id": "94ebfe94",
   "metadata": {},
   "source": [
    "## String Indexing "
   ]
  },
  {
   "cell_type": "markdown",
   "id": "e5085e5a-e463-40c0-b02d-c6e1674506d0",
   "metadata": {},
   "source": [
    "You can index the letters in a string using square brackets\n",
    "\n",
    "the code below prints the letter at index `1` in your `name` variable"
   ]
  },
  {
   "cell_type": "code",
   "execution_count": 9,
   "id": "509501dc-d781-4d23-af90-209515c1ab95",
   "metadata": {},
   "outputs": [
    {
     "data": {
      "text/plain": [
       "'o'"
      ]
     },
     "execution_count": 9,
     "metadata": {},
     "output_type": "execute_result"
    }
   ],
   "source": [
    "name[1]"
   ]
  },
  {
   "cell_type": "markdown",
   "id": "95dc0702-30f5-4a5a-8732-be2cb51c66fd",
   "metadata": {},
   "source": [
    "The first letter is indexed as `[0]` as Python is a zero indexed language.\n",
    "\n",
    "To do:\n",
    "- Change the code below to print the first character of your `name` variable"
   ]
  },
  {
   "cell_type": "code",
   "execution_count": 10,
   "id": "42c6937c",
   "metadata": {},
   "outputs": [
    {
     "data": {
      "text/plain": [
       "'o'"
      ]
     },
     "execution_count": 10,
     "metadata": {},
     "output_type": "execute_result"
    }
   ],
   "source": [
    "name[1]"
   ]
  },
  {
   "cell_type": "markdown",
   "id": "1c9d5f7f",
   "metadata": {},
   "source": [
    "The index `-1` refers to the last character in your string\n",
    "\n",
    "This is useful if you don't know how long your string is"
   ]
  },
  {
   "cell_type": "code",
   "execution_count": 11,
   "id": "fea8fb2d",
   "metadata": {},
   "outputs": [
    {
     "data": {
      "text/plain": [
       "'ë'"
      ]
     },
     "execution_count": 11,
     "metadata": {},
     "output_type": "execute_result"
    }
   ],
   "source": [
    "name[-1]"
   ]
  },
  {
   "cell_type": "markdown",
   "id": "113595b8",
   "metadata": {},
   "source": [
    "You can find how long your string is using the `len()` function"
   ]
  },
  {
   "cell_type": "code",
   "execution_count": 12,
   "id": "feb4641a",
   "metadata": {},
   "outputs": [
    {
     "data": {
      "text/plain": [
       "3"
      ]
     },
     "execution_count": 12,
     "metadata": {},
     "output_type": "execute_result"
    }
   ],
   "source": [
    "len(name)"
   ]
  },
  {
   "cell_type": "markdown",
   "id": "fbea83cd",
   "metadata": {},
   "source": [
    "You can also use slices, for example `[3:8]` takes everything from index `3` to index `7`. "
   ]
  },
  {
   "cell_type": "code",
   "execution_count": 13,
   "id": "3d87ad1d-7045-482d-94c5-eac3cc9c5ccc",
   "metadata": {},
   "outputs": [
    {
     "data": {
      "text/plain": [
       "'nitro'"
      ]
     },
     "execution_count": 13,
     "metadata": {},
     "output_type": "execute_result"
    }
   ],
   "source": [
    "tnt = \"trinitrotoluene\"\n",
    "tnt[3:8]"
   ]
  },
  {
   "cell_type": "markdown",
   "id": "b174c275",
   "metadata": {},
   "source": [
    "You can print all the rest of a string using the slice, and not putting an end index. "
   ]
  },
  {
   "cell_type": "code",
   "execution_count": 14,
   "id": "62437151",
   "metadata": {},
   "outputs": [
    {
     "data": {
      "text/plain": [
       "'toluene'"
      ]
     },
     "execution_count": 14,
     "metadata": {},
     "output_type": "execute_result"
    }
   ],
   "source": [
    "tnt[8:]"
   ]
  },
  {
   "cell_type": "markdown",
   "id": "e1660dea",
   "metadata": {},
   "source": [
    "Below the name of a compound is defined as a string variable.\n",
    "\n",
    "To do:\n",
    "- print the second character\n",
    "- print the last character"
   ]
  },
  {
   "cell_type": "code",
   "execution_count": 31,
   "id": "3feeb50a",
   "metadata": {},
   "outputs": [
    {
     "name": "stdout",
     "output_type": "stream",
     "text": [
      "c\n",
      "d\n"
     ]
    }
   ],
   "source": [
    "# define the string\n",
    "comp = 'acetyl salicylic acid'\n",
    "# print the second character here\n",
    "print(comp[1])\n",
    "# print the last character here\n",
    "print(comp[-1])"
   ]
  },
  {
   "cell_type": "markdown",
   "id": "8df1c78d-4b6c-444b-8d48-a36387520c76",
   "metadata": {},
   "source": [
    "You can make your string longer by adding to it. To do this, you can use the `+` operator. "
   ]
  },
  {
   "cell_type": "code",
   "execution_count": 16,
   "id": "ae620a44-0110-4959-808b-5d92b980bff5",
   "metadata": {},
   "outputs": [
    {
     "data": {
      "text/plain": [
       "'ZoëAnne'"
      ]
     },
     "execution_count": 16,
     "metadata": {},
     "output_type": "execute_result"
    }
   ],
   "source": [
    "name + 'Anne'"
   ]
  },
  {
   "cell_type": "markdown",
   "id": "2e208b39-5739-4cc8-b2ba-10a47ebe992e",
   "metadata": {},
   "source": [
    "You can see that there is no space. If you want a space, you can add it as well. "
   ]
  },
  {
   "cell_type": "code",
   "execution_count": 17,
   "id": "41c9ffff-e359-4aa3-9e36-827c5e404a0e",
   "metadata": {},
   "outputs": [
    {
     "data": {
      "text/plain": [
       "'Zoë Anne'"
      ]
     },
     "execution_count": 17,
     "metadata": {},
     "output_type": "execute_result"
    }
   ],
   "source": [
    "name + ' ' + 'Anne' "
   ]
  },
  {
   "cell_type": "markdown",
   "id": "a9c89261",
   "metadata": {},
   "source": [
    "*Note* The `+` operator is overloaded, that means it does more than one thing. With numbers, it adds, with strings it concatenates. "
   ]
  },
  {
   "cell_type": "markdown",
   "id": "5e28fddb-bf00-4ba9-aef7-de5306d1e669",
   "metadata": {},
   "source": [
    "TO DO: \n",
    "- Define a variable called `surname` as your own surname\n",
    "- Print out your full name using the `name` variable and the `surname` variable\n",
    "- Make sure you use *space* between your name and surname"
   ]
  },
  {
   "cell_type": "code",
   "execution_count": 30,
   "id": "e5d46704-25f6-4dd1-ab74-a0ad7155b9b9",
   "metadata": {},
   "outputs": [
    {
     "name": "stdout",
     "output_type": "stream",
     "text": [
      "Zoë Smith\n"
     ]
    }
   ],
   "source": [
    "# define surname variable\n",
    "surname = 'Smith'\n",
    "# print out your full name\n",
    "print(name + ' ' + surname)"
   ]
  },
  {
   "cell_type": "markdown",
   "id": "1094a6d9",
   "metadata": {},
   "source": [
    "We can use this to make SMILES strings. If you start with methane, 'C', you can then concatenate another 'C' to make the string for ethane 'CC'. You can then concatenate another 'C' to make propane, e.t.c.."
   ]
  },
  {
   "cell_type": "code",
   "execution_count": null,
   "id": "01a32c33",
   "metadata": {},
   "outputs": [
    {
     "name": "stdout",
     "output_type": "stream",
     "text": [
      "C CC CCC CCCC\n"
     ]
    }
   ],
   "source": [
    "meth = 'C'\n",
    "eth = meth + 'C'\n",
    "prop = eth + 'C'\n",
    "but = prop + 'C'\n",
    "\n",
    "print(meth, eth, prop, but)"
   ]
  },
  {
   "cell_type": "markdown",
   "id": "58aae6ad",
   "metadata": {},
   "source": [
    "You can also multiply your strings. \n",
    "\n",
    "The asterisk `*` is multiply in python. \n",
    "\n",
    "Try `3 * name`"
   ]
  },
  {
   "cell_type": "code",
   "execution_count": 44,
   "id": "58a8b6b3",
   "metadata": {},
   "outputs": [
    {
     "data": {
      "text/plain": [
       "'ZoëZoëZoë'"
      ]
     },
     "execution_count": 44,
     "metadata": {},
     "output_type": "execute_result"
    }
   ],
   "source": [
    "# put your code here\n",
    "3 * name"
   ]
  },
  {
   "cell_type": "markdown",
   "id": "be113baf",
   "metadata": {},
   "source": [
    "This just makes three times the same string."
   ]
  },
  {
   "cell_type": "markdown",
   "id": "1610bb44",
   "metadata": {},
   "source": [
    "You could also just use the `*` multiply function to make SMILES strings"
   ]
  },
  {
   "cell_type": "code",
   "execution_count": 51,
   "id": "16e9cf5f",
   "metadata": {},
   "outputs": [
    {
     "name": "stdout",
     "output_type": "stream",
     "text": [
      "CCCCC\n"
     ]
    }
   ],
   "source": [
    "pent = 5 * 'C'\n",
    "print(pent)"
   ]
  },
  {
   "cell_type": "markdown",
   "id": "0dd815e4",
   "metadata": {},
   "source": [
    "# String Questions\n",
    "\n",
    "1 - What index number is the 't' in 'Methane'?\n",
    "\n",
    "2 - How would you slice the last three letters of 'Methane'?\n",
    "\n",
    "3 - How would you slice the first four letters of 'Methane'?\n",
    "\n",
    "4 - How long is the string 'Llanfair­pwllgwyngyll­gogery­chwyrn­drobwll­llan­tysilio­gogo­goch'?\n",
    "\n",
    "5 - How would you define the smiles string for the 24 carbon long staright chain alkane 'tetracosane'\n",
    "\n",
    "6 - How would you take the string 'Ethane' and turn it in to 'Ethanol'?\n",
    "\n",
    "7 - Why shouldn't you call a variable `len`?\n",
    "\n",
    "8 - Previously you printed your name 3 times using `*`. Using one line of code, can you print out the same variable using `*` number `n` times with spaces between the strings?\n",
    "\n",
    "9 - If you finish, there is more than one way to solve many of these questions. Can you find more than one solution for any of these questions?"
   ]
  },
  {
   "cell_type": "code",
   "execution_count": 18,
   "id": "8f183adf",
   "metadata": {},
   "outputs": [
    {
     "name": "stdout",
     "output_type": "stream",
     "text": [
      "t\n",
      "t\n"
     ]
    }
   ],
   "source": [
    "# Question 1 - 2\n",
    "print('Methane'[2])\n",
    "mol = 'Methane'\n",
    "print(mol[2])"
   ]
  },
  {
   "cell_type": "code",
   "execution_count": 22,
   "id": "4f258207",
   "metadata": {},
   "outputs": [
    {
     "name": "stdout",
     "output_type": "stream",
     "text": [
      "ane\n",
      "ane\n"
     ]
    }
   ],
   "source": [
    "# Question 2 - \n",
    "print(mol[-3:])\n",
    "print(mol[4:])"
   ]
  },
  {
   "cell_type": "code",
   "execution_count": 23,
   "id": "bd17c2e3",
   "metadata": {},
   "outputs": [
    {
     "name": "stdout",
     "output_type": "stream",
     "text": [
      "Meth\n",
      "Meth\n"
     ]
    }
   ],
   "source": [
    "# Question 3 - \n",
    "print(mol[:-3])\n",
    "print(mol[:4])"
   ]
  },
  {
   "cell_type": "code",
   "execution_count": 24,
   "id": "a959199b",
   "metadata": {},
   "outputs": [
    {
     "name": "stdout",
     "output_type": "stream",
     "text": [
      "66\n"
     ]
    }
   ],
   "source": [
    "# Question 4 -\n",
    "town = 'Llanfair­pwllgwyngyll­gogery­chwyrn­drobwll­llan­tysilio­gogo­goch'\n",
    "print(len(town))"
   ]
  },
  {
   "cell_type": "code",
   "execution_count": 25,
   "id": "dbe65409",
   "metadata": {},
   "outputs": [
    {
     "name": "stdout",
     "output_type": "stream",
     "text": [
      "CCCCCCCCCCCCCCCCCCCCCCCC\n"
     ]
    }
   ],
   "source": [
    "# Question 5 - \n",
    "tetracosane = 24*'C'\n",
    "\n",
    "print(tetracosane)"
   ]
  },
  {
   "cell_type": "code",
   "execution_count": 28,
   "id": "2d473235",
   "metadata": {},
   "outputs": [
    {
     "name": "stdout",
     "output_type": "stream",
     "text": [
      "ethanol\n"
     ]
    }
   ],
   "source": [
    "# Question 6 - \n",
    "mol = 'ethane'\n",
    "new_mol = mol[:-1]+'ol'\n",
    "print(new_mol)"
   ]
  },
  {
   "cell_type": "code",
   "execution_count": 29,
   "id": "3c3d3fcd",
   "metadata": {},
   "outputs": [
    {
     "name": "stdout",
     "output_type": "stream",
     "text": [
      "   Zoë\n",
      " Zoë Zoë Zoë\n",
      " Zoë Zoë Zoë\n"
     ]
    }
   ],
   "source": [
    "# Question 7 - \n",
    "print(3 * ' '+name)\n",
    "# doesn't work\n",
    "print(3 * (' '+name))\n",
    "# or \n",
    "name_sp = ' '+name\n",
    "print(3*name_sp)"
   ]
  },
  {
   "cell_type": "markdown",
   "id": "17ec7c21",
   "metadata": {},
   "source": [
    "Extension:\n",
    "\n",
    "Using code from last lesson, look up and draw the structure of acetyl salicylic acid (aka aspirin). \n",
    "\n",
    "It's SMILES string is `O=C(C)Oc1ccccc1C(=O)O`\n",
    "\n",
    "How would you change this string to one for just salicylic acid `Oc1ccccc1C(=O)O`? Can you split out any other structures?"
   ]
  },
  {
   "cell_type": "code",
   "execution_count": 35,
   "id": "3d924df3",
   "metadata": {},
   "outputs": [
    {
     "data": {
      "image/png": "[encoded data removed]",
      "text/plain": [
       "<PIL.PngImagePlugin.PngImageFile image mode=RGB size=300x300 at 0x7FEF204217F0>"
      ]
     },
     "execution_count": 35,
     "metadata": {},
     "output_type": "execute_result"
    }
   ],
   "source": [
    "from rdkit import Chem\n",
    "from rdkit.Chem import Draw\n",
    "asp_smiles = 'O=C(C)Oc1ccccc1C(=O)O'\n",
    "aspirin=Chem.MolFromSmiles(asp_smiles)\n",
    "Draw.MolToImage(aspirin)"
   ]
  },
  {
   "cell_type": "code",
   "execution_count": 37,
   "id": "c080a7c9",
   "metadata": {},
   "outputs": [
    {
     "data": {
      "image/png": "[encoded data removed]",
      "text/plain": [
       "<PIL.PngImagePlugin.PngImageFile image mode=RGB size=300x300 at 0x7FEF20406F40>"
      ]
     },
     "execution_count": 37,
     "metadata": {},
     "output_type": "execute_result"
    }
   ],
   "source": [
    "sal_smiles = asp_smiles[6:]\n",
    "sal=Chem.MolFromSmiles(sal_smiles)\n",
    "Draw.MolToImage(sal)"
   ]
  },
  {
   "cell_type": "code",
   "execution_count": 38,
   "id": "407648c3",
   "metadata": {},
   "outputs": [
    {
     "data": {
      "image/png": "[encoded data removed]",
      "text/plain": [
       "<PIL.PngImagePlugin.PngImageFile image mode=RGB size=300x300 at 0x7FEEF1149FD0>"
      ]
     },
     "execution_count": 38,
     "metadata": {},
     "output_type": "execute_result"
    }
   ],
   "source": [
    "phenol_smiles = sal_smiles[:-6]\n",
    "phenol=Chem.MolFromSmiles(phenol_smiles)\n",
    "Draw.MolToImage(phenol)"
   ]
  },
  {
   "cell_type": "markdown",
   "id": "15f3eea6",
   "metadata": {},
   "source": [
    "\n",
    "Do the same for TNT, trinitrotoluene.\n",
    "\n",
    "Its SMILES string is `Cc1c(cc(cc1[N+]([O-])=O)[N+]([O-])=O)[N+]([O-])=O`"
   ]
  }
 ],
 "metadata": {
  "kernelspec": {
   "display_name": "Python 3 (ipykernel)",
   "language": "python",
   "name": "python3"
  },
  "language_info": {
   "codemirror_mode": {
    "name": "ipython",
    "version": 3
   },
   "file_extension": ".py",
   "mimetype": "text/x-python",
   "name": "python",
   "nbconvert_exporter": "python",
   "pygments_lexer": "ipython3",
   "version": "3.8.12"
  }
 },
 "nbformat": 4,
 "nbformat_minor": 5
}
