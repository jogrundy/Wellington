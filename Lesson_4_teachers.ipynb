{
 "cells": [
  {
   "cell_type": "markdown",
   "id": "6696d98b-49f9-4ba9-8016-a683c06991b1",
   "metadata": {},
   "source": [
    "# Introduction to Python in Chemistry Lesson 4"
   ]
  },
  {
   "cell_type": "markdown",
   "id": "bc156dcf",
   "metadata": {},
   "source": [
    "# Operators"
   ]
  },
  {
   "cell_type": "markdown",
   "id": "c3fa48a1",
   "metadata": {},
   "source": [
    "Operators include:\n",
    "- `+` plus, or concatenate, e.g. `3 + 6`\n",
    "- `-` minus e.g. `\n",
    "- `*` multiply, or multiply concatenate\n",
    "- `/` divide\n",
    "- `**` power, so `x**3` is x cubed\n",
    "- `%` modulo, gets the remainder after division, `10"
   ]
  },
  {
   "cell_type": "markdown",
   "id": "d7449bad",
   "metadata": {},
   "source": [
    "Try each of them out on the variable `x` below, using the integer 4. The first two have been done for you."
   ]
  },
  {
   "cell_type": "code",
   "execution_count": 40,
   "id": "a72d1002",
   "metadata": {},
   "outputs": [],
   "source": [
    "# 1\n",
    "x = 10"
   ]
  },
  {
   "cell_type": "code",
   "execution_count": 39,
   "id": "e475ac96",
   "metadata": {},
   "outputs": [
    {
     "data": {
      "text/plain": [
       "14"
      ]
     },
     "execution_count": 39,
     "metadata": {},
     "output_type": "execute_result"
    }
   ],
   "source": [
    "# 2\n",
    "x + 4"
   ]
  },
  {
   "cell_type": "code",
   "execution_count": 41,
   "id": "bffa971c",
   "metadata": {},
   "outputs": [
    {
     "data": {
      "text/plain": [
       "6"
      ]
     },
     "execution_count": 41,
     "metadata": {},
     "output_type": "execute_result"
    }
   ],
   "source": [
    "# 3\n",
    "x-4"
   ]
  },
  {
   "cell_type": "code",
   "execution_count": 42,
   "id": "008ea98d",
   "metadata": {},
   "outputs": [
    {
     "data": {
      "text/plain": [
       "40"
      ]
     },
     "execution_count": 42,
     "metadata": {},
     "output_type": "execute_result"
    }
   ],
   "source": [
    "# 4\n",
    "# Your code here - use multiply *\n",
    "x*4"
   ]
  },
  {
   "cell_type": "code",
   "execution_count": 4,
   "id": "35040743",
   "metadata": {},
   "outputs": [
    {
     "data": {
      "text/plain": [
       "2.5"
      ]
     },
     "execution_count": 4,
     "metadata": {},
     "output_type": "execute_result"
    }
   ],
   "source": [
    "# 5\n",
    "# your code here - use divide /\n",
    "x/4"
   ]
  },
  {
   "cell_type": "code",
   "execution_count": 5,
   "id": "db57ac0e",
   "metadata": {},
   "outputs": [
    {
     "data": {
      "text/plain": [
       "10000"
      ]
     },
     "execution_count": 5,
     "metadata": {},
     "output_type": "execute_result"
    }
   ],
   "source": [
    "# 6\n",
    "# Your code here - use power **\n",
    "x**4"
   ]
  },
  {
   "cell_type": "code",
   "execution_count": 6,
   "id": "3e5d1231",
   "metadata": {},
   "outputs": [
    {
     "data": {
      "text/plain": [
       "2"
      ]
     },
     "execution_count": 6,
     "metadata": {},
     "output_type": "execute_result"
    }
   ],
   "source": [
    "# 7\n",
    "# Your code here - use modulo %\n",
    "x%4"
   ]
  },
  {
   "cell_type": "markdown",
   "id": "d69aad92",
   "metadata": {},
   "source": [
    "Question\n",
    "\n",
    "- How would you check to see if a number is wholly divisble by another number, for example 4?"
   ]
  },
  {
   "cell_type": "code",
   "execution_count": 7,
   "id": "b7135c6f",
   "metadata": {},
   "outputs": [
    {
     "data": {
      "text/plain": [
       "False"
      ]
     },
     "execution_count": 7,
     "metadata": {},
     "output_type": "execute_result"
    }
   ],
   "source": [
    "# 8\n",
    "# use this:\n",
    "x%4==0"
   ]
  },
  {
   "cell_type": "markdown",
   "id": "e96fe1f3",
   "metadata": {},
   "source": [
    "## Arrays and Plotting"
   ]
  },
  {
   "cell_type": "markdown",
   "id": "17623d25",
   "metadata": {},
   "source": [
    "We are going to have another look at lists"
   ]
  },
  {
   "cell_type": "code",
   "execution_count": 8,
   "id": "e56e87c4",
   "metadata": {},
   "outputs": [],
   "source": [
    "# 9\n",
    "nums = [1,2,3,4,5,6,7,8,9,10]"
   ]
  },
  {
   "cell_type": "markdown",
   "id": "1c65b2d6",
   "metadata": {},
   "source": [
    "The code above defines a list, and has the entries as numbers. \n"
   ]
  },
  {
   "cell_type": "markdown",
   "id": "aaf1af09",
   "metadata": {},
   "source": [
    "If i want to square each of the numbers one by one, I could use a for loop. \n"
   ]
  },
  {
   "cell_type": "markdown",
   "id": "6421e381",
   "metadata": {},
   "source": [
    "TODO: \n",
    "- Make a `for` loop to iterate though the array\n",
    "- each number should be multiplied by 2 and printed"
   ]
  },
  {
   "cell_type": "code",
   "execution_count": 9,
   "id": "8eb2c88b",
   "metadata": {},
   "outputs": [
    {
     "name": "stdout",
     "output_type": "stream",
     "text": [
      "2\n",
      "4\n",
      "6\n",
      "8\n",
      "10\n",
      "12\n",
      "14\n",
      "16\n",
      "18\n",
      "20\n"
     ]
    }
   ],
   "source": [
    "# 10\n",
    "# Your code here\n",
    "for num in nums:\n",
    "    print(num*2)\n"
   ]
  },
  {
   "cell_type": "markdown",
   "id": "1ae62257",
   "metadata": {},
   "source": [
    "However this is rather inefficient, it would be nicer if we could just double the whole array. "
   ]
  },
  {
   "cell_type": "code",
   "execution_count": 22,
   "id": "47ec07de",
   "metadata": {},
   "outputs": [
    {
     "data": {
      "text/plain": [
       "[1, 2, 3, 4, 5, 6, 7, 8, 9, 10, 1, 2, 3, 4, 5, 6, 7, 8, 9, 10]"
      ]
     },
     "execution_count": 22,
     "metadata": {},
     "output_type": "execute_result"
    }
   ],
   "source": [
    "# 11\n",
    "nums*2"
   ]
  },
  {
   "cell_type": "markdown",
   "id": "d56180e8",
   "metadata": {},
   "source": [
    "This is not what we wanted. Why has this happened? "
   ]
  },
  {
   "cell_type": "markdown",
   "id": "e619ab11",
   "metadata": {},
   "source": [
    "- Answer here, edit this box\n",
    "\n",
    "multiplication just concatenates the same list on again, as many times as you multiply by. Just like with strings.\n",
    " "
   ]
  },
  {
   "cell_type": "code",
   "execution_count": 23,
   "id": "4c7f922b",
   "metadata": {},
   "outputs": [
    {
     "data": {
      "text/plain": [
       "[1, 2, 3, 4, 5, 6, 7, 8, 9, 10, 1, 2, 3, 4, 5, 6, 7, 8, 9, 10]"
      ]
     },
     "execution_count": 23,
     "metadata": {},
     "output_type": "execute_result"
    }
   ],
   "source": [
    "# 12\n",
    "nums+nums"
   ]
  },
  {
   "cell_type": "markdown",
   "id": "31aac168",
   "metadata": {},
   "source": [
    "Find out which of these work as you would expect:\n",
    "- Adding a value to the whole list\n",
    "- Subtracting a value from the whole list\n",
    "- Timesing the list by minus 1 (*-1)\n",
    "- Dividing the list by 2\n",
    "- Squaring the list (**2)\n",
    "- Looking at the remainder after division by 2 for the list?\n",
    "- What happens for each one? "
   ]
  },
  {
   "cell_type": "code",
   "execution_count": 24,
   "id": "3de0f561",
   "metadata": {},
   "outputs": [
    {
     "ename": "TypeError",
     "evalue": "can only concatenate list (not \"int\") to list",
     "output_type": "error",
     "traceback": [
      "\u001b[0;31m---------------------------------------------------------------------------\u001b[0m",
      "\u001b[0;31mTypeError\u001b[0m                                 Traceback (most recent call last)",
      "\u001b[0;32m/var/folders/dl/pczkvbw15215r_302bklrz2m0000gq/T/ipykernel_79732/2470812931.py\u001b[0m in \u001b[0;36m<module>\u001b[0;34m\u001b[0m\n\u001b[1;32m      1\u001b[0m \u001b[0;31m# 12\u001b[0m\u001b[0;34m\u001b[0m\u001b[0;34m\u001b[0m\u001b[0;34m\u001b[0m\u001b[0m\n\u001b[0;32m----> 2\u001b[0;31m \u001b[0mnums\u001b[0m\u001b[0;34m+\u001b[0m\u001b[0;36m1\u001b[0m\u001b[0;34m\u001b[0m\u001b[0;34m\u001b[0m\u001b[0m\n\u001b[0m\u001b[1;32m      3\u001b[0m \u001b[0;31m# It thinks youre trying to concatenate the number to the list\u001b[0m\u001b[0;34m\u001b[0m\u001b[0;34m\u001b[0m\u001b[0;34m\u001b[0m\u001b[0m\n",
      "\u001b[0;31mTypeError\u001b[0m: can only concatenate list (not \"int\") to list"
     ]
    }
   ],
   "source": [
    "# 13\n",
    "nums+1\n",
    "# It thinks youre trying to concatenate the number to the list"
   ]
  },
  {
   "cell_type": "code",
   "execution_count": 25,
   "id": "a5fcfdea",
   "metadata": {},
   "outputs": [
    {
     "ename": "TypeError",
     "evalue": "unsupported operand type(s) for -: 'list' and 'int'",
     "output_type": "error",
     "traceback": [
      "\u001b[0;31m---------------------------------------------------------------------------\u001b[0m",
      "\u001b[0;31mTypeError\u001b[0m                                 Traceback (most recent call last)",
      "\u001b[0;32m/var/folders/dl/pczkvbw15215r_302bklrz2m0000gq/T/ipykernel_79732/3208400545.py\u001b[0m in \u001b[0;36m<module>\u001b[0;34m\u001b[0m\n\u001b[1;32m      1\u001b[0m \u001b[0;31m# 13\u001b[0m\u001b[0;34m\u001b[0m\u001b[0;34m\u001b[0m\u001b[0;34m\u001b[0m\u001b[0m\n\u001b[0;32m----> 2\u001b[0;31m \u001b[0mnums\u001b[0m\u001b[0;34m-\u001b[0m\u001b[0;36m2\u001b[0m\u001b[0;34m\u001b[0m\u001b[0;34m\u001b[0m\u001b[0m\n\u001b[0m\u001b[1;32m      3\u001b[0m \u001b[0;31m# you can't use a minus sign on a list\u001b[0m\u001b[0;34m\u001b[0m\u001b[0;34m\u001b[0m\u001b[0;34m\u001b[0m\u001b[0m\n",
      "\u001b[0;31mTypeError\u001b[0m: unsupported operand type(s) for -: 'list' and 'int'"
     ]
    }
   ],
   "source": [
    "# 14\n",
    "nums-2\n",
    "# you can't use a minus sign on a list"
   ]
  },
  {
   "cell_type": "code",
   "execution_count": 26,
   "id": "5fb1d386",
   "metadata": {},
   "outputs": [
    {
     "data": {
      "text/plain": [
       "[]"
      ]
     },
     "execution_count": 26,
     "metadata": {},
     "output_type": "execute_result"
    }
   ],
   "source": [
    "# 15\n",
    "nums*-1\n",
    "# this returns an empty list. This is the same as removing the list contents"
   ]
  },
  {
   "cell_type": "code",
   "execution_count": 43,
   "id": "ebab78ff",
   "metadata": {},
   "outputs": [
    {
     "ename": "TypeError",
     "evalue": "unsupported operand type(s) for /: 'list' and 'int'",
     "output_type": "error",
     "traceback": [
      "\u001b[0;31m---------------------------------------------------------------------------\u001b[0m",
      "\u001b[0;31mTypeError\u001b[0m                                 Traceback (most recent call last)",
      "\u001b[0;32m/var/folders/dl/pczkvbw15215r_302bklrz2m0000gq/T/ipykernel_79732/1640478735.py\u001b[0m in \u001b[0;36m<module>\u001b[0;34m\u001b[0m\n\u001b[1;32m      1\u001b[0m \u001b[0;31m# 16\u001b[0m\u001b[0;34m\u001b[0m\u001b[0;34m\u001b[0m\u001b[0;34m\u001b[0m\u001b[0m\n\u001b[0;32m----> 2\u001b[0;31m \u001b[0mnums\u001b[0m\u001b[0;34m/\u001b[0m\u001b[0;36m2\u001b[0m\u001b[0;34m\u001b[0m\u001b[0;34m\u001b[0m\u001b[0m\n\u001b[0m",
      "\u001b[0;31mTypeError\u001b[0m: unsupported operand type(s) for /: 'list' and 'int'"
     ]
    }
   ],
   "source": [
    "# 16\n",
    "nums/2"
   ]
  },
  {
   "cell_type": "code",
   "execution_count": 27,
   "id": "cb9059a4",
   "metadata": {},
   "outputs": [
    {
     "ename": "TypeError",
     "evalue": "unsupported operand type(s) for ** or pow(): 'list' and 'int'",
     "output_type": "error",
     "traceback": [
      "\u001b[0;31m---------------------------------------------------------------------------\u001b[0m",
      "\u001b[0;31mTypeError\u001b[0m                                 Traceback (most recent call last)",
      "\u001b[0;32m/var/folders/dl/pczkvbw15215r_302bklrz2m0000gq/T/ipykernel_79732/2662677748.py\u001b[0m in \u001b[0;36m<module>\u001b[0;34m\u001b[0m\n\u001b[1;32m      1\u001b[0m \u001b[0;31m# 5\u001b[0m\u001b[0;34m\u001b[0m\u001b[0;34m\u001b[0m\u001b[0;34m\u001b[0m\u001b[0m\n\u001b[0;32m----> 2\u001b[0;31m \u001b[0mnums\u001b[0m\u001b[0;34m**\u001b[0m\u001b[0;36m2\u001b[0m\u001b[0;34m\u001b[0m\u001b[0;34m\u001b[0m\u001b[0m\n\u001b[0m\u001b[1;32m      3\u001b[0m \u001b[0;31m# you can't square a list, or use any power\u001b[0m\u001b[0;34m\u001b[0m\u001b[0;34m\u001b[0m\u001b[0;34m\u001b[0m\u001b[0m\n",
      "\u001b[0;31mTypeError\u001b[0m: unsupported operand type(s) for ** or pow(): 'list' and 'int'"
     ]
    }
   ],
   "source": [
    "# 17\n",
    "nums**2\n",
    "# you can't square a list, or use any power"
   ]
  },
  {
   "cell_type": "markdown",
   "id": "e0c34a68",
   "metadata": {},
   "source": [
    "Lists are not designed to handle numbers in this way.\n",
    "\n",
    "We can use another sort of array, a numpy array. "
   ]
  },
  {
   "cell_type": "markdown",
   "id": "e4777b91",
   "metadata": {},
   "source": [
    "# Numpy Arrays\n",
    "\n",
    "These arrays allows us to "
   ]
  },
  {
   "cell_type": "code",
   "execution_count": 28,
   "id": "bada5172",
   "metadata": {},
   "outputs": [],
   "source": [
    "# 18\n",
    "# need to import the numpy library.\n",
    "# this imports the library and gives it the nickname 'np' so i don't have to write it out each time\n",
    "# it will take a few seconds, as it is loaded in to the computers memory\n",
    "import numpy as np\n",
    "\n",
    "arr = np.array(nums) \n",
    "# this initiallises another array using the list we already have"
   ]
  },
  {
   "cell_type": "markdown",
   "id": "31ab3941",
   "metadata": {},
   "source": [
    "Questions: \n",
    "\n",
    "1. Try adding a value to the whole array\n",
    "\n",
    "2. Try subtracting a value from the whole array\n",
    "\n",
    "3. Try timesing the array by minus 1\n",
    "\n",
    "4. Try squaring the array (**2)\n",
    "\n"
   ]
  },
  {
   "cell_type": "code",
   "execution_count": 12,
   "id": "2671a8cd",
   "metadata": {},
   "outputs": [
    {
     "data": {
      "text/plain": [
       "array([ 2,  3,  4,  5,  6,  7,  8,  9, 10, 11])"
      ]
     },
     "execution_count": 12,
     "metadata": {},
     "output_type": "execute_result"
    }
   ],
   "source": [
    "# 19\n",
    "# Question 1\n",
    "arr+1"
   ]
  },
  {
   "cell_type": "code",
   "execution_count": 13,
   "id": "3af1d6aa",
   "metadata": {},
   "outputs": [
    {
     "data": {
      "text/plain": [
       "array([-2, -1,  0,  1,  2,  3,  4,  5,  6,  7])"
      ]
     },
     "execution_count": 13,
     "metadata": {},
     "output_type": "execute_result"
    }
   ],
   "source": [
    "# 20\n",
    "# Question 2\n",
    "arr-3"
   ]
  },
  {
   "cell_type": "code",
   "execution_count": 14,
   "id": "94c96c5d",
   "metadata": {},
   "outputs": [
    {
     "data": {
      "text/plain": [
       "array([ -1,  -2,  -3,  -4,  -5,  -6,  -7,  -8,  -9, -10])"
      ]
     },
     "execution_count": 14,
     "metadata": {},
     "output_type": "execute_result"
    }
   ],
   "source": [
    "# 21\n",
    "# Question 3\n",
    "arr*-1"
   ]
  },
  {
   "cell_type": "code",
   "execution_count": 15,
   "id": "511d1ec5",
   "metadata": {},
   "outputs": [
    {
     "name": "stdout",
     "output_type": "stream",
     "text": [
      "[  1   4   9  16  25  36  49  64  81 100]\n",
      "[  1   4   9  16  25  36  49  64  81 100]\n"
     ]
    }
   ],
   "source": [
    "# 22\n",
    "# Question 4\n",
    "# can multiply the array with itself\n",
    "print(arr*arr)\n",
    "# or can use ** to mean power.. \n",
    "print(arr**2)\n"
   ]
  },
  {
   "cell_type": "markdown",
   "id": "3ce839e5",
   "metadata": {},
   "source": [
    "For each of these the array is treated as a single value, and the same thing is done to each element in it. This makes for much neater code than using a for loop. "
   ]
  },
  {
   "cell_type": "markdown",
   "id": "68f40641",
   "metadata": {},
   "source": [
    "# Plotting"
   ]
  },
  {
   "cell_type": "markdown",
   "id": "f150ba6d",
   "metadata": {},
   "source": [
    "We can plot graphs of these arrays using the `matplotlib.pyplot` library. \n",
    "\n",
    "First you will need to import this library"
   ]
  },
  {
   "cell_type": "code",
   "execution_count": 29,
   "id": "2a65dcc5",
   "metadata": {},
   "outputs": [],
   "source": [
    "# 23\n",
    "import matplotlib.pyplot as plt"
   ]
  },
  {
   "cell_type": "code",
   "execution_count": 30,
   "id": "46e85752",
   "metadata": {},
   "outputs": [
    {
     "data": {
      "image/png": "[encoded data removed]",
      "text/plain": [
       "<Figure size 432x288 with 1 Axes>"
      ]
     },
     "metadata": {
      "needs_background": "light"
     },
     "output_type": "display_data"
    }
   ],
   "source": [
    "# 24\n",
    "# the semi colon stops the expression returning an object. Try without and see what you get\n",
    "plt.plot(arr, arr**2, 'b');  # this plots points with x value my_arr, and y value my_arr**2"
   ]
  },
  {
   "cell_type": "markdown",
   "id": "b97316b9",
   "metadata": {},
   "source": [
    "Graphs should have titles and axes labels"
   ]
  },
  {
   "cell_type": "code",
   "execution_count": 31,
   "id": "99734b08",
   "metadata": {},
   "outputs": [
    {
     "data": {
      "image/png": "[encoded data removed]",
      "text/plain": [
       "<Figure size 432x288 with 1 Axes>"
      ]
     },
     "metadata": {
      "needs_background": "light"
     },
     "output_type": "display_data"
    }
   ],
   "source": [
    "# 25\n",
    "plt.plot(arr, arr**2, 'g') #you can use different colours by changing 'b'\n",
    "plt.title('Graph to show array squared')\n",
    "plt.xlabel('$arr$') \n",
    "plt.ylabel('$arr^2$'); # the dollar signs allow latex notation to be used, so ^ gives superscript;"
   ]
  },
  {
   "cell_type": "markdown",
   "id": "a2688548",
   "metadata": {},
   "source": [
    "You can plot more than one set of data on the same graph. This is useful for direclty comparing data. "
   ]
  },
  {
   "cell_type": "code",
   "execution_count": 32,
   "id": "8a673cbc",
   "metadata": {},
   "outputs": [
    {
     "data": {
      "image/png": "[encoded data removed]",
      "text/plain": [
       "<Figure size 432x288 with 1 Axes>"
      ]
     },
     "metadata": {
      "needs_background": "light"
     },
     "output_type": "display_data"
    }
   ],
   "source": [
    "# 26\n",
    "plt.plot(arr, arr**2, 'b', label=r\"$y = x^2$\") #the label argument means we can use plt.legend() to see which line is which\n",
    "plt.plot(arr, arr*5, 'g', label=r\"$y = 5x$\")  # if we use 'r' before the string it means we can use dollar signs to enclose the maths\n",
    "plt.title(r'Graph to $y$ vs $x$')\n",
    "plt.legend()\n",
    "plt.xlabel('$x$') \n",
    "plt.ylabel('$y$'); # the dollar signs allow latex notation to be used, so ^ gives superscript;"
   ]
  },
  {
   "cell_type": "markdown",
   "id": "1e6149b1",
   "metadata": {},
   "source": [
    "TODO: \n",
    "- Define an array of numbers 1 to 10 as a numpy array\n",
    "- Plot a graph of $x$ vs $x^3$\n",
    "- make sure your graph has correct title and labels"
   ]
  },
  {
   "cell_type": "code",
   "execution_count": 21,
   "id": "4ab426d7",
   "metadata": {},
   "outputs": [
    {
     "data": {
      "image/png": "[encoded data removed]",
      "text/plain": [
       "<Figure size 432x288 with 1 Axes>"
      ]
     },
     "metadata": {
      "needs_background": "light"
     },
     "output_type": "display_data"
    }
   ],
   "source": [
    "# 27\n",
    "plt.plot(arr, arr**3, 'g') #you can use different colours by changing 'b'\n",
    "plt.title('Graph to show array cubed')\n",
    "plt.xlabel('$arr$') \n",
    "plt.ylabel('$arr^3$'); # the dollar signs allow latex notation to be used, so ^ gives superscript;"
   ]
  },
  {
   "cell_type": "markdown",
   "id": "2b96e1b1",
   "metadata": {},
   "source": [
    "We can plot data from many different sources. For example, you can look up the boiling points of the first 10 alkanes, and plot those. "
   ]
  },
  {
   "cell_type": "markdown",
   "id": "53f0ce30",
   "metadata": {},
   "source": [
    "TODO:\n",
    "- Look up the boiling points of the first 10 straight chain alkanes in K\n",
    "  - You can use google, or the Nuffield Data Book pg 102\n",
    "- make an array with them in\n",
    "- plot the graph of number of carbons vs boiling points\n",
    "- ensure your graph has a title and axis labels\n"
   ]
  },
  {
   "cell_type": "markdown",
   "id": "1712c7f4",
   "metadata": {},
   "source": []
  },
  {
   "cell_type": "code",
   "execution_count": 34,
   "id": "40c45cf6",
   "metadata": {},
   "outputs": [
    {
     "data": {
      "image/png": "[encoded data removed]",
      "text/plain": [
       "<Figure size 432x288 with 1 Axes>"
      ]
     },
     "metadata": {
      "needs_background": "light"
     },
     "output_type": "display_data"
    }
   ],
   "source": [
    "# 28\n",
    "bpts_k=np.array([109.1, 184.5, 231, 272.6, 309.2, 342.1, 371.5, 398.8, 423.9, 447.2])\n",
    "# using range for number of carbons\n",
    "plt.plot(range(1,11), bpts_k, 'g') #you can use different colours by changing 'b'\n",
    "# can also just use the previously defined array arr\n",
    "plt.plot(arr, bpts_k, 'g') # \n",
    "plt.title('Graph to show Boiling points of straight chain alkanes vs number of carbons')\n",
    "plt.xlabel(r'$N^o$ Carbons') \n",
    "plt.ylabel(r'Bpt $(K)$'); # the dollar signs allow latex notation to be used, so ^ gives superscript;\n"
   ]
  },
  {
   "cell_type": "markdown",
   "id": "33ba7a3b",
   "metadata": {},
   "source": [
    "If you finish:\n",
    "Look up the melting points in the same way, and plot them on the same graph, make sure it is clear which line is which. \n",
    "\n"
   ]
  },
  {
   "cell_type": "code",
   "execution_count": 35,
   "id": "d2de99fa",
   "metadata": {},
   "outputs": [
    {
     "data": {
      "image/png": "[encoded data removed]",
      "text/plain": [
       "<Figure size 432x288 with 1 Axes>"
      ]
     },
     "metadata": {
      "needs_background": "light"
     },
     "output_type": "display_data"
    }
   ],
   "source": [
    "# 29\n",
    "mpts_k = np.array([91.1, 89.8, 83.4, 134.7, 142.1, 178.1, 182.5, 216.3, 222.1, 243.4])\n",
    "plt.plot(arr, bpts_k, 'g', label=\"Bpt\") # \n",
    "plt.plot(arr, mpts_k, 'b', label=\"Mpt\")# \n",
    "plt.title('Graph to show Boiling points of straight chain alkanes vs number of carbons')\n",
    "plt.xlabel(r'$N^o$ Carbons') \n",
    "plt.ylabel(r'Temperature $(K)$') # \n",
    "plt.legend()\n",
    "plt.grid(); # the grid makes it easier to read"
   ]
  },
  {
   "cell_type": "markdown",
   "id": "4653d2e8",
   "metadata": {},
   "source": [
    "To do: \n",
    "\n",
    "- change the units of all your temperatures to $^oC$\n",
    "- plot them again\n",
    "- change the labels and title as appropriate"
   ]
  },
  {
   "cell_type": "code",
   "execution_count": 38,
   "id": "de2facf0",
   "metadata": {},
   "outputs": [
    {
     "data": {
      "image/png": "[encoded data removed]",
      "text/plain": [
       "<Figure size 432x288 with 1 Axes>"
      ]
     },
     "metadata": {
      "needs_background": "light"
     },
     "output_type": "display_data"
    }
   ],
   "source": [
    "# 30\n",
    "# using arrays makes this much easier\n",
    "bpts_C = bpts_k-273\n",
    "mpts_C = mpts_k-273\n",
    "\n",
    "plt.plot(arr, bpts_C, 'g', label=\"Bpt\") # \n",
    "plt.plot(arr, mpts_C, 'b', label=\"Mpt\")# \n",
    "plt.title('Graph to show Boiling points of straight chain alkanes vs number of carbons')\n",
    "plt.xlabel(r'$N^o$ Carbons') \n",
    "plt.ylabel(r'Temperature $(^oC)$') # \n",
    "plt.legend()\n",
    "plt.grid(); # the grid makes it easier to read"
   ]
  }
 ],
 "metadata": {
  "kernelspec": {
   "display_name": "Python 3 (ipykernel)",
   "language": "python",
   "name": "python3"
  },
  "language_info": {
   "codemirror_mode": {
    "name": "ipython",
    "version": 3
   },
   "file_extension": ".py",
   "mimetype": "text/x-python",
   "name": "python",
   "nbconvert_exporter": "python",
   "pygments_lexer": "ipython3",
   "version": "3.8.12"
  }
 },
 "nbformat": 4,
 "nbformat_minor": 5
}
