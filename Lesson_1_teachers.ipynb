{
 "cells": [
  {
   "cell_type": "markdown",
   "id": "6696d98b-49f9-4ba9-8016-a683c06991b1",
   "metadata": {},
   "source": [
    "# Introduction to Python in Chemistry Lesson 1 - Teachers Guide"
   ]
  },
  {
   "cell_type": "markdown",
   "id": "b46b9359-f07d-4cf1-9391-28d3601459bd",
   "metadata": {},
   "source": [
    "Please first run the import cells below, this gives us the useful software packages we need. "
   ]
  },
  {
   "cell_type": "code",
   "execution_count": 1,
   "id": "ad1e4a63-913a-45f9-94b7-8ab73de37926",
   "metadata": {},
   "outputs": [],
   "source": [
    "import matplotlib.pyplot as plt\n",
    "from rdkit import Chem\n",
    "from rdkit.Chem.rdMolDescriptors import CalcExactMolWt, CalcMolFormula\n",
    "from rdkit.Chem import Draw"
   ]
  },
  {
   "cell_type": "markdown",
   "id": "29f1f304-53e0-49f8-bd3c-997407750eaa",
   "metadata": {},
   "source": [
    "Now we need to use rdkit to give us a molecule. We will start with Ethane. Computers are not good at understanding names, or pictures, so we use a code, rather like our formula.\n",
    "\n",
    "Ethane is represented by a set of letters called a 'SMILES' string. Any text in python is called a 'string'\n"
   ]
  },
  {
   "cell_type": "code",
   "execution_count": 2,
   "id": "d4daa045-f7bb-429a-83be-e708813c3bd1",
   "metadata": {},
   "outputs": [
    {
     "data": {
      "image/png": "[encoded data removed]",
      "text/plain": [
       "<rdkit.Chem.rdchem.Mol at 0x7f8f78922740>"
      ]
     },
     "execution_count": 2,
     "metadata": {},
     "output_type": "execute_result"
    }
   ],
   "source": [
    "Chem.MolFromSmiles('CC')\n"
   ]
  },
  {
   "cell_type": "markdown",
   "id": "4d32741d-8a28-48ca-9b06-275fb53d4958",
   "metadata": {},
   "source": [
    "The code above takes in the smiles string 'CC' which represents ethane, and uses the rdkit 'Chem' library to decode it, and makes a 'molecule' object from it. This is then represented by the notebook as it's skeletal formula, where appropriate.\n",
    "\n",
    "We can save this information in a variable, for clarity, lets use the molecules name ethane."
   ]
  },
  {
   "cell_type": "code",
   "execution_count": 3,
   "id": "2825f7cf-2d0d-4b6d-be39-bf708595367d",
   "metadata": {},
   "outputs": [],
   "source": [
    "ethane=Chem.MolFromSmiles('CC')"
   ]
  },
  {
   "cell_type": "markdown",
   "id": "95f7fdbf-5314-48a0-bce4-34dcff1e5ffc",
   "metadata": {},
   "source": [
    "saving the object in a variable stops the notebook from outputting the picture.\n",
    "\n",
    "We can just type the name of the variable again to get the output."
   ]
  },
  {
   "cell_type": "code",
   "execution_count": 4,
   "id": "90402a52-2ba5-470f-9022-3a481d163a55",
   "metadata": {},
   "outputs": [
    {
     "data": {
      "image/png": "[encoded data removed]",
      "text/plain": [
       "<rdkit.Chem.rdchem.Mol at 0x7f8f789226d0>"
      ]
     },
     "execution_count": 4,
     "metadata": {},
     "output_type": "execute_result"
    }
   ],
   "source": [
    "ethane"
   ]
  },
  {
   "cell_type": "markdown",
   "id": "8df1c78d-4b6c-444b-8d48-a36387520c76",
   "metadata": {},
   "source": [
    "This molecule object is saved with the name ethane. This variable now represents the molecule object.\n",
    "\n",
    "We can get useful information from this object. We can calculate its molecular weight - Check it!"
   ]
  },
  {
   "cell_type": "code",
   "execution_count": 5,
   "id": "ae620a44-0110-4959-808b-5d92b980bff5",
   "metadata": {},
   "outputs": [
    {
     "data": {
      "text/plain": [
       "30.046950192"
      ]
     },
     "execution_count": 5,
     "metadata": {},
     "output_type": "execute_result"
    }
   ],
   "source": [
    "CalcExactMolWt(ethane)\n"
   ]
  },
  {
   "cell_type": "markdown",
   "id": "2e208b39-5739-4cc8-b2ba-10a47ebe992e",
   "metadata": {},
   "source": [
    "We can also calculate its molecular formula: - Check it!"
   ]
  },
  {
   "cell_type": "code",
   "execution_count": 6,
   "id": "41c9ffff-e359-4aa3-9e36-827c5e404a0e",
   "metadata": {},
   "outputs": [
    {
     "data": {
      "text/plain": [
       "'C2H6'"
      ]
     },
     "execution_count": 6,
     "metadata": {},
     "output_type": "execute_result"
    }
   ],
   "source": [
    "CalcMolFormula(ethane)"
   ]
  },
  {
   "cell_type": "markdown",
   "id": "5e28fddb-bf00-4ba9-aef7-de5306d1e669",
   "metadata": {},
   "source": [
    "To draw the molecule out, after it has been saved, we can use the Draw package"
   ]
  },
  {
   "cell_type": "code",
   "execution_count": 7,
   "id": "e5d46704-25f6-4dd1-ab74-a0ad7155b9b9",
   "metadata": {},
   "outputs": [
    {
     "data": {
      "image/jpeg": "[encoded data removed]",
      "image/png": "[encoded data removed]",
      "text/plain": [
       "<PIL.PngImagePlugin.PngImageFile image mode=RGB size=300x300>"
      ]
     },
     "execution_count": 7,
     "metadata": {},
     "output_type": "execute_result"
    }
   ],
   "source": [
    "Draw.MolToImage(ethane)"
   ]
  },
  {
   "cell_type": "markdown",
   "id": "01a837ad-80b9-49b4-a2bd-68c6f57aa831",
   "metadata": {},
   "source": [
    "Can you work out what the smiles string for methane is?\n",
    "\n",
    "Repeat the code above for each of the gases, methane, propane and butane. \n",
    "\n",
    "If you finish, try with other smiles strings, see what you get. Add them to your table. "
   ]
  },
  {
   "cell_type": "markdown",
   "id": "9a33abd1-0a6d-4a96-8ada-0a0f5da72099",
   "metadata": {},
   "source": [
    "There is a better way to repeat code than typing it out again. Try using a *for* loop: next lesson"
   ]
  },
  {
   "cell_type": "code",
   "execution_count": null,
   "id": "fedbfa07-ae99-49b4-b7cd-43200a7691af",
   "metadata": {},
   "outputs": [],
   "source": []
  }
 ],
 "metadata": {
  "kernelspec": {
   "display_name": "Python 3 (ipykernel)",
   "language": "python",
   "name": "python3"
  },
  "language_info": {
   "codemirror_mode": {
    "name": "ipython",
    "version": 3
   },
   "file_extension": ".py",
   "mimetype": "text/x-python",
   "name": "python",
   "nbconvert_exporter": "python",
   "pygments_lexer": "ipython3",
   "version": "3.8.18"
  }
 },
 "nbformat": 4,
 "nbformat_minor": 5
}
